{
  "cells": [
    {
      "cell_type": "code",
      "execution_count": null,
      "id": "d6f21652-af89-4349-8aea-ef11a02e3bf0",
      "metadata": {
        "id": "d6f21652-af89-4349-8aea-ef11a02e3bf0"
      },
      "outputs": [],
      "source": [
        "import numpy as np\n",
        "import pandas as pd\n",
        "import matplotlib.pyplot as plt\n",
        "import seaborn as sns\n",
        "\n",
        "%matplotlib inline"
      ]
    },
    {
      "cell_type": "markdown",
      "id": "8d76a186-b98e-42d6-b25d-ba8a4695d61d",
      "metadata": {
        "id": "8d76a186-b98e-42d6-b25d-ba8a4695d61d"
      },
      "source": [
        "# Удаление дубликатов в данных"
      ]
    },
    {
      "cell_type": "code",
      "execution_count": null,
      "id": "98d48bd8-57a1-4930-b5c1-8d332d471f64",
      "metadata": {
        "id": "98d48bd8-57a1-4930-b5c1-8d332d471f64",
        "outputId": "f89ae696-f4c1-41eb-e11f-dcbd07cc81cb"
      },
      "outputs": [
        {
          "data": {
            "text/html": [
              "<div>\n",
              "<style scoped>\n",
              "    .dataframe tbody tr th:only-of-type {\n",
              "        vertical-align: middle;\n",
              "    }\n",
              "\n",
              "    .dataframe tbody tr th {\n",
              "        vertical-align: top;\n",
              "    }\n",
              "\n",
              "    .dataframe thead th {\n",
              "        text-align: right;\n",
              "    }\n",
              "</style>\n",
              "<table border=\"1\" class=\"dataframe\">\n",
              "  <thead>\n",
              "    <tr style=\"text-align: right;\">\n",
              "      <th></th>\n",
              "      <th>k1</th>\n",
              "      <th>k2</th>\n",
              "      <th>k3</th>\n",
              "      <th>k4</th>\n",
              "    </tr>\n",
              "  </thead>\n",
              "  <tbody>\n",
              "    <tr>\n",
              "      <th>0</th>\n",
              "      <td>one</td>\n",
              "      <td>1</td>\n",
              "      <td>1</td>\n",
              "      <td>1</td>\n",
              "    </tr>\n",
              "    <tr>\n",
              "      <th>1</th>\n",
              "      <td>two</td>\n",
              "      <td>1</td>\n",
              "      <td>1</td>\n",
              "      <td>1</td>\n",
              "    </tr>\n",
              "    <tr>\n",
              "      <th>2</th>\n",
              "      <td>one</td>\n",
              "      <td>2</td>\n",
              "      <td>2</td>\n",
              "      <td>1</td>\n",
              "    </tr>\n",
              "    <tr>\n",
              "      <th>3</th>\n",
              "      <td>two</td>\n",
              "      <td>3</td>\n",
              "      <td>3</td>\n",
              "      <td>1</td>\n",
              "    </tr>\n",
              "    <tr>\n",
              "      <th>4</th>\n",
              "      <td>one</td>\n",
              "      <td>3</td>\n",
              "      <td>3</td>\n",
              "      <td>1</td>\n",
              "    </tr>\n",
              "    <tr>\n",
              "      <th>5</th>\n",
              "      <td>two</td>\n",
              "      <td>4</td>\n",
              "      <td>4</td>\n",
              "      <td>1</td>\n",
              "    </tr>\n",
              "    <tr>\n",
              "      <th>6</th>\n",
              "      <td>two</td>\n",
              "      <td>4</td>\n",
              "      <td>4</td>\n",
              "      <td>1</td>\n",
              "    </tr>\n",
              "  </tbody>\n",
              "</table>\n",
              "</div>"
            ],
            "text/plain": [
              "    k1  k2  k3  k4\n",
              "0  one   1   1   1\n",
              "1  two   1   1   1\n",
              "2  one   2   2   1\n",
              "3  two   3   3   1\n",
              "4  one   3   3   1\n",
              "5  two   4   4   1\n",
              "6  two   4   4   1"
            ]
          },
          "execution_count": 51,
          "metadata": {},
          "output_type": "execute_result"
        }
      ],
      "source": [
        "data = pd.DataFrame({\"k1\": [\"one\", \"two\"] * 3 + [\"two\"], \"k2\": [1, 1, 2, 3, 3, 4, 4],\n",
        "                     \"k3\": [1, 1, 2, 3, 3, 4, 4], \"k4\":[1, 1, 1, 1, 1, 1, 1]})\n",
        "data"
      ]
    },
    {
      "cell_type": "code",
      "execution_count": null,
      "id": "bb74a899-e100-4b5b-8739-d4d3588d8b26",
      "metadata": {
        "id": "bb74a899-e100-4b5b-8739-d4d3588d8b26",
        "outputId": "d7f98bbb-6984-4087-a277-1741aceadbf5"
      },
      "outputs": [
        {
          "data": {
            "text/plain": [
              "0    False\n",
              "1    False\n",
              "2    False\n",
              "3    False\n",
              "4    False\n",
              "5    False\n",
              "6     True\n",
              "dtype: bool"
            ]
          },
          "execution_count": 52,
          "metadata": {},
          "output_type": "execute_result"
        }
      ],
      "source": [
        "data.duplicated()"
      ]
    },
    {
      "cell_type": "code",
      "execution_count": null,
      "id": "cef50624-aac3-4f64-b835-e47931da670e",
      "metadata": {
        "id": "cef50624-aac3-4f64-b835-e47931da670e",
        "outputId": "569a5ece-a775-42d1-f427-b3891fbbdc3b"
      },
      "outputs": [
        {
          "data": {
            "text/html": [
              "<div>\n",
              "<style scoped>\n",
              "    .dataframe tbody tr th:only-of-type {\n",
              "        vertical-align: middle;\n",
              "    }\n",
              "\n",
              "    .dataframe tbody tr th {\n",
              "        vertical-align: top;\n",
              "    }\n",
              "\n",
              "    .dataframe thead th {\n",
              "        text-align: right;\n",
              "    }\n",
              "</style>\n",
              "<table border=\"1\" class=\"dataframe\">\n",
              "  <thead>\n",
              "    <tr style=\"text-align: right;\">\n",
              "      <th></th>\n",
              "      <th>k1</th>\n",
              "      <th>k2</th>\n",
              "      <th>k3</th>\n",
              "      <th>k4</th>\n",
              "    </tr>\n",
              "  </thead>\n",
              "  <tbody>\n",
              "    <tr>\n",
              "      <th>0</th>\n",
              "      <td>one</td>\n",
              "      <td>1</td>\n",
              "      <td>1</td>\n",
              "      <td>1</td>\n",
              "    </tr>\n",
              "    <tr>\n",
              "      <th>1</th>\n",
              "      <td>two</td>\n",
              "      <td>1</td>\n",
              "      <td>1</td>\n",
              "      <td>1</td>\n",
              "    </tr>\n",
              "    <tr>\n",
              "      <th>2</th>\n",
              "      <td>one</td>\n",
              "      <td>2</td>\n",
              "      <td>2</td>\n",
              "      <td>1</td>\n",
              "    </tr>\n",
              "    <tr>\n",
              "      <th>3</th>\n",
              "      <td>two</td>\n",
              "      <td>3</td>\n",
              "      <td>3</td>\n",
              "      <td>1</td>\n",
              "    </tr>\n",
              "    <tr>\n",
              "      <th>4</th>\n",
              "      <td>one</td>\n",
              "      <td>3</td>\n",
              "      <td>3</td>\n",
              "      <td>1</td>\n",
              "    </tr>\n",
              "    <tr>\n",
              "      <th>5</th>\n",
              "      <td>two</td>\n",
              "      <td>4</td>\n",
              "      <td>4</td>\n",
              "      <td>1</td>\n",
              "    </tr>\n",
              "  </tbody>\n",
              "</table>\n",
              "</div>"
            ],
            "text/plain": [
              "    k1  k2  k3  k4\n",
              "0  one   1   1   1\n",
              "1  two   1   1   1\n",
              "2  one   2   2   1\n",
              "3  two   3   3   1\n",
              "4  one   3   3   1\n",
              "5  two   4   4   1"
            ]
          },
          "execution_count": 54,
          "metadata": {},
          "output_type": "execute_result"
        }
      ],
      "source": [
        "data.drop_duplicates()"
      ]
    },
    {
      "cell_type": "code",
      "execution_count": null,
      "id": "00f18e5b-97d2-4728-8993-fb28590196a2",
      "metadata": {
        "id": "00f18e5b-97d2-4728-8993-fb28590196a2",
        "outputId": "34f9fe55-3f15-46cd-8ea6-c3807a880a30"
      },
      "outputs": [
        {
          "data": {
            "text/html": [
              "<div>\n",
              "<style scoped>\n",
              "    .dataframe tbody tr th:only-of-type {\n",
              "        vertical-align: middle;\n",
              "    }\n",
              "\n",
              "    .dataframe tbody tr th {\n",
              "        vertical-align: top;\n",
              "    }\n",
              "\n",
              "    .dataframe thead th {\n",
              "        text-align: right;\n",
              "    }\n",
              "</style>\n",
              "<table border=\"1\" class=\"dataframe\">\n",
              "  <thead>\n",
              "    <tr style=\"text-align: right;\">\n",
              "      <th></th>\n",
              "      <th>k1</th>\n",
              "      <th>k2</th>\n",
              "      <th>k4</th>\n",
              "    </tr>\n",
              "  </thead>\n",
              "  <tbody>\n",
              "    <tr>\n",
              "      <th>0</th>\n",
              "      <td>one</td>\n",
              "      <td>1</td>\n",
              "      <td>1</td>\n",
              "    </tr>\n",
              "    <tr>\n",
              "      <th>1</th>\n",
              "      <td>two</td>\n",
              "      <td>1</td>\n",
              "      <td>1</td>\n",
              "    </tr>\n",
              "    <tr>\n",
              "      <th>2</th>\n",
              "      <td>one</td>\n",
              "      <td>2</td>\n",
              "      <td>1</td>\n",
              "    </tr>\n",
              "    <tr>\n",
              "      <th>3</th>\n",
              "      <td>two</td>\n",
              "      <td>3</td>\n",
              "      <td>1</td>\n",
              "    </tr>\n",
              "    <tr>\n",
              "      <th>4</th>\n",
              "      <td>one</td>\n",
              "      <td>3</td>\n",
              "      <td>1</td>\n",
              "    </tr>\n",
              "    <tr>\n",
              "      <th>5</th>\n",
              "      <td>two</td>\n",
              "      <td>4</td>\n",
              "      <td>1</td>\n",
              "    </tr>\n",
              "    <tr>\n",
              "      <th>6</th>\n",
              "      <td>two</td>\n",
              "      <td>4</td>\n",
              "      <td>1</td>\n",
              "    </tr>\n",
              "  </tbody>\n",
              "</table>\n",
              "</div>"
            ],
            "text/plain": [
              "    k1 k2 k4\n",
              "0  one  1  1\n",
              "1  two  1  1\n",
              "2  one  2  1\n",
              "3  two  3  1\n",
              "4  one  3  1\n",
              "5  two  4  1\n",
              "6  two  4  1"
            ]
          },
          "execution_count": 55,
          "metadata": {},
          "output_type": "execute_result"
        }
      ],
      "source": [
        "data.T.drop_duplicates().T"
      ]
    },
    {
      "cell_type": "code",
      "execution_count": null,
      "id": "82e65c60-6af0-4531-b097-c70fe60a8fae",
      "metadata": {
        "id": "82e65c60-6af0-4531-b097-c70fe60a8fae",
        "outputId": "b41732d8-8224-4f3a-d817-0a272a68e233"
      },
      "outputs": [
        {
          "data": {
            "text/html": [
              "<div>\n",
              "<style scoped>\n",
              "    .dataframe tbody tr th:only-of-type {\n",
              "        vertical-align: middle;\n",
              "    }\n",
              "\n",
              "    .dataframe tbody tr th {\n",
              "        vertical-align: top;\n",
              "    }\n",
              "\n",
              "    .dataframe thead th {\n",
              "        text-align: right;\n",
              "    }\n",
              "</style>\n",
              "<table border=\"1\" class=\"dataframe\">\n",
              "  <thead>\n",
              "    <tr style=\"text-align: right;\">\n",
              "      <th></th>\n",
              "      <th>k1</th>\n",
              "      <th>k2</th>\n",
              "      <th>k3</th>\n",
              "    </tr>\n",
              "  </thead>\n",
              "  <tbody>\n",
              "    <tr>\n",
              "      <th>0</th>\n",
              "      <td>one</td>\n",
              "      <td>1</td>\n",
              "      <td>1</td>\n",
              "    </tr>\n",
              "    <tr>\n",
              "      <th>1</th>\n",
              "      <td>two</td>\n",
              "      <td>1</td>\n",
              "      <td>1</td>\n",
              "    </tr>\n",
              "    <tr>\n",
              "      <th>2</th>\n",
              "      <td>one</td>\n",
              "      <td>2</td>\n",
              "      <td>2</td>\n",
              "    </tr>\n",
              "    <tr>\n",
              "      <th>3</th>\n",
              "      <td>two</td>\n",
              "      <td>3</td>\n",
              "      <td>3</td>\n",
              "    </tr>\n",
              "    <tr>\n",
              "      <th>4</th>\n",
              "      <td>one</td>\n",
              "      <td>3</td>\n",
              "      <td>3</td>\n",
              "    </tr>\n",
              "    <tr>\n",
              "      <th>5</th>\n",
              "      <td>two</td>\n",
              "      <td>4</td>\n",
              "      <td>4</td>\n",
              "    </tr>\n",
              "    <tr>\n",
              "      <th>6</th>\n",
              "      <td>two</td>\n",
              "      <td>4</td>\n",
              "      <td>4</td>\n",
              "    </tr>\n",
              "  </tbody>\n",
              "</table>\n",
              "</div>"
            ],
            "text/plain": [
              "    k1  k2  k3\n",
              "0  one   1   1\n",
              "1  two   1   1\n",
              "2  one   2   2\n",
              "3  two   3   3\n",
              "4  one   3   3\n",
              "5  two   4   4\n",
              "6  two   4   4"
            ]
          },
          "execution_count": 60,
          "metadata": {},
          "output_type": "execute_result"
        }
      ],
      "source": [
        "data.drop(data.columns[data.nunique() == 1], axis=1)"
      ]
    },
    {
      "cell_type": "markdown",
      "id": "f86cc3cf-80d7-4654-965a-19ab2a28c23a",
      "metadata": {
        "id": "f86cc3cf-80d7-4654-965a-19ab2a28c23a"
      },
      "source": [
        "# Заполнение пропусков в данных"
      ]
    },
    {
      "cell_type": "markdown",
      "id": "113ff682-faec-4756-9583-89508f76d3a1",
      "metadata": {
        "id": "113ff682-faec-4756-9583-89508f76d3a1"
      },
      "source": [
        "Nan - маркер отсутствия данных."
      ]
    },
    {
      "cell_type": "code",
      "execution_count": null,
      "id": "0d21c1b4-3c74-44b4-90dd-5979bb3b3678",
      "metadata": {
        "id": "0d21c1b4-3c74-44b4-90dd-5979bb3b3678",
        "outputId": "b4c68ac7-186f-46bf-986a-d6470bdf0e34"
      },
      "outputs": [
        {
          "data": {
            "text/plain": [
              "0    1.2\n",
              "1   -3.5\n",
              "2    NaN\n",
              "3    0.0\n",
              "dtype: float64"
            ]
          },
          "execution_count": 8,
          "metadata": {},
          "output_type": "execute_result"
        }
      ],
      "source": [
        "float_data = pd.Series([1.2, -3.5, np.nan, 0])\n",
        "float_data"
      ]
    },
    {
      "cell_type": "code",
      "execution_count": null,
      "id": "b4a12528-8045-4fb7-8df0-a310b3f0460d",
      "metadata": {
        "id": "b4a12528-8045-4fb7-8df0-a310b3f0460d",
        "outputId": "00fb06c8-cf74-4765-b95d-dffd19a80854"
      },
      "outputs": [
        {
          "data": {
            "text/plain": [
              "0    False\n",
              "1    False\n",
              "2     True\n",
              "3    False\n",
              "dtype: bool"
            ]
          },
          "execution_count": 9,
          "metadata": {},
          "output_type": "execute_result"
        }
      ],
      "source": [
        "float_data.isna()"
      ]
    },
    {
      "cell_type": "code",
      "execution_count": null,
      "id": "46e16862-037d-447b-be6a-cc499dd36c90",
      "metadata": {
        "id": "46e16862-037d-447b-be6a-cc499dd36c90",
        "outputId": "df2017e4-dc3f-4008-ef19-b7bde8b3d695"
      },
      "outputs": [
        {
          "data": {
            "text/plain": [
              "0     True\n",
              "1     True\n",
              "2    False\n",
              "3     True\n",
              "dtype: bool"
            ]
          },
          "execution_count": 10,
          "metadata": {},
          "output_type": "execute_result"
        }
      ],
      "source": [
        "float_data.notna()"
      ]
    },
    {
      "cell_type": "markdown",
      "id": "6870fbfb-24ef-4ead-9ee8-ca78d77f3af9",
      "metadata": {
        "id": "6870fbfb-24ef-4ead-9ee8-ca78d77f3af9"
      },
      "source": [
        "Удаление данных с пропусками"
      ]
    },
    {
      "cell_type": "code",
      "execution_count": null,
      "id": "f93e2d65-3c75-4968-863f-453a93229ec0",
      "metadata": {
        "id": "f93e2d65-3c75-4968-863f-453a93229ec0",
        "outputId": "e8d74a4f-8d89-49d9-f27a-6bab1037d543"
      },
      "outputs": [
        {
          "data": {
            "text/html": [
              "<div>\n",
              "<style scoped>\n",
              "    .dataframe tbody tr th:only-of-type {\n",
              "        vertical-align: middle;\n",
              "    }\n",
              "\n",
              "    .dataframe tbody tr th {\n",
              "        vertical-align: top;\n",
              "    }\n",
              "\n",
              "    .dataframe thead th {\n",
              "        text-align: right;\n",
              "    }\n",
              "</style>\n",
              "<table border=\"1\" class=\"dataframe\">\n",
              "  <thead>\n",
              "    <tr style=\"text-align: right;\">\n",
              "      <th></th>\n",
              "      <th>0</th>\n",
              "      <th>1</th>\n",
              "      <th>2</th>\n",
              "      <th>3</th>\n",
              "    </tr>\n",
              "  </thead>\n",
              "  <tbody>\n",
              "    <tr>\n",
              "      <th>0</th>\n",
              "      <td>1.0</td>\n",
              "      <td>6.5</td>\n",
              "      <td>3.0</td>\n",
              "      <td>NaN</td>\n",
              "    </tr>\n",
              "    <tr>\n",
              "      <th>1</th>\n",
              "      <td>1.0</td>\n",
              "      <td>NaN</td>\n",
              "      <td>NaN</td>\n",
              "      <td>NaN</td>\n",
              "    </tr>\n",
              "    <tr>\n",
              "      <th>2</th>\n",
              "      <td>NaN</td>\n",
              "      <td>NaN</td>\n",
              "      <td>NaN</td>\n",
              "      <td>NaN</td>\n",
              "    </tr>\n",
              "    <tr>\n",
              "      <th>3</th>\n",
              "      <td>NaN</td>\n",
              "      <td>6.5</td>\n",
              "      <td>3.0</td>\n",
              "      <td>NaN</td>\n",
              "    </tr>\n",
              "  </tbody>\n",
              "</table>\n",
              "</div>"
            ],
            "text/plain": [
              "     0    1    2   3\n",
              "0  1.0  6.5  3.0 NaN\n",
              "1  1.0  NaN  NaN NaN\n",
              "2  NaN  NaN  NaN NaN\n",
              "3  NaN  6.5  3.0 NaN"
            ]
          },
          "execution_count": 20,
          "metadata": {},
          "output_type": "execute_result"
        }
      ],
      "source": [
        "data = pd.DataFrame([[1., 6.5, 3., np.nan], [1., np.nan, np.nan, np.nan], [np.nan, np.nan, np.nan, np.nan],\n",
        "                     [np.nan, 6.5, 3., np.nan]])\n",
        "data"
      ]
    },
    {
      "cell_type": "code",
      "execution_count": null,
      "id": "a29a6793-8569-4091-a442-aeffa6aed226",
      "metadata": {
        "id": "a29a6793-8569-4091-a442-aeffa6aed226",
        "outputId": "3a827b00-e62c-4574-87dd-3b97cb32f626"
      },
      "outputs": [
        {
          "data": {
            "text/html": [
              "<div>\n",
              "<style scoped>\n",
              "    .dataframe tbody tr th:only-of-type {\n",
              "        vertical-align: middle;\n",
              "    }\n",
              "\n",
              "    .dataframe tbody tr th {\n",
              "        vertical-align: top;\n",
              "    }\n",
              "\n",
              "    .dataframe thead th {\n",
              "        text-align: right;\n",
              "    }\n",
              "</style>\n",
              "<table border=\"1\" class=\"dataframe\">\n",
              "  <thead>\n",
              "    <tr style=\"text-align: right;\">\n",
              "      <th></th>\n",
              "      <th>0</th>\n",
              "      <th>1</th>\n",
              "      <th>2</th>\n",
              "      <th>3</th>\n",
              "    </tr>\n",
              "  </thead>\n",
              "  <tbody>\n",
              "  </tbody>\n",
              "</table>\n",
              "</div>"
            ],
            "text/plain": [
              "Empty DataFrame\n",
              "Columns: [0, 1, 2, 3]\n",
              "Index: []"
            ]
          },
          "execution_count": 21,
          "metadata": {},
          "output_type": "execute_result"
        }
      ],
      "source": [
        "data.dropna()"
      ]
    },
    {
      "cell_type": "code",
      "execution_count": null,
      "id": "edd894b5-d32d-455f-a293-edd7c8b2fa26",
      "metadata": {
        "id": "edd894b5-d32d-455f-a293-edd7c8b2fa26",
        "outputId": "fffb5962-cbd0-48cf-caa4-a9bf17915681"
      },
      "outputs": [
        {
          "data": {
            "text/html": [
              "<div>\n",
              "<style scoped>\n",
              "    .dataframe tbody tr th:only-of-type {\n",
              "        vertical-align: middle;\n",
              "    }\n",
              "\n",
              "    .dataframe tbody tr th {\n",
              "        vertical-align: top;\n",
              "    }\n",
              "\n",
              "    .dataframe thead th {\n",
              "        text-align: right;\n",
              "    }\n",
              "</style>\n",
              "<table border=\"1\" class=\"dataframe\">\n",
              "  <thead>\n",
              "    <tr style=\"text-align: right;\">\n",
              "      <th></th>\n",
              "      <th>0</th>\n",
              "      <th>1</th>\n",
              "      <th>2</th>\n",
              "      <th>3</th>\n",
              "    </tr>\n",
              "  </thead>\n",
              "  <tbody>\n",
              "    <tr>\n",
              "      <th>0</th>\n",
              "      <td>1.0</td>\n",
              "      <td>6.5</td>\n",
              "      <td>3.0</td>\n",
              "      <td>NaN</td>\n",
              "    </tr>\n",
              "    <tr>\n",
              "      <th>1</th>\n",
              "      <td>1.0</td>\n",
              "      <td>NaN</td>\n",
              "      <td>NaN</td>\n",
              "      <td>NaN</td>\n",
              "    </tr>\n",
              "    <tr>\n",
              "      <th>3</th>\n",
              "      <td>NaN</td>\n",
              "      <td>6.5</td>\n",
              "      <td>3.0</td>\n",
              "      <td>NaN</td>\n",
              "    </tr>\n",
              "  </tbody>\n",
              "</table>\n",
              "</div>"
            ],
            "text/plain": [
              "     0    1    2   3\n",
              "0  1.0  6.5  3.0 NaN\n",
              "1  1.0  NaN  NaN NaN\n",
              "3  NaN  6.5  3.0 NaN"
            ]
          },
          "execution_count": 22,
          "metadata": {},
          "output_type": "execute_result"
        }
      ],
      "source": [
        "data.dropna(how=\"all\")"
      ]
    },
    {
      "cell_type": "code",
      "execution_count": null,
      "id": "e00385ee-c272-46b0-9ef7-6fd73ba4b441",
      "metadata": {
        "id": "e00385ee-c272-46b0-9ef7-6fd73ba4b441",
        "outputId": "6e3a7a91-0469-4f56-c994-6e23aeca767e"
      },
      "outputs": [
        {
          "data": {
            "text/html": [
              "<div>\n",
              "<style scoped>\n",
              "    .dataframe tbody tr th:only-of-type {\n",
              "        vertical-align: middle;\n",
              "    }\n",
              "\n",
              "    .dataframe tbody tr th {\n",
              "        vertical-align: top;\n",
              "    }\n",
              "\n",
              "    .dataframe thead th {\n",
              "        text-align: right;\n",
              "    }\n",
              "</style>\n",
              "<table border=\"1\" class=\"dataframe\">\n",
              "  <thead>\n",
              "    <tr style=\"text-align: right;\">\n",
              "      <th></th>\n",
              "      <th>0</th>\n",
              "      <th>1</th>\n",
              "      <th>2</th>\n",
              "    </tr>\n",
              "  </thead>\n",
              "  <tbody>\n",
              "    <tr>\n",
              "      <th>0</th>\n",
              "      <td>1.0</td>\n",
              "      <td>6.5</td>\n",
              "      <td>3.0</td>\n",
              "    </tr>\n",
              "    <tr>\n",
              "      <th>1</th>\n",
              "      <td>1.0</td>\n",
              "      <td>NaN</td>\n",
              "      <td>NaN</td>\n",
              "    </tr>\n",
              "    <tr>\n",
              "      <th>2</th>\n",
              "      <td>NaN</td>\n",
              "      <td>NaN</td>\n",
              "      <td>NaN</td>\n",
              "    </tr>\n",
              "    <tr>\n",
              "      <th>3</th>\n",
              "      <td>NaN</td>\n",
              "      <td>6.5</td>\n",
              "      <td>3.0</td>\n",
              "    </tr>\n",
              "  </tbody>\n",
              "</table>\n",
              "</div>"
            ],
            "text/plain": [
              "     0    1    2\n",
              "0  1.0  6.5  3.0\n",
              "1  1.0  NaN  NaN\n",
              "2  NaN  NaN  NaN\n",
              "3  NaN  6.5  3.0"
            ]
          },
          "execution_count": 23,
          "metadata": {},
          "output_type": "execute_result"
        }
      ],
      "source": [
        "data.dropna(axis=\"columns\", how=\"all\")"
      ]
    },
    {
      "cell_type": "code",
      "execution_count": null,
      "id": "6c821de0-5430-412b-9a5d-caaa2e4dfcee",
      "metadata": {
        "id": "6c821de0-5430-412b-9a5d-caaa2e4dfcee",
        "outputId": "61cdb175-a169-496c-a9fd-7b9c66844a6b"
      },
      "outputs": [
        {
          "data": {
            "text/html": [
              "<div>\n",
              "<style scoped>\n",
              "    .dataframe tbody tr th:only-of-type {\n",
              "        vertical-align: middle;\n",
              "    }\n",
              "\n",
              "    .dataframe tbody tr th {\n",
              "        vertical-align: top;\n",
              "    }\n",
              "\n",
              "    .dataframe thead th {\n",
              "        text-align: right;\n",
              "    }\n",
              "</style>\n",
              "<table border=\"1\" class=\"dataframe\">\n",
              "  <thead>\n",
              "    <tr style=\"text-align: right;\">\n",
              "      <th></th>\n",
              "      <th>0</th>\n",
              "      <th>1</th>\n",
              "      <th>2</th>\n",
              "      <th>3</th>\n",
              "    </tr>\n",
              "  </thead>\n",
              "  <tbody>\n",
              "    <tr>\n",
              "      <th>0</th>\n",
              "      <td>1.0</td>\n",
              "      <td>6.5</td>\n",
              "      <td>3.0</td>\n",
              "      <td>NaN</td>\n",
              "    </tr>\n",
              "    <tr>\n",
              "      <th>3</th>\n",
              "      <td>NaN</td>\n",
              "      <td>6.5</td>\n",
              "      <td>3.0</td>\n",
              "      <td>NaN</td>\n",
              "    </tr>\n",
              "  </tbody>\n",
              "</table>\n",
              "</div>"
            ],
            "text/plain": [
              "     0    1    2   3\n",
              "0  1.0  6.5  3.0 NaN\n",
              "3  NaN  6.5  3.0 NaN"
            ]
          },
          "execution_count": 25,
          "metadata": {},
          "output_type": "execute_result"
        }
      ],
      "source": [
        "data.dropna(thresh=2)"
      ]
    },
    {
      "cell_type": "markdown",
      "id": "b925f4eb-7124-46b1-857f-78c523c348b9",
      "metadata": {
        "id": "b925f4eb-7124-46b1-857f-78c523c348b9"
      },
      "source": [
        "Восполнение отсутствующих данных"
      ]
    },
    {
      "cell_type": "code",
      "execution_count": null,
      "id": "4c424068-b7fd-4d96-bf31-243247781413",
      "metadata": {
        "id": "4c424068-b7fd-4d96-bf31-243247781413",
        "outputId": "fc03e3cc-41c4-48c7-9a76-8b296813a495"
      },
      "outputs": [
        {
          "data": {
            "text/html": [
              "<div>\n",
              "<style scoped>\n",
              "    .dataframe tbody tr th:only-of-type {\n",
              "        vertical-align: middle;\n",
              "    }\n",
              "\n",
              "    .dataframe tbody tr th {\n",
              "        vertical-align: top;\n",
              "    }\n",
              "\n",
              "    .dataframe thead th {\n",
              "        text-align: right;\n",
              "    }\n",
              "</style>\n",
              "<table border=\"1\" class=\"dataframe\">\n",
              "  <thead>\n",
              "    <tr style=\"text-align: right;\">\n",
              "      <th></th>\n",
              "      <th>0</th>\n",
              "      <th>1</th>\n",
              "      <th>2</th>\n",
              "    </tr>\n",
              "  </thead>\n",
              "  <tbody>\n",
              "    <tr>\n",
              "      <th>0</th>\n",
              "      <td>-0.554254</td>\n",
              "      <td>NaN</td>\n",
              "      <td>NaN</td>\n",
              "    </tr>\n",
              "    <tr>\n",
              "      <th>1</th>\n",
              "      <td>2.044001</td>\n",
              "      <td>NaN</td>\n",
              "      <td>NaN</td>\n",
              "    </tr>\n",
              "    <tr>\n",
              "      <th>2</th>\n",
              "      <td>-0.406626</td>\n",
              "      <td>NaN</td>\n",
              "      <td>0.328056</td>\n",
              "    </tr>\n",
              "    <tr>\n",
              "      <th>3</th>\n",
              "      <td>1.049602</td>\n",
              "      <td>NaN</td>\n",
              "      <td>0.622102</td>\n",
              "    </tr>\n",
              "    <tr>\n",
              "      <th>4</th>\n",
              "      <td>1.905355</td>\n",
              "      <td>-0.260140</td>\n",
              "      <td>0.442188</td>\n",
              "    </tr>\n",
              "    <tr>\n",
              "      <th>5</th>\n",
              "      <td>-1.217356</td>\n",
              "      <td>-0.355152</td>\n",
              "      <td>0.162520</td>\n",
              "    </tr>\n",
              "    <tr>\n",
              "      <th>6</th>\n",
              "      <td>0.744739</td>\n",
              "      <td>0.532442</td>\n",
              "      <td>0.946928</td>\n",
              "    </tr>\n",
              "  </tbody>\n",
              "</table>\n",
              "</div>"
            ],
            "text/plain": [
              "          0         1         2\n",
              "0 -0.554254       NaN       NaN\n",
              "1  2.044001       NaN       NaN\n",
              "2 -0.406626       NaN  0.328056\n",
              "3  1.049602       NaN  0.622102\n",
              "4  1.905355 -0.260140  0.442188\n",
              "5 -1.217356 -0.355152  0.162520\n",
              "6  0.744739  0.532442  0.946928"
            ]
          },
          "execution_count": 26,
          "metadata": {},
          "output_type": "execute_result"
        }
      ],
      "source": [
        "df = pd.DataFrame(np.random.standard_normal((7, 3)))\n",
        "df.iloc[:4, 1] = np.nan\n",
        "df.iloc[:2, 2] = np.nan\n",
        "df"
      ]
    },
    {
      "cell_type": "code",
      "execution_count": null,
      "id": "9bc012b2-2d3d-40aa-9f47-7805574c11f3",
      "metadata": {
        "id": "9bc012b2-2d3d-40aa-9f47-7805574c11f3",
        "outputId": "60d46dac-c4dc-446f-924f-c022ea196e4f"
      },
      "outputs": [
        {
          "data": {
            "text/html": [
              "<div>\n",
              "<style scoped>\n",
              "    .dataframe tbody tr th:only-of-type {\n",
              "        vertical-align: middle;\n",
              "    }\n",
              "\n",
              "    .dataframe tbody tr th {\n",
              "        vertical-align: top;\n",
              "    }\n",
              "\n",
              "    .dataframe thead th {\n",
              "        text-align: right;\n",
              "    }\n",
              "</style>\n",
              "<table border=\"1\" class=\"dataframe\">\n",
              "  <thead>\n",
              "    <tr style=\"text-align: right;\">\n",
              "      <th></th>\n",
              "      <th>0</th>\n",
              "      <th>1</th>\n",
              "      <th>2</th>\n",
              "    </tr>\n",
              "  </thead>\n",
              "  <tbody>\n",
              "    <tr>\n",
              "      <th>0</th>\n",
              "      <td>-0.554254</td>\n",
              "      <td>0.000000</td>\n",
              "      <td>0.000000</td>\n",
              "    </tr>\n",
              "    <tr>\n",
              "      <th>1</th>\n",
              "      <td>2.044001</td>\n",
              "      <td>0.000000</td>\n",
              "      <td>0.000000</td>\n",
              "    </tr>\n",
              "    <tr>\n",
              "      <th>2</th>\n",
              "      <td>-0.406626</td>\n",
              "      <td>0.000000</td>\n",
              "      <td>0.328056</td>\n",
              "    </tr>\n",
              "    <tr>\n",
              "      <th>3</th>\n",
              "      <td>1.049602</td>\n",
              "      <td>0.000000</td>\n",
              "      <td>0.622102</td>\n",
              "    </tr>\n",
              "    <tr>\n",
              "      <th>4</th>\n",
              "      <td>1.905355</td>\n",
              "      <td>-0.260140</td>\n",
              "      <td>0.442188</td>\n",
              "    </tr>\n",
              "    <tr>\n",
              "      <th>5</th>\n",
              "      <td>-1.217356</td>\n",
              "      <td>-0.355152</td>\n",
              "      <td>0.162520</td>\n",
              "    </tr>\n",
              "    <tr>\n",
              "      <th>6</th>\n",
              "      <td>0.744739</td>\n",
              "      <td>0.532442</td>\n",
              "      <td>0.946928</td>\n",
              "    </tr>\n",
              "  </tbody>\n",
              "</table>\n",
              "</div>"
            ],
            "text/plain": [
              "          0         1         2\n",
              "0 -0.554254  0.000000  0.000000\n",
              "1  2.044001  0.000000  0.000000\n",
              "2 -0.406626  0.000000  0.328056\n",
              "3  1.049602  0.000000  0.622102\n",
              "4  1.905355 -0.260140  0.442188\n",
              "5 -1.217356 -0.355152  0.162520\n",
              "6  0.744739  0.532442  0.946928"
            ]
          },
          "execution_count": 27,
          "metadata": {},
          "output_type": "execute_result"
        }
      ],
      "source": [
        "df.fillna(0)"
      ]
    },
    {
      "cell_type": "code",
      "execution_count": null,
      "id": "b8312838-7afb-475a-9db6-13aee9113c93",
      "metadata": {
        "id": "b8312838-7afb-475a-9db6-13aee9113c93",
        "outputId": "6da524ea-aba9-4af3-a2a2-927bd87e6fef"
      },
      "outputs": [
        {
          "data": {
            "text/html": [
              "<div>\n",
              "<style scoped>\n",
              "    .dataframe tbody tr th:only-of-type {\n",
              "        vertical-align: middle;\n",
              "    }\n",
              "\n",
              "    .dataframe tbody tr th {\n",
              "        vertical-align: top;\n",
              "    }\n",
              "\n",
              "    .dataframe thead th {\n",
              "        text-align: right;\n",
              "    }\n",
              "</style>\n",
              "<table border=\"1\" class=\"dataframe\">\n",
              "  <thead>\n",
              "    <tr style=\"text-align: right;\">\n",
              "      <th></th>\n",
              "      <th>0</th>\n",
              "      <th>1</th>\n",
              "      <th>2</th>\n",
              "    </tr>\n",
              "  </thead>\n",
              "  <tbody>\n",
              "    <tr>\n",
              "      <th>0</th>\n",
              "      <td>-0.554254</td>\n",
              "      <td>0.500000</td>\n",
              "      <td>0.000000</td>\n",
              "    </tr>\n",
              "    <tr>\n",
              "      <th>1</th>\n",
              "      <td>2.044001</td>\n",
              "      <td>0.500000</td>\n",
              "      <td>0.000000</td>\n",
              "    </tr>\n",
              "    <tr>\n",
              "      <th>2</th>\n",
              "      <td>-0.406626</td>\n",
              "      <td>0.500000</td>\n",
              "      <td>0.328056</td>\n",
              "    </tr>\n",
              "    <tr>\n",
              "      <th>3</th>\n",
              "      <td>1.049602</td>\n",
              "      <td>0.500000</td>\n",
              "      <td>0.622102</td>\n",
              "    </tr>\n",
              "    <tr>\n",
              "      <th>4</th>\n",
              "      <td>1.905355</td>\n",
              "      <td>-0.260140</td>\n",
              "      <td>0.442188</td>\n",
              "    </tr>\n",
              "    <tr>\n",
              "      <th>5</th>\n",
              "      <td>-1.217356</td>\n",
              "      <td>-0.355152</td>\n",
              "      <td>0.162520</td>\n",
              "    </tr>\n",
              "    <tr>\n",
              "      <th>6</th>\n",
              "      <td>0.744739</td>\n",
              "      <td>0.532442</td>\n",
              "      <td>0.946928</td>\n",
              "    </tr>\n",
              "  </tbody>\n",
              "</table>\n",
              "</div>"
            ],
            "text/plain": [
              "          0         1         2\n",
              "0 -0.554254  0.500000  0.000000\n",
              "1  2.044001  0.500000  0.000000\n",
              "2 -0.406626  0.500000  0.328056\n",
              "3  1.049602  0.500000  0.622102\n",
              "4  1.905355 -0.260140  0.442188\n",
              "5 -1.217356 -0.355152  0.162520\n",
              "6  0.744739  0.532442  0.946928"
            ]
          },
          "execution_count": 29,
          "metadata": {},
          "output_type": "execute_result"
        }
      ],
      "source": [
        "df.fillna({1: 0.5, 2: 0})"
      ]
    },
    {
      "cell_type": "code",
      "execution_count": null,
      "id": "ed02158e-bd5f-46e0-973c-023d6a8aabc1",
      "metadata": {
        "id": "ed02158e-bd5f-46e0-973c-023d6a8aabc1",
        "outputId": "4b6a0afa-5f17-4456-a88c-cbfd53f86b59"
      },
      "outputs": [
        {
          "data": {
            "text/html": [
              "<div>\n",
              "<style scoped>\n",
              "    .dataframe tbody tr th:only-of-type {\n",
              "        vertical-align: middle;\n",
              "    }\n",
              "\n",
              "    .dataframe tbody tr th {\n",
              "        vertical-align: top;\n",
              "    }\n",
              "\n",
              "    .dataframe thead th {\n",
              "        text-align: right;\n",
              "    }\n",
              "</style>\n",
              "<table border=\"1\" class=\"dataframe\">\n",
              "  <thead>\n",
              "    <tr style=\"text-align: right;\">\n",
              "      <th></th>\n",
              "      <th>0</th>\n",
              "      <th>1</th>\n",
              "      <th>2</th>\n",
              "    </tr>\n",
              "  </thead>\n",
              "  <tbody>\n",
              "    <tr>\n",
              "      <th>0</th>\n",
              "      <td>-0.554254</td>\n",
              "      <td>-0.260140</td>\n",
              "      <td>0.328056</td>\n",
              "    </tr>\n",
              "    <tr>\n",
              "      <th>1</th>\n",
              "      <td>2.044001</td>\n",
              "      <td>-0.260140</td>\n",
              "      <td>0.328056</td>\n",
              "    </tr>\n",
              "    <tr>\n",
              "      <th>2</th>\n",
              "      <td>-0.406626</td>\n",
              "      <td>-0.260140</td>\n",
              "      <td>0.328056</td>\n",
              "    </tr>\n",
              "    <tr>\n",
              "      <th>3</th>\n",
              "      <td>1.049602</td>\n",
              "      <td>-0.260140</td>\n",
              "      <td>0.622102</td>\n",
              "    </tr>\n",
              "    <tr>\n",
              "      <th>4</th>\n",
              "      <td>1.905355</td>\n",
              "      <td>-0.260140</td>\n",
              "      <td>0.442188</td>\n",
              "    </tr>\n",
              "    <tr>\n",
              "      <th>5</th>\n",
              "      <td>-1.217356</td>\n",
              "      <td>-0.355152</td>\n",
              "      <td>0.162520</td>\n",
              "    </tr>\n",
              "    <tr>\n",
              "      <th>6</th>\n",
              "      <td>0.744739</td>\n",
              "      <td>0.532442</td>\n",
              "      <td>0.946928</td>\n",
              "    </tr>\n",
              "  </tbody>\n",
              "</table>\n",
              "</div>"
            ],
            "text/plain": [
              "          0         1         2\n",
              "0 -0.554254 -0.260140  0.328056\n",
              "1  2.044001 -0.260140  0.328056\n",
              "2 -0.406626 -0.260140  0.328056\n",
              "3  1.049602 -0.260140  0.622102\n",
              "4  1.905355 -0.260140  0.442188\n",
              "5 -1.217356 -0.355152  0.162520\n",
              "6  0.744739  0.532442  0.946928"
            ]
          },
          "execution_count": 31,
          "metadata": {},
          "output_type": "execute_result"
        }
      ],
      "source": [
        "df.fillna(method=\"bfill\")"
      ]
    },
    {
      "cell_type": "code",
      "execution_count": null,
      "id": "ff16c212-310c-4287-8318-81050cb0adcf",
      "metadata": {
        "id": "ff16c212-310c-4287-8318-81050cb0adcf",
        "outputId": "4d3fb798-90d9-40c8-a986-8a0674af0f7b"
      },
      "outputs": [
        {
          "data": {
            "text/html": [
              "<div>\n",
              "<style scoped>\n",
              "    .dataframe tbody tr th:only-of-type {\n",
              "        vertical-align: middle;\n",
              "    }\n",
              "\n",
              "    .dataframe tbody tr th {\n",
              "        vertical-align: top;\n",
              "    }\n",
              "\n",
              "    .dataframe thead th {\n",
              "        text-align: right;\n",
              "    }\n",
              "</style>\n",
              "<table border=\"1\" class=\"dataframe\">\n",
              "  <thead>\n",
              "    <tr style=\"text-align: right;\">\n",
              "      <th></th>\n",
              "      <th>0</th>\n",
              "      <th>1</th>\n",
              "      <th>2</th>\n",
              "    </tr>\n",
              "  </thead>\n",
              "  <tbody>\n",
              "    <tr>\n",
              "      <th>0</th>\n",
              "      <td>-0.554254</td>\n",
              "      <td>NaN</td>\n",
              "      <td>0.328056</td>\n",
              "    </tr>\n",
              "    <tr>\n",
              "      <th>1</th>\n",
              "      <td>2.044001</td>\n",
              "      <td>NaN</td>\n",
              "      <td>0.328056</td>\n",
              "    </tr>\n",
              "    <tr>\n",
              "      <th>2</th>\n",
              "      <td>-0.406626</td>\n",
              "      <td>-0.260140</td>\n",
              "      <td>0.328056</td>\n",
              "    </tr>\n",
              "    <tr>\n",
              "      <th>3</th>\n",
              "      <td>1.049602</td>\n",
              "      <td>-0.260140</td>\n",
              "      <td>0.622102</td>\n",
              "    </tr>\n",
              "    <tr>\n",
              "      <th>4</th>\n",
              "      <td>1.905355</td>\n",
              "      <td>-0.260140</td>\n",
              "      <td>0.442188</td>\n",
              "    </tr>\n",
              "    <tr>\n",
              "      <th>5</th>\n",
              "      <td>-1.217356</td>\n",
              "      <td>-0.355152</td>\n",
              "      <td>0.162520</td>\n",
              "    </tr>\n",
              "    <tr>\n",
              "      <th>6</th>\n",
              "      <td>0.744739</td>\n",
              "      <td>0.532442</td>\n",
              "      <td>0.946928</td>\n",
              "    </tr>\n",
              "  </tbody>\n",
              "</table>\n",
              "</div>"
            ],
            "text/plain": [
              "          0         1         2\n",
              "0 -0.554254       NaN  0.328056\n",
              "1  2.044001       NaN  0.328056\n",
              "2 -0.406626 -0.260140  0.328056\n",
              "3  1.049602 -0.260140  0.622102\n",
              "4  1.905355 -0.260140  0.442188\n",
              "5 -1.217356 -0.355152  0.162520\n",
              "6  0.744739  0.532442  0.946928"
            ]
          },
          "execution_count": 32,
          "metadata": {},
          "output_type": "execute_result"
        }
      ],
      "source": [
        "df.fillna(method=\"bfill\", limit=2)"
      ]
    },
    {
      "cell_type": "code",
      "execution_count": null,
      "id": "471c602b-8ebb-4b86-b56c-889bb8d6f88e",
      "metadata": {
        "id": "471c602b-8ebb-4b86-b56c-889bb8d6f88e",
        "outputId": "925e55e4-afb3-468b-d51d-f8e00f75651b"
      },
      "outputs": [
        {
          "data": {
            "text/html": [
              "<div>\n",
              "<style scoped>\n",
              "    .dataframe tbody tr th:only-of-type {\n",
              "        vertical-align: middle;\n",
              "    }\n",
              "\n",
              "    .dataframe tbody tr th {\n",
              "        vertical-align: top;\n",
              "    }\n",
              "\n",
              "    .dataframe thead th {\n",
              "        text-align: right;\n",
              "    }\n",
              "</style>\n",
              "<table border=\"1\" class=\"dataframe\">\n",
              "  <thead>\n",
              "    <tr style=\"text-align: right;\">\n",
              "      <th></th>\n",
              "      <th>0</th>\n",
              "      <th>1</th>\n",
              "      <th>2</th>\n",
              "    </tr>\n",
              "  </thead>\n",
              "  <tbody>\n",
              "    <tr>\n",
              "      <th>0</th>\n",
              "      <td>-0.554254</td>\n",
              "      <td>6.500000</td>\n",
              "      <td>3.000000</td>\n",
              "    </tr>\n",
              "    <tr>\n",
              "      <th>1</th>\n",
              "      <td>2.044001</td>\n",
              "      <td>6.500000</td>\n",
              "      <td>3.000000</td>\n",
              "    </tr>\n",
              "    <tr>\n",
              "      <th>2</th>\n",
              "      <td>-0.406626</td>\n",
              "      <td>6.500000</td>\n",
              "      <td>0.328056</td>\n",
              "    </tr>\n",
              "    <tr>\n",
              "      <th>3</th>\n",
              "      <td>1.049602</td>\n",
              "      <td>6.500000</td>\n",
              "      <td>0.622102</td>\n",
              "    </tr>\n",
              "    <tr>\n",
              "      <th>4</th>\n",
              "      <td>1.905355</td>\n",
              "      <td>-0.260140</td>\n",
              "      <td>0.442188</td>\n",
              "    </tr>\n",
              "    <tr>\n",
              "      <th>5</th>\n",
              "      <td>-1.217356</td>\n",
              "      <td>-0.355152</td>\n",
              "      <td>0.162520</td>\n",
              "    </tr>\n",
              "    <tr>\n",
              "      <th>6</th>\n",
              "      <td>0.744739</td>\n",
              "      <td>0.532442</td>\n",
              "      <td>0.946928</td>\n",
              "    </tr>\n",
              "  </tbody>\n",
              "</table>\n",
              "</div>"
            ],
            "text/plain": [
              "          0         1         2\n",
              "0 -0.554254  6.500000  3.000000\n",
              "1  2.044001  6.500000  3.000000\n",
              "2 -0.406626  6.500000  0.328056\n",
              "3  1.049602  6.500000  0.622102\n",
              "4  1.905355 -0.260140  0.442188\n",
              "5 -1.217356 -0.355152  0.162520\n",
              "6  0.744739  0.532442  0.946928"
            ]
          },
          "execution_count": 34,
          "metadata": {},
          "output_type": "execute_result"
        }
      ],
      "source": [
        "df.fillna(data.mean())"
      ]
    },
    {
      "cell_type": "code",
      "execution_count": null,
      "id": "19d916b9-2097-48e9-8cd3-36744c37f8a1",
      "metadata": {
        "id": "19d916b9-2097-48e9-8cd3-36744c37f8a1",
        "outputId": "cdbc7652-9745-4202-fff1-795a63a9c318"
      },
      "outputs": [
        {
          "data": {
            "text/html": [
              "<div>\n",
              "<style scoped>\n",
              "    .dataframe tbody tr th:only-of-type {\n",
              "        vertical-align: middle;\n",
              "    }\n",
              "\n",
              "    .dataframe tbody tr th {\n",
              "        vertical-align: top;\n",
              "    }\n",
              "\n",
              "    .dataframe thead th {\n",
              "        text-align: right;\n",
              "    }\n",
              "</style>\n",
              "<table border=\"1\" class=\"dataframe\">\n",
              "  <thead>\n",
              "    <tr style=\"text-align: right;\">\n",
              "      <th></th>\n",
              "      <th>0</th>\n",
              "      <th>1</th>\n",
              "      <th>2</th>\n",
              "    </tr>\n",
              "  </thead>\n",
              "  <tbody>\n",
              "    <tr>\n",
              "      <th>0</th>\n",
              "      <td>-0.554254</td>\n",
              "      <td>6.500000</td>\n",
              "      <td>3.000000</td>\n",
              "    </tr>\n",
              "    <tr>\n",
              "      <th>1</th>\n",
              "      <td>2.044001</td>\n",
              "      <td>6.500000</td>\n",
              "      <td>3.000000</td>\n",
              "    </tr>\n",
              "    <tr>\n",
              "      <th>2</th>\n",
              "      <td>-0.406626</td>\n",
              "      <td>6.500000</td>\n",
              "      <td>0.328056</td>\n",
              "    </tr>\n",
              "    <tr>\n",
              "      <th>3</th>\n",
              "      <td>1.049602</td>\n",
              "      <td>6.500000</td>\n",
              "      <td>0.622102</td>\n",
              "    </tr>\n",
              "    <tr>\n",
              "      <th>4</th>\n",
              "      <td>1.905355</td>\n",
              "      <td>-0.260140</td>\n",
              "      <td>0.442188</td>\n",
              "    </tr>\n",
              "    <tr>\n",
              "      <th>5</th>\n",
              "      <td>-1.217356</td>\n",
              "      <td>-0.355152</td>\n",
              "      <td>0.162520</td>\n",
              "    </tr>\n",
              "    <tr>\n",
              "      <th>6</th>\n",
              "      <td>0.744739</td>\n",
              "      <td>0.532442</td>\n",
              "      <td>0.946928</td>\n",
              "    </tr>\n",
              "  </tbody>\n",
              "</table>\n",
              "</div>"
            ],
            "text/plain": [
              "          0         1         2\n",
              "0 -0.554254  6.500000  3.000000\n",
              "1  2.044001  6.500000  3.000000\n",
              "2 -0.406626  6.500000  0.328056\n",
              "3  1.049602  6.500000  0.622102\n",
              "4  1.905355 -0.260140  0.442188\n",
              "5 -1.217356 -0.355152  0.162520\n",
              "6  0.744739  0.532442  0.946928"
            ]
          },
          "execution_count": 35,
          "metadata": {},
          "output_type": "execute_result"
        }
      ],
      "source": [
        "df.fillna(data.median())"
      ]
    },
    {
      "cell_type": "markdown",
      "id": "f54a6fa0-7850-44c5-ac95-4919c9c34543",
      "metadata": {
        "id": "f54a6fa0-7850-44c5-ac95-4919c9c34543"
      },
      "source": [
        "Медиана более устойчива к выбросам"
      ]
    },
    {
      "cell_type": "code",
      "execution_count": null,
      "id": "5d3e0083-0e42-4cba-89f2-5a849028bd45",
      "metadata": {
        "id": "5d3e0083-0e42-4cba-89f2-5a849028bd45"
      },
      "outputs": [],
      "source": [
        "data_all = []\n",
        "for i in range(1000):\n",
        "    data = []\n",
        "    for i in range(1000):\n",
        "        if np.random.random() >= 0.90:\n",
        "            data.append(np.random.normal(1, 1, 1)[0])\n",
        "        else:\n",
        "            data.append(np.random.normal(1, 10, 1)[0])\n",
        "    data_all.append(data)\n",
        "\n",
        "data_all = np.array(data_all)"
      ]
    },
    {
      "cell_type": "code",
      "execution_count": null,
      "id": "0f121112-c46d-4685-b4f0-f740a3f694da",
      "metadata": {
        "id": "0f121112-c46d-4685-b4f0-f740a3f694da",
        "outputId": "1cd74d90-ef0e-49a5-eb9c-d7e5c2174101"
      },
      "outputs": [
        {
          "data": {
            "text/plain": [
              "<AxesSubplot:>"
            ]
          },
          "execution_count": 109,
          "metadata": {},
          "output_type": "execute_result"
        },
        {
          "data": {
            "image/png": "[encoded data removed]",
            "text/plain": [
              "<Figure size 640x480 with 1 Axes>"
            ]
          },
          "metadata": {},
          "output_type": "display_data"
        }
      ],
      "source": [
        "res = pd.DataFrame({\"mean\": data_all.mean(axis=1), \"median\": np.median(data_all, axis=1)})\n",
        "res.boxplot()"
      ]
    },
    {
      "cell_type": "markdown",
      "id": "0a66f3df-3654-4e95-b1c3-581b79a03d8e",
      "metadata": {
        "id": "0a66f3df-3654-4e95-b1c3-581b79a03d8e"
      },
      "source": [
        "Создание дополнительного признака"
      ]
    },
    {
      "cell_type": "code",
      "execution_count": null,
      "id": "f548a616-1c85-4a73-b970-4ab455e92fa9",
      "metadata": {
        "id": "f548a616-1c85-4a73-b970-4ab455e92fa9",
        "outputId": "88ab0f39-776d-4db2-fa26-1e149a2aa1b2"
      },
      "outputs": [
        {
          "data": {
            "text/html": [
              "<div>\n",
              "<style scoped>\n",
              "    .dataframe tbody tr th:only-of-type {\n",
              "        vertical-align: middle;\n",
              "    }\n",
              "\n",
              "    .dataframe tbody tr th {\n",
              "        vertical-align: top;\n",
              "    }\n",
              "\n",
              "    .dataframe thead th {\n",
              "        text-align: right;\n",
              "    }\n",
              "</style>\n",
              "<table border=\"1\" class=\"dataframe\">\n",
              "  <thead>\n",
              "    <tr style=\"text-align: right;\">\n",
              "      <th></th>\n",
              "      <th>0</th>\n",
              "      <th>1</th>\n",
              "      <th>2</th>\n",
              "      <th>2 is nan</th>\n",
              "    </tr>\n",
              "  </thead>\n",
              "  <tbody>\n",
              "    <tr>\n",
              "      <th>0</th>\n",
              "      <td>-0.554254</td>\n",
              "      <td>NaN</td>\n",
              "      <td>NaN</td>\n",
              "      <td>1</td>\n",
              "    </tr>\n",
              "    <tr>\n",
              "      <th>1</th>\n",
              "      <td>2.044001</td>\n",
              "      <td>NaN</td>\n",
              "      <td>NaN</td>\n",
              "      <td>1</td>\n",
              "    </tr>\n",
              "    <tr>\n",
              "      <th>2</th>\n",
              "      <td>-0.406626</td>\n",
              "      <td>NaN</td>\n",
              "      <td>0.328056</td>\n",
              "      <td>0</td>\n",
              "    </tr>\n",
              "    <tr>\n",
              "      <th>3</th>\n",
              "      <td>1.049602</td>\n",
              "      <td>NaN</td>\n",
              "      <td>0.622102</td>\n",
              "      <td>0</td>\n",
              "    </tr>\n",
              "    <tr>\n",
              "      <th>4</th>\n",
              "      <td>1.905355</td>\n",
              "      <td>-0.260140</td>\n",
              "      <td>0.442188</td>\n",
              "      <td>0</td>\n",
              "    </tr>\n",
              "    <tr>\n",
              "      <th>5</th>\n",
              "      <td>-1.217356</td>\n",
              "      <td>-0.355152</td>\n",
              "      <td>0.162520</td>\n",
              "      <td>0</td>\n",
              "    </tr>\n",
              "    <tr>\n",
              "      <th>6</th>\n",
              "      <td>0.744739</td>\n",
              "      <td>0.532442</td>\n",
              "      <td>0.946928</td>\n",
              "      <td>0</td>\n",
              "    </tr>\n",
              "  </tbody>\n",
              "</table>\n",
              "</div>"
            ],
            "text/plain": [
              "          0         1         2  2 is nan\n",
              "0 -0.554254       NaN       NaN         1\n",
              "1  2.044001       NaN       NaN         1\n",
              "2 -0.406626       NaN  0.328056         0\n",
              "3  1.049602       NaN  0.622102         0\n",
              "4  1.905355 -0.260140  0.442188         0\n",
              "5 -1.217356 -0.355152  0.162520         0\n",
              "6  0.744739  0.532442  0.946928         0"
            ]
          },
          "execution_count": 104,
          "metadata": {},
          "output_type": "execute_result"
        }
      ],
      "source": [
        "df[\"2 is nan\"] = df[2].isna().astype(np.int32)\n",
        "df"
      ]
    },
    {
      "cell_type": "markdown",
      "id": "dd342e89-1cf2-4e65-8a94-a47d2294ecfa",
      "metadata": {
        "id": "dd342e89-1cf2-4e65-8a94-a47d2294ecfa"
      },
      "source": [
        "Замена значений"
      ]
    },
    {
      "cell_type": "code",
      "execution_count": null,
      "id": "964206d0-a401-4142-b794-5a96bcabb24b",
      "metadata": {
        "id": "964206d0-a401-4142-b794-5a96bcabb24b",
        "outputId": "319016b7-6fac-45b1-8f55-cccfd4b9242d"
      },
      "outputs": [
        {
          "data": {
            "text/plain": [
              "0      1.0\n",
              "1   -999.0\n",
              "2      2.0\n",
              "3   -999.0\n",
              "4      4.0\n",
              "5      3.0\n",
              "dtype: float64"
            ]
          },
          "execution_count": 39,
          "metadata": {},
          "output_type": "execute_result"
        }
      ],
      "source": [
        "data = pd.Series([1., -999., 2., -999., 4., 3.])\n",
        "data"
      ]
    },
    {
      "cell_type": "code",
      "execution_count": null,
      "id": "211e1cb6-1d23-41b7-bb82-96b75ddef704",
      "metadata": {
        "id": "211e1cb6-1d23-41b7-bb82-96b75ddef704",
        "outputId": "158ce090-8718-4bda-9542-d606ad2aad95"
      },
      "outputs": [
        {
          "data": {
            "text/plain": [
              "0    1.0\n",
              "1    NaN\n",
              "2    2.0\n",
              "3    NaN\n",
              "4    4.0\n",
              "5    3.0\n",
              "dtype: float64"
            ]
          },
          "execution_count": 41,
          "metadata": {},
          "output_type": "execute_result"
        }
      ],
      "source": [
        "data.replace(-999, np.nan)"
      ]
    },
    {
      "cell_type": "markdown",
      "id": "ae76bafb-1bea-47af-9887-3b2e7a2cd8b0",
      "metadata": {
        "id": "ae76bafb-1bea-47af-9887-3b2e7a2cd8b0"
      },
      "source": [
        "# Кодирование признаков"
      ]
    },
    {
      "cell_type": "markdown",
      "id": "f7da2248-a7dd-49b4-a211-0541757bdb09",
      "metadata": {
        "id": "f7da2248-a7dd-49b4-a211-0541757bdb09"
      },
      "source": [
        "Бинарные факторы: False == 0, True == 1"
      ]
    },
    {
      "cell_type": "code",
      "execution_count": null,
      "id": "a8bea040-07c9-4ca3-99c5-ff1cd94051ea",
      "metadata": {
        "id": "a8bea040-07c9-4ca3-99c5-ff1cd94051ea",
        "outputId": "007c9aee-1c5b-453a-c5d2-699b91afbc7b"
      },
      "outputs": [
        {
          "data": {
            "text/plain": [
              "0       male\n",
              "1       male\n",
              "2       male\n",
              "3       male\n",
              "4       male\n",
              "5       male\n",
              "6       male\n",
              "7       male\n",
              "8       male\n",
              "9       male\n",
              "10    female\n",
              "11    female\n",
              "12    female\n",
              "13    female\n",
              "14    female\n",
              "dtype: object"
            ]
          },
          "execution_count": 118,
          "metadata": {},
          "output_type": "execute_result"
        }
      ],
      "source": [
        "data = pd.Series([\"male\"]*10 + [\"female\"]*5)\n",
        "data"
      ]
    },
    {
      "cell_type": "code",
      "execution_count": null,
      "id": "543531c9-cb85-46bd-8c24-a611bf713d9a",
      "metadata": {
        "id": "543531c9-cb85-46bd-8c24-a611bf713d9a",
        "outputId": "c14bb583-dfb7-4ad6-81d8-5d2012451228"
      },
      "outputs": [
        {
          "data": {
            "text/plain": [
              "0     1\n",
              "1     1\n",
              "2     1\n",
              "3     1\n",
              "4     1\n",
              "5     1\n",
              "6     1\n",
              "7     1\n",
              "8     1\n",
              "9     1\n",
              "10    0\n",
              "11    0\n",
              "12    0\n",
              "13    0\n",
              "14    0\n",
              "dtype: int32"
            ]
          },
          "execution_count": 122,
          "metadata": {},
          "output_type": "execute_result"
        }
      ],
      "source": [
        "(data == \"male\").astype(np.int32)"
      ]
    },
    {
      "cell_type": "markdown",
      "id": "5efd9dd7-1e25-4a32-8715-4b7ab26c302d",
      "metadata": {
        "id": "5efd9dd7-1e25-4a32-8715-4b7ab26c302d"
      },
      "source": [
        "Категориальные факторы: разбиваем по порядку\n"
      ]
    },
    {
      "cell_type": "code",
      "execution_count": null,
      "id": "df80c7f5-70a3-45a4-9949-a77c9b6bdbcc",
      "metadata": {
        "id": "df80c7f5-70a3-45a4-9949-a77c9b6bdbcc",
        "outputId": "149a497e-cabd-4fc9-fd99-8a1bec40c41b"
      },
      "outputs": [
        {
          "data": {
            "text/html": [
              "<div>\n",
              "<style scoped>\n",
              "    .dataframe tbody tr th:only-of-type {\n",
              "        vertical-align: middle;\n",
              "    }\n",
              "\n",
              "    .dataframe tbody tr th {\n",
              "        vertical-align: top;\n",
              "    }\n",
              "\n",
              "    .dataframe thead th {\n",
              "        text-align: right;\n",
              "    }\n",
              "</style>\n",
              "<table border=\"1\" class=\"dataframe\">\n",
              "  <thead>\n",
              "    <tr style=\"text-align: right;\">\n",
              "      <th></th>\n",
              "      <th>0</th>\n",
              "    </tr>\n",
              "  </thead>\n",
              "  <tbody>\n",
              "    <tr>\n",
              "      <th>0</th>\n",
              "      <td>moscow</td>\n",
              "    </tr>\n",
              "    <tr>\n",
              "      <th>1</th>\n",
              "      <td>spb</td>\n",
              "    </tr>\n",
              "    <tr>\n",
              "      <th>2</th>\n",
              "      <td>moscow</td>\n",
              "    </tr>\n",
              "    <tr>\n",
              "      <th>3</th>\n",
              "      <td>spb</td>\n",
              "    </tr>\n",
              "    <tr>\n",
              "      <th>4</th>\n",
              "      <td>spb</td>\n",
              "    </tr>\n",
              "    <tr>\n",
              "      <th>5</th>\n",
              "      <td>spb</td>\n",
              "    </tr>\n",
              "    <tr>\n",
              "      <th>6</th>\n",
              "      <td>tomsk</td>\n",
              "    </tr>\n",
              "    <tr>\n",
              "      <th>7</th>\n",
              "      <td>novgorod</td>\n",
              "    </tr>\n",
              "    <tr>\n",
              "      <th>8</th>\n",
              "      <td>samara</td>\n",
              "    </tr>\n",
              "    <tr>\n",
              "      <th>9</th>\n",
              "      <td>saratov</td>\n",
              "    </tr>\n",
              "  </tbody>\n",
              "</table>\n",
              "</div>"
            ],
            "text/plain": [
              "          0\n",
              "0    moscow\n",
              "1       spb\n",
              "2    moscow\n",
              "3       spb\n",
              "4       spb\n",
              "5       spb\n",
              "6     tomsk\n",
              "7  novgorod\n",
              "8    samara\n",
              "9   saratov"
            ]
          },
          "execution_count": 139,
          "metadata": {},
          "output_type": "execute_result"
        }
      ],
      "source": [
        "from sklearn.preprocessing import OrdinalEncoder, OneHotEncoder\n",
        "\n",
        "df = pd.DataFrame([\"moscow\", \"spb\", \"moscow\", \"spb\", \"spb\", \"spb\", \"tomsk\", \"novgorod\", \"samara\", \"saratov\"])\n",
        "df"
      ]
    },
    {
      "cell_type": "code",
      "execution_count": null,
      "id": "5e8c0002-8501-4b74-aeb9-f913b3285e33",
      "metadata": {
        "id": "5e8c0002-8501-4b74-aeb9-f913b3285e33",
        "outputId": "eaf52a9f-af20-4933-832a-f94a70fff133"
      },
      "outputs": [
        {
          "data": {
            "text/plain": [
              "array([[0.],\n",
              "       [4.],\n",
              "       [0.],\n",
              "       [4.],\n",
              "       [4.],\n",
              "       [4.],\n",
              "       [5.],\n",
              "       [1.],\n",
              "       [2.],\n",
              "       [3.]])"
            ]
          },
          "execution_count": 128,
          "metadata": {},
          "output_type": "execute_result"
        }
      ],
      "source": [
        "enc = OrdinalEncoder()\n",
        "enc.fit_transform(df)"
      ]
    },
    {
      "cell_type": "code",
      "execution_count": null,
      "id": "7953eede-b601-4538-8f57-9f50c766e289",
      "metadata": {
        "id": "7953eede-b601-4538-8f57-9f50c766e289",
        "outputId": "0589d8c9-9c8f-443b-9d32-6b2abc697ca9"
      },
      "outputs": [
        {
          "data": {
            "text/plain": [
              "array([[0.],\n",
              "       [4.],\n",
              "       [0.],\n",
              "       [4.],\n",
              "       [4.],\n",
              "       [4.],\n",
              "       [5.],\n",
              "       [1.],\n",
              "       [2.],\n",
              "       [3.]])"
            ]
          },
          "execution_count": 138,
          "metadata": {},
          "output_type": "execute_result"
        }
      ],
      "source": [
        "enc = OrdinalEncoder()\n",
        "enc.fit_transform(df)"
      ]
    },
    {
      "cell_type": "markdown",
      "id": "9e0c4bd5-6a25-42c6-848d-7620991fdf10",
      "metadata": {
        "id": "9e0c4bd5-6a25-42c6-848d-7620991fdf10"
      },
      "source": [
        "Категориальные факторы: разбиваем на много бинарных (one hot encoding)\n",
        "\n",
        "city_is_moscow: 0/1, city_is_spb: 0/1, city_is_tomsk: 0/1 ..."
      ]
    },
    {
      "cell_type": "code",
      "execution_count": null,
      "id": "06a71c60-938f-4f11-b39a-b654fd367ced",
      "metadata": {
        "id": "06a71c60-938f-4f11-b39a-b654fd367ced",
        "outputId": "3596a378-214e-42ce-8532-233dbd64c0f3"
      },
      "outputs": [
        {
          "data": {
            "text/plain": [
              "[array(['moscow', 'novgorod', 'samara', 'saratov', 'spb', 'tomsk'],\n",
              "       dtype=object)]"
            ]
          },
          "execution_count": 145,
          "metadata": {},
          "output_type": "execute_result"
        }
      ],
      "source": [
        "ohe = OneHotEncoder()\n",
        "ohe.fit(df)\n",
        "ohe.categories_"
      ]
    },
    {
      "cell_type": "code",
      "execution_count": null,
      "id": "351f24bc-19b1-482e-a25e-f876cd815ec0",
      "metadata": {
        "id": "351f24bc-19b1-482e-a25e-f876cd815ec0",
        "outputId": "70fdf8b1-7938-45da-f763-eb178e67f44e"
      },
      "outputs": [
        {
          "data": {
            "text/html": [
              "<div>\n",
              "<style scoped>\n",
              "    .dataframe tbody tr th:only-of-type {\n",
              "        vertical-align: middle;\n",
              "    }\n",
              "\n",
              "    .dataframe tbody tr th {\n",
              "        vertical-align: top;\n",
              "    }\n",
              "\n",
              "    .dataframe thead tr th {\n",
              "        text-align: left;\n",
              "    }\n",
              "</style>\n",
              "<table border=\"1\" class=\"dataframe\">\n",
              "  <thead>\n",
              "    <tr>\n",
              "      <th></th>\n",
              "      <th>moscow</th>\n",
              "      <th>novgorod</th>\n",
              "      <th>samara</th>\n",
              "      <th>saratov</th>\n",
              "      <th>spb</th>\n",
              "      <th>tomsk</th>\n",
              "    </tr>\n",
              "  </thead>\n",
              "  <tbody>\n",
              "    <tr>\n",
              "      <th>0</th>\n",
              "      <td>1.0</td>\n",
              "      <td>0.0</td>\n",
              "      <td>0.0</td>\n",
              "      <td>0.0</td>\n",
              "      <td>0.0</td>\n",
              "      <td>0.0</td>\n",
              "    </tr>\n",
              "    <tr>\n",
              "      <th>1</th>\n",
              "      <td>0.0</td>\n",
              "      <td>0.0</td>\n",
              "      <td>0.0</td>\n",
              "      <td>0.0</td>\n",
              "      <td>1.0</td>\n",
              "      <td>0.0</td>\n",
              "    </tr>\n",
              "    <tr>\n",
              "      <th>2</th>\n",
              "      <td>1.0</td>\n",
              "      <td>0.0</td>\n",
              "      <td>0.0</td>\n",
              "      <td>0.0</td>\n",
              "      <td>0.0</td>\n",
              "      <td>0.0</td>\n",
              "    </tr>\n",
              "    <tr>\n",
              "      <th>3</th>\n",
              "      <td>0.0</td>\n",
              "      <td>0.0</td>\n",
              "      <td>0.0</td>\n",
              "      <td>0.0</td>\n",
              "      <td>1.0</td>\n",
              "      <td>0.0</td>\n",
              "    </tr>\n",
              "    <tr>\n",
              "      <th>4</th>\n",
              "      <td>0.0</td>\n",
              "      <td>0.0</td>\n",
              "      <td>0.0</td>\n",
              "      <td>0.0</td>\n",
              "      <td>1.0</td>\n",
              "      <td>0.0</td>\n",
              "    </tr>\n",
              "    <tr>\n",
              "      <th>5</th>\n",
              "      <td>0.0</td>\n",
              "      <td>0.0</td>\n",
              "      <td>0.0</td>\n",
              "      <td>0.0</td>\n",
              "      <td>1.0</td>\n",
              "      <td>0.0</td>\n",
              "    </tr>\n",
              "    <tr>\n",
              "      <th>6</th>\n",
              "      <td>0.0</td>\n",
              "      <td>0.0</td>\n",
              "      <td>0.0</td>\n",
              "      <td>0.0</td>\n",
              "      <td>0.0</td>\n",
              "      <td>1.0</td>\n",
              "    </tr>\n",
              "    <tr>\n",
              "      <th>7</th>\n",
              "      <td>0.0</td>\n",
              "      <td>1.0</td>\n",
              "      <td>0.0</td>\n",
              "      <td>0.0</td>\n",
              "      <td>0.0</td>\n",
              "      <td>0.0</td>\n",
              "    </tr>\n",
              "    <tr>\n",
              "      <th>8</th>\n",
              "      <td>0.0</td>\n",
              "      <td>0.0</td>\n",
              "      <td>1.0</td>\n",
              "      <td>0.0</td>\n",
              "      <td>0.0</td>\n",
              "      <td>0.0</td>\n",
              "    </tr>\n",
              "    <tr>\n",
              "      <th>9</th>\n",
              "      <td>0.0</td>\n",
              "      <td>0.0</td>\n",
              "      <td>0.0</td>\n",
              "      <td>1.0</td>\n",
              "      <td>0.0</td>\n",
              "      <td>0.0</td>\n",
              "    </tr>\n",
              "  </tbody>\n",
              "</table>\n",
              "</div>"
            ],
            "text/plain": [
              "  moscow novgorod samara saratov  spb tomsk\n",
              "0    1.0      0.0    0.0     0.0  0.0   0.0\n",
              "1    0.0      0.0    0.0     0.0  1.0   0.0\n",
              "2    1.0      0.0    0.0     0.0  0.0   0.0\n",
              "3    0.0      0.0    0.0     0.0  1.0   0.0\n",
              "4    0.0      0.0    0.0     0.0  1.0   0.0\n",
              "5    0.0      0.0    0.0     0.0  1.0   0.0\n",
              "6    0.0      0.0    0.0     0.0  0.0   1.0\n",
              "7    0.0      1.0    0.0     0.0  0.0   0.0\n",
              "8    0.0      0.0    1.0     0.0  0.0   0.0\n",
              "9    0.0      0.0    0.0     1.0  0.0   0.0"
            ]
          },
          "execution_count": 153,
          "metadata": {},
          "output_type": "execute_result"
        }
      ],
      "source": [
        "pd.DataFrame(ohe.transform(df).toarray(), columns=ohe.categories_)"
      ]
    },
    {
      "cell_type": "code",
      "execution_count": null,
      "id": "676fc95b-dba2-431c-ba5e-6a816a60c465",
      "metadata": {
        "id": "676fc95b-dba2-431c-ba5e-6a816a60c465",
        "outputId": "49249183-f534-4149-cceb-f76be2816ee1"
      },
      "outputs": [
        {
          "data": {
            "text/html": [
              "<div>\n",
              "<style scoped>\n",
              "    .dataframe tbody tr th:only-of-type {\n",
              "        vertical-align: middle;\n",
              "    }\n",
              "\n",
              "    .dataframe tbody tr th {\n",
              "        vertical-align: top;\n",
              "    }\n",
              "\n",
              "    .dataframe thead th {\n",
              "        text-align: right;\n",
              "    }\n",
              "</style>\n",
              "<table border=\"1\" class=\"dataframe\">\n",
              "  <thead>\n",
              "    <tr style=\"text-align: right;\">\n",
              "      <th></th>\n",
              "      <th>0_moscow</th>\n",
              "      <th>0_novgorod</th>\n",
              "      <th>0_samara</th>\n",
              "      <th>0_saratov</th>\n",
              "      <th>0_spb</th>\n",
              "      <th>0_tomsk</th>\n",
              "    </tr>\n",
              "  </thead>\n",
              "  <tbody>\n",
              "    <tr>\n",
              "      <th>0</th>\n",
              "      <td>1</td>\n",
              "      <td>0</td>\n",
              "      <td>0</td>\n",
              "      <td>0</td>\n",
              "      <td>0</td>\n",
              "      <td>0</td>\n",
              "    </tr>\n",
              "    <tr>\n",
              "      <th>1</th>\n",
              "      <td>0</td>\n",
              "      <td>0</td>\n",
              "      <td>0</td>\n",
              "      <td>0</td>\n",
              "      <td>1</td>\n",
              "      <td>0</td>\n",
              "    </tr>\n",
              "    <tr>\n",
              "      <th>2</th>\n",
              "      <td>1</td>\n",
              "      <td>0</td>\n",
              "      <td>0</td>\n",
              "      <td>0</td>\n",
              "      <td>0</td>\n",
              "      <td>0</td>\n",
              "    </tr>\n",
              "    <tr>\n",
              "      <th>3</th>\n",
              "      <td>0</td>\n",
              "      <td>0</td>\n",
              "      <td>0</td>\n",
              "      <td>0</td>\n",
              "      <td>1</td>\n",
              "      <td>0</td>\n",
              "    </tr>\n",
              "    <tr>\n",
              "      <th>4</th>\n",
              "      <td>0</td>\n",
              "      <td>0</td>\n",
              "      <td>0</td>\n",
              "      <td>0</td>\n",
              "      <td>1</td>\n",
              "      <td>0</td>\n",
              "    </tr>\n",
              "    <tr>\n",
              "      <th>5</th>\n",
              "      <td>0</td>\n",
              "      <td>0</td>\n",
              "      <td>0</td>\n",
              "      <td>0</td>\n",
              "      <td>1</td>\n",
              "      <td>0</td>\n",
              "    </tr>\n",
              "    <tr>\n",
              "      <th>6</th>\n",
              "      <td>0</td>\n",
              "      <td>0</td>\n",
              "      <td>0</td>\n",
              "      <td>0</td>\n",
              "      <td>0</td>\n",
              "      <td>1</td>\n",
              "    </tr>\n",
              "    <tr>\n",
              "      <th>7</th>\n",
              "      <td>0</td>\n",
              "      <td>1</td>\n",
              "      <td>0</td>\n",
              "      <td>0</td>\n",
              "      <td>0</td>\n",
              "      <td>0</td>\n",
              "    </tr>\n",
              "    <tr>\n",
              "      <th>8</th>\n",
              "      <td>0</td>\n",
              "      <td>0</td>\n",
              "      <td>1</td>\n",
              "      <td>0</td>\n",
              "      <td>0</td>\n",
              "      <td>0</td>\n",
              "    </tr>\n",
              "    <tr>\n",
              "      <th>9</th>\n",
              "      <td>0</td>\n",
              "      <td>0</td>\n",
              "      <td>0</td>\n",
              "      <td>1</td>\n",
              "      <td>0</td>\n",
              "      <td>0</td>\n",
              "    </tr>\n",
              "  </tbody>\n",
              "</table>\n",
              "</div>"
            ],
            "text/plain": [
              "   0_moscow  0_novgorod  0_samara  0_saratov  0_spb  0_tomsk\n",
              "0         1           0         0          0      0        0\n",
              "1         0           0         0          0      1        0\n",
              "2         1           0         0          0      0        0\n",
              "3         0           0         0          0      1        0\n",
              "4         0           0         0          0      1        0\n",
              "5         0           0         0          0      1        0\n",
              "6         0           0         0          0      0        1\n",
              "7         0           1         0          0      0        0\n",
              "8         0           0         1          0      0        0\n",
              "9         0           0         0          1      0        0"
            ]
          },
          "execution_count": 170,
          "metadata": {},
          "output_type": "execute_result"
        }
      ],
      "source": [
        "pd.get_dummies(df)"
      ]
    },
    {
      "cell_type": "markdown",
      "id": "4ac6376d-7104-47ec-9145-1b990a83ab04",
      "metadata": {
        "id": "4ac6376d-7104-47ec-9145-1b990a83ab04"
      },
      "source": [
        "Цикличные факторы: время дня => позиция на циферблате => sin, cos угла"
      ]
    },
    {
      "cell_type": "markdown",
      "id": "77eaa6ac-9c12-4927-a822-b53bd93fe492",
      "metadata": {
        "id": "77eaa6ac-9c12-4927-a822-b53bd93fe492"
      },
      "source": [
        "# Создание новых признаков"
      ]
    },
    {
      "cell_type": "markdown",
      "id": "e8febd74-ba38-4fbe-ad6a-0b8a0763f3f6",
      "metadata": {
        "id": "e8febd74-ba38-4fbe-ad6a-0b8a0763f3f6"
      },
      "source": [
        "Полиномиальные признаки"
      ]
    },
    {
      "cell_type": "code",
      "execution_count": null,
      "id": "50f5925c-22c8-4899-9ff5-2dd2abbf8dfe",
      "metadata": {
        "id": "50f5925c-22c8-4899-9ff5-2dd2abbf8dfe"
      },
      "outputs": [],
      "source": [
        "from sklearn.preprocessing import PolynomialFeatures"
      ]
    },
    {
      "cell_type": "code",
      "execution_count": null,
      "id": "0c66baa7-de9a-449b-9433-2d4cca7b8876",
      "metadata": {
        "id": "0c66baa7-de9a-449b-9433-2d4cca7b8876",
        "outputId": "87e74944-a0fd-4e2c-ba95-1e7eb387cdbc"
      },
      "outputs": [
        {
          "data": {
            "text/plain": [
              "array([[0, 1],\n",
              "       [2, 3],\n",
              "       [4, 5]])"
            ]
          },
          "execution_count": 158,
          "metadata": {},
          "output_type": "execute_result"
        }
      ],
      "source": [
        "X = np.arange(6).reshape(3, 2)\n",
        "X"
      ]
    },
    {
      "cell_type": "code",
      "execution_count": null,
      "id": "c86a0668-e323-409d-bd54-8cbdb1947a2e",
      "metadata": {
        "id": "c86a0668-e323-409d-bd54-8cbdb1947a2e",
        "outputId": "98e5c359-0f6b-4891-a839-b42c5360e60f"
      },
      "outputs": [
        {
          "data": {
            "text/plain": [
              "array([[ 1.,  0.,  1.,  0.,  0.,  1.],\n",
              "       [ 1.,  2.,  3.,  4.,  6.,  9.],\n",
              "       [ 1.,  4.,  5., 16., 20., 25.]])"
            ]
          },
          "execution_count": 157,
          "metadata": {},
          "output_type": "execute_result"
        }
      ],
      "source": [
        "poly = PolynomialFeatures(2)\n",
        "poly.fit_transform(X)"
      ]
    },
    {
      "cell_type": "markdown",
      "id": "ac69912d-ee40-457f-b00a-cd27e098bd87",
      "metadata": {
        "id": "ac69912d-ee40-457f-b00a-cd27e098bd87"
      },
      "source": [
        "Другие преобразования: sin x, ln x"
      ]
    },
    {
      "cell_type": "markdown",
      "id": "32aa6592-4735-49b9-8e86-251e90c57ec8",
      "metadata": {
        "id": "32aa6592-4735-49b9-8e86-251e90c57ec8"
      },
      "source": [
        "Дискретизация и группировка по интервалам"
      ]
    },
    {
      "cell_type": "code",
      "execution_count": null,
      "id": "3aa1155a-4039-4cfd-b688-74e8090b8311",
      "metadata": {
        "id": "3aa1155a-4039-4cfd-b688-74e8090b8311",
        "outputId": "a7a930b7-124c-46ca-c6b5-45da81a4415b"
      },
      "outputs": [
        {
          "data": {
            "text/plain": [
              "array([[<AxesSubplot:title={'center':'0'}>]], dtype=object)"
            ]
          },
          "execution_count": 163,
          "metadata": {},
          "output_type": "execute_result"
        },
        {
          "data": {
            "image/png": "[encoded data removed]",
            "text/plain": [
              "<Figure size 640x480 with 1 Axes>"
            ]
          },
          "metadata": {},
          "output_type": "display_data"
        }
      ],
      "source": [
        "ages = [20, 22, 25, 27, 21, 23, 37, 31, 61, 45, 41, 32]\n",
        "pd.DataFrame(ages).hist()"
      ]
    },
    {
      "cell_type": "code",
      "execution_count": null,
      "id": "dca07e95-cb46-4c96-ac2e-6362f21a2369",
      "metadata": {
        "id": "dca07e95-cb46-4c96-ac2e-6362f21a2369",
        "outputId": "4f46c7aa-9a1d-43f6-a4db-a53e40224de0"
      },
      "outputs": [
        {
          "data": {
            "text/plain": [
              "[(18, 25], (18, 25], (18, 25], (25, 35], (18, 25], ..., (25, 35], (60, 100], (35, 60], (35, 60], (25, 35]]\n",
              "Length: 12\n",
              "Categories (4, interval[int64, right]): [(18, 25] < (25, 35] < (35, 60] < (60, 100]]"
            ]
          },
          "execution_count": 167,
          "metadata": {},
          "output_type": "execute_result"
        }
      ],
      "source": [
        "bins = [18, 25, 35, 60, 100]\n",
        "age_categories = pd.cut(ages, bins)\n",
        "age_categories"
      ]
    },
    {
      "cell_type": "code",
      "execution_count": null,
      "id": "baa240fe-6b8c-448b-b4da-18d031483166",
      "metadata": {
        "id": "baa240fe-6b8c-448b-b4da-18d031483166",
        "outputId": "7ce90d0b-e4d9-449e-ac7e-d82ea5b6cc84"
      },
      "outputs": [
        {
          "data": {
            "text/plain": [
              "array([0, 0, 0, 1, 0, 0, 2, 1, 3, 2, 2, 1], dtype=int8)"
            ]
          },
          "execution_count": 169,
          "metadata": {},
          "output_type": "execute_result"
        }
      ],
      "source": [
        "age_categories.codes"
      ]
    },
    {
      "cell_type": "markdown",
      "id": "585a6212-f38e-4075-9e22-4db4f63ff738",
      "metadata": {
        "id": "585a6212-f38e-4075-9e22-4db4f63ff738"
      },
      "source": [
        "# Преобразование данных"
      ]
    },
    {
      "cell_type": "markdown",
      "id": "2d222c6f-ee6e-4041-9e8b-c25a50398a26",
      "metadata": {
        "id": "2d222c6f-ee6e-4041-9e8b-c25a50398a26"
      },
      "source": [
        "Приведение к единой шкале: StandardScaler, MinMaxScaler"
      ]
    },
    {
      "cell_type": "code",
      "execution_count": null,
      "id": "b92a017c-843a-4bcf-afba-285402875a54",
      "metadata": {
        "id": "b92a017c-843a-4bcf-afba-285402875a54",
        "outputId": "a996e02f-5975-4b1e-f8ad-6abf8029aecb"
      },
      "outputs": [
        {
          "data": {
            "text/plain": [
              "array([[0.  , 0.  ],\n",
              "       [0.25, 0.25],\n",
              "       [0.5 , 0.5 ],\n",
              "       [1.  , 1.  ]])"
            ]
          },
          "execution_count": 172,
          "metadata": {},
          "output_type": "execute_result"
        }
      ],
      "source": [
        "from sklearn.preprocessing import MinMaxScaler, StandardScaler\n",
        "data = [[-1, 2], [-0.5, 6], [0, 10], [1, 18]]\n",
        "scaler = MinMaxScaler()\n",
        "scaler.fit_transform(data)"
      ]
    },
    {
      "cell_type": "code",
      "execution_count": null,
      "id": "ef46712e-8843-4541-be10-8d70f8ecfbaf",
      "metadata": {
        "id": "ef46712e-8843-4541-be10-8d70f8ecfbaf",
        "outputId": "e842c005-7cde-4d22-c81f-ec220c254dd1"
      },
      "outputs": [
        {
          "data": {
            "text/plain": [
              "array([[-1.18321596, -1.18321596],\n",
              "       [-0.50709255, -0.50709255],\n",
              "       [ 0.16903085,  0.16903085],\n",
              "       [ 1.52127766,  1.52127766]])"
            ]
          },
          "execution_count": 173,
          "metadata": {},
          "output_type": "execute_result"
        }
      ],
      "source": [
        "scaler = StandardScaler()\n",
        "scaler.fit_transform(data)"
      ]
    },
    {
      "cell_type": "markdown",
      "id": "6bcbefe2-9c43-49e3-b8df-573e62d6423b",
      "metadata": {
        "id": "6bcbefe2-9c43-49e3-b8df-573e62d6423b"
      },
      "source": [
        "Логарифмирование, преобразование Бокса-Кокса"
      ]
    },
    {
      "cell_type": "code",
      "execution_count": null,
      "id": "604e42de-1f57-41bf-ab4a-593edeeb7590",
      "metadata": {
        "id": "604e42de-1f57-41bf-ab4a-593edeeb7590",
        "outputId": "67d59531-688d-464e-d504-fe2236161286"
      },
      "outputs": [
        {
          "name": "stderr",
          "output_type": "stream",
          "text": [
            "C:\\Users\\kotenok\\anaconda3\\lib\\site-packages\\seaborn\\distributions.py:2619: FutureWarning: `distplot` is a deprecated function and will be removed in a future version. Please adapt your code to use either `displot` (a figure-level function with similar flexibility) or `kdeplot` (an axes-level function for kernel density plots).\n",
            "  warnings.warn(msg, FutureWarning)\n"
          ]
        },
        {
          "data": {
            "text/plain": [
              "<AxesSubplot:ylabel='Density'>"
            ]
          },
          "execution_count": 176,
          "metadata": {},
          "output_type": "execute_result"
        },
        {
          "data": {
            "image/png": "[encoded data removed]",
            "text/plain": [
              "<Figure size 640x480 with 1 Axes>"
            ]
          },
          "metadata": {},
          "output_type": "display_data"
        }
      ],
      "source": [
        "from scipy. stats import boxcox\n",
        "\n",
        "data = np.random.exponential(size= 1000)\n",
        "sns.distplot(data, hist= False, kde= True)"
      ]
    },
    {
      "cell_type": "code",
      "execution_count": null,
      "id": "96781df3-e5ab-46e9-87bb-22a22e307dbb",
      "metadata": {
        "id": "96781df3-e5ab-46e9-87bb-22a22e307dbb",
        "outputId": "5f4dea03-f6ad-4132-8e2d-edbb29583d08"
      },
      "outputs": [
        {
          "name": "stderr",
          "output_type": "stream",
          "text": [
            "C:\\Users\\kotenok\\anaconda3\\lib\\site-packages\\seaborn\\distributions.py:2619: FutureWarning: `distplot` is a deprecated function and will be removed in a future version. Please adapt your code to use either `displot` (a figure-level function with similar flexibility) or `kdeplot` (an axes-level function for kernel density plots).\n",
            "  warnings.warn(msg, FutureWarning)\n"
          ]
        },
        {
          "data": {
            "text/plain": [
              "<AxesSubplot:ylabel='Density'>"
            ]
          },
          "execution_count": 179,
          "metadata": {},
          "output_type": "execute_result"
        },
        {
          "data": {
            "image/png": "[encoded data removed]",
            "text/plain": [
              "<Figure size 640x480 with 1 Axes>"
            ]
          },
          "metadata": {},
          "output_type": "display_data"
        }
      ],
      "source": [
        "transformed_data = np.log(data)\n",
        "sns.distplot(transformed_data, hist=False, kde=True)"
      ]
    },
    {
      "cell_type": "code",
      "execution_count": null,
      "id": "9a13da8f-35f1-4d08-bc3a-3fb90b302bc2",
      "metadata": {
        "id": "9a13da8f-35f1-4d08-bc3a-3fb90b302bc2",
        "outputId": "79d947f5-28fe-48bc-db83-a0d40970ecba"
      },
      "outputs": [
        {
          "name": "stderr",
          "output_type": "stream",
          "text": [
            "C:\\Users\\kotenok\\anaconda3\\lib\\site-packages\\seaborn\\distributions.py:2619: FutureWarning: `distplot` is a deprecated function and will be removed in a future version. Please adapt your code to use either `displot` (a figure-level function with similar flexibility) or `kdeplot` (an axes-level function for kernel density plots).\n",
            "  warnings.warn(msg, FutureWarning)\n"
          ]
        },
        {
          "data": {
            "text/plain": [
              "<AxesSubplot:ylabel='Density'>"
            ]
          },
          "execution_count": 180,
          "metadata": {},
          "output_type": "execute_result"
        },
        {
          "data": {
            "image/png": "[encoded data removed]",
            "text/plain": [
              "<Figure size 640x480 with 1 Axes>"
            ]
          },
          "metadata": {},
          "output_type": "display_data"
        }
      ],
      "source": [
        "transformed_data, best_lambda = boxcox(data)\n",
        "\n",
        "sns.distplot(transformed_data, hist=False , kde=True)"
      ]
    },
    {
      "cell_type": "code",
      "execution_count": null,
      "id": "e5cdd77b-ad3f-496c-9263-055f4caa1bc9",
      "metadata": {
        "id": "e5cdd77b-ad3f-496c-9263-055f4caa1bc9",
        "outputId": "6e047f1d-01ac-47ad-82b6-9c876db97d56"
      },
      "outputs": [
        {
          "data": {
            "text/plain": [
              "0.2762186885938159"
            ]
          },
          "execution_count": 181,
          "metadata": {},
          "output_type": "execute_result"
        }
      ],
      "source": [
        "best_lambda"
      ]
    },
    {
      "cell_type": "markdown",
      "id": "682fe102-6387-40c9-9dd1-51ce07fdf058",
      "metadata": {
        "id": "682fe102-6387-40c9-9dd1-51ce07fdf058"
      },
      "source": [
        "# Домашнее задание"
      ]
    },
    {
      "cell_type": "code",
      "execution_count": null,
      "id": "b4fde0e8-d4c8-4c23-99d9-2d84a69425a6",
      "metadata": {
        "id": "b4fde0e8-d4c8-4c23-99d9-2d84a69425a6"
      },
      "outputs": [],
      "source": [
        "df = pd.read_csv(\"https://raw.githubusercontent.com/katarina74/ml_lessons/main/lesson_2/data/techparams_train.csv\")"
      ]
    },
    {
      "cell_type": "code",
      "execution_count": null,
      "id": "2458e2b0-dbac-4061-8c54-6522aad198be",
      "metadata": {
        "id": "2458e2b0-dbac-4061-8c54-6522aad198be",
        "outputId": "8cf8a1dd-8c3c-4e54-f95c-bd88418c6cd6"
      },
      "outputs": [
        {
          "data": {
            "text/html": [
              "<div>\n",
              "<style scoped>\n",
              "    .dataframe tbody tr th:only-of-type {\n",
              "        vertical-align: middle;\n",
              "    }\n",
              "\n",
              "    .dataframe tbody tr th {\n",
              "        vertical-align: top;\n",
              "    }\n",
              "\n",
              "    .dataframe thead th {\n",
              "        text-align: right;\n",
              "    }\n",
              "</style>\n",
              "<table border=\"1\" class=\"dataframe\">\n",
              "  <thead>\n",
              "    <tr style=\"text-align: right;\">\n",
              "      <th></th>\n",
              "      <th>index</th>\n",
              "      <th>back-suspension</th>\n",
              "      <th>battery-capacity</th>\n",
              "      <th>charge-time</th>\n",
              "      <th>compression</th>\n",
              "      <th>consumption-mixed</th>\n",
              "      <th>cylinders-order</th>\n",
              "      <th>cylinders-value</th>\n",
              "      <th>engine-feeding</th>\n",
              "      <th>engine-start</th>\n",
              "      <th>...</th>\n",
              "      <th>configurations_front-brake</th>\n",
              "      <th>configurations_safety-rating</th>\n",
              "      <th>configurations_seats</th>\n",
              "      <th>configurations_tank-volume</th>\n",
              "      <th>supergen_year-stop</th>\n",
              "      <th>models_country-from</th>\n",
              "      <th>models_group</th>\n",
              "      <th>models_light-and-commercial</th>\n",
              "      <th>models_male</th>\n",
              "      <th>target</th>\n",
              "    </tr>\n",
              "  </thead>\n",
              "  <tbody>\n",
              "    <tr>\n",
              "      <th>0</th>\n",
              "      <td>0</td>\n",
              "      <td>9</td>\n",
              "      <td>-1.0</td>\n",
              "      <td>36457</td>\n",
              "      <td>9.0</td>\n",
              "      <td>4.3</td>\n",
              "      <td>0</td>\n",
              "      <td>3</td>\n",
              "      <td>4</td>\n",
              "      <td>2006</td>\n",
              "      <td>...</td>\n",
              "      <td>1</td>\n",
              "      <td>2</td>\n",
              "      <td>13</td>\n",
              "      <td>40.0</td>\n",
              "      <td>2018.0</td>\n",
              "      <td>16</td>\n",
              "      <td>3</td>\n",
              "      <td>0</td>\n",
              "      <td>1</td>\n",
              "      <td>2360</td>\n",
              "    </tr>\n",
              "    <tr>\n",
              "      <th>1</th>\n",
              "      <td>2</td>\n",
              "      <td>3</td>\n",
              "      <td>-1.0</td>\n",
              "      <td>44872</td>\n",
              "      <td>8.0</td>\n",
              "      <td>-1.0</td>\n",
              "      <td>3</td>\n",
              "      <td>7</td>\n",
              "      <td>4</td>\n",
              "      <td>1982</td>\n",
              "      <td>...</td>\n",
              "      <td>4</td>\n",
              "      <td>2</td>\n",
              "      <td>13</td>\n",
              "      <td>108.0</td>\n",
              "      <td>1993.0</td>\n",
              "      <td>34</td>\n",
              "      <td>3</td>\n",
              "      <td>0</td>\n",
              "      <td>1</td>\n",
              "      <td>3060</td>\n",
              "    </tr>\n",
              "    <tr>\n",
              "      <th>2</th>\n",
              "      <td>4</td>\n",
              "      <td>3</td>\n",
              "      <td>-1.0</td>\n",
              "      <td>55927</td>\n",
              "      <td>16.0</td>\n",
              "      <td>4.2</td>\n",
              "      <td>0</td>\n",
              "      <td>4</td>\n",
              "      <td>5</td>\n",
              "      <td>2014</td>\n",
              "      <td>...</td>\n",
              "      <td>4</td>\n",
              "      <td>2</td>\n",
              "      <td>13</td>\n",
              "      <td>55.0</td>\n",
              "      <td>2019.0</td>\n",
              "      <td>35</td>\n",
              "      <td>3</td>\n",
              "      <td>0</td>\n",
              "      <td>1</td>\n",
              "      <td>2648</td>\n",
              "    </tr>\n",
              "    <tr>\n",
              "      <th>3</th>\n",
              "      <td>5</td>\n",
              "      <td>0</td>\n",
              "      <td>-1.0</td>\n",
              "      <td>41405</td>\n",
              "      <td>10.3</td>\n",
              "      <td>-1.0</td>\n",
              "      <td>0</td>\n",
              "      <td>4</td>\n",
              "      <td>4</td>\n",
              "      <td>2000</td>\n",
              "      <td>...</td>\n",
              "      <td>4</td>\n",
              "      <td>2</td>\n",
              "      <td>13</td>\n",
              "      <td>55.0</td>\n",
              "      <td>2003.0</td>\n",
              "      <td>10</td>\n",
              "      <td>3</td>\n",
              "      <td>0</td>\n",
              "      <td>1</td>\n",
              "      <td>2513</td>\n",
              "    </tr>\n",
              "    <tr>\n",
              "      <th>4</th>\n",
              "      <td>7</td>\n",
              "      <td>8</td>\n",
              "      <td>-1.0</td>\n",
              "      <td>22523</td>\n",
              "      <td>19.0</td>\n",
              "      <td>-1.0</td>\n",
              "      <td>0</td>\n",
              "      <td>4</td>\n",
              "      <td>8</td>\n",
              "      <td>2000</td>\n",
              "      <td>...</td>\n",
              "      <td>4</td>\n",
              "      <td>1</td>\n",
              "      <td>13</td>\n",
              "      <td>62.0</td>\n",
              "      <td>2005.0</td>\n",
              "      <td>10</td>\n",
              "      <td>3</td>\n",
              "      <td>0</td>\n",
              "      <td>1</td>\n",
              "      <td>2703</td>\n",
              "    </tr>\n",
              "    <tr>\n",
              "      <th>...</th>\n",
              "      <td>...</td>\n",
              "      <td>...</td>\n",
              "      <td>...</td>\n",
              "      <td>...</td>\n",
              "      <td>...</td>\n",
              "      <td>...</td>\n",
              "      <td>...</td>\n",
              "      <td>...</td>\n",
              "      <td>...</td>\n",
              "      <td>...</td>\n",
              "      <td>...</td>\n",
              "      <td>...</td>\n",
              "      <td>...</td>\n",
              "      <td>...</td>\n",
              "      <td>...</td>\n",
              "      <td>...</td>\n",
              "      <td>...</td>\n",
              "      <td>...</td>\n",
              "      <td>...</td>\n",
              "      <td>...</td>\n",
              "      <td>...</td>\n",
              "    </tr>\n",
              "    <tr>\n",
              "      <th>43240</th>\n",
              "      <td>61224</td>\n",
              "      <td>9</td>\n",
              "      <td>-1.0</td>\n",
              "      <td>34558</td>\n",
              "      <td>11.2</td>\n",
              "      <td>6.6</td>\n",
              "      <td>0</td>\n",
              "      <td>4</td>\n",
              "      <td>4</td>\n",
              "      <td>2004</td>\n",
              "      <td>...</td>\n",
              "      <td>1</td>\n",
              "      <td>2</td>\n",
              "      <td>13</td>\n",
              "      <td>47.0</td>\n",
              "      <td>2016.0</td>\n",
              "      <td>15</td>\n",
              "      <td>3</td>\n",
              "      <td>0</td>\n",
              "      <td>1</td>\n",
              "      <td>2510</td>\n",
              "    </tr>\n",
              "    <tr>\n",
              "      <th>43241</th>\n",
              "      <td>61225</td>\n",
              "      <td>3</td>\n",
              "      <td>-1.0</td>\n",
              "      <td>38268</td>\n",
              "      <td>9.6</td>\n",
              "      <td>5.8</td>\n",
              "      <td>0</td>\n",
              "      <td>4</td>\n",
              "      <td>2</td>\n",
              "      <td>2013</td>\n",
              "      <td>...</td>\n",
              "      <td>4</td>\n",
              "      <td>2</td>\n",
              "      <td>13</td>\n",
              "      <td>65.0</td>\n",
              "      <td>2015.0</td>\n",
              "      <td>10</td>\n",
              "      <td>3</td>\n",
              "      <td>0</td>\n",
              "      <td>1</td>\n",
              "      <td>2808</td>\n",
              "    </tr>\n",
              "    <tr>\n",
              "      <th>43242</th>\n",
              "      <td>61226</td>\n",
              "      <td>3</td>\n",
              "      <td>-1.0</td>\n",
              "      <td>8958</td>\n",
              "      <td>10.0</td>\n",
              "      <td>9.3</td>\n",
              "      <td>0</td>\n",
              "      <td>4</td>\n",
              "      <td>4</td>\n",
              "      <td>1991</td>\n",
              "      <td>...</td>\n",
              "      <td>4</td>\n",
              "      <td>2</td>\n",
              "      <td>13</td>\n",
              "      <td>55.0</td>\n",
              "      <td>1999.0</td>\n",
              "      <td>16</td>\n",
              "      <td>3</td>\n",
              "      <td>0</td>\n",
              "      <td>1</td>\n",
              "      <td>2520</td>\n",
              "    </tr>\n",
              "    <tr>\n",
              "      <th>43243</th>\n",
              "      <td>61227</td>\n",
              "      <td>3</td>\n",
              "      <td>-1.0</td>\n",
              "      <td>20293</td>\n",
              "      <td>8.5</td>\n",
              "      <td>-1.0</td>\n",
              "      <td>0</td>\n",
              "      <td>5</td>\n",
              "      <td>4</td>\n",
              "      <td>2002</td>\n",
              "      <td>...</td>\n",
              "      <td>1</td>\n",
              "      <td>2</td>\n",
              "      <td>13</td>\n",
              "      <td>70.0</td>\n",
              "      <td>2004.0</td>\n",
              "      <td>28</td>\n",
              "      <td>3</td>\n",
              "      <td>0</td>\n",
              "      <td>1</td>\n",
              "      <td>2755</td>\n",
              "    </tr>\n",
              "    <tr>\n",
              "      <th>43244</th>\n",
              "      <td>61228</td>\n",
              "      <td>10</td>\n",
              "      <td>-1.0</td>\n",
              "      <td>52459</td>\n",
              "      <td>8.6</td>\n",
              "      <td>-1.0</td>\n",
              "      <td>0</td>\n",
              "      <td>4</td>\n",
              "      <td>4</td>\n",
              "      <td>1982</td>\n",
              "      <td>...</td>\n",
              "      <td>1</td>\n",
              "      <td>2</td>\n",
              "      <td>8</td>\n",
              "      <td>-1.0</td>\n",
              "      <td>1987.0</td>\n",
              "      <td>16</td>\n",
              "      <td>3</td>\n",
              "      <td>0</td>\n",
              "      <td>0</td>\n",
              "      <td>2620</td>\n",
              "    </tr>\n",
              "  </tbody>\n",
              "</table>\n",
              "<p>43245 rows × 32 columns</p>\n",
              "</div>"
            ],
            "text/plain": [
              "       index  back-suspension  battery-capacity  charge-time  compression  \\\n",
              "0          0                9              -1.0        36457          9.0   \n",
              "1          2                3              -1.0        44872          8.0   \n",
              "2          4                3              -1.0        55927         16.0   \n",
              "3          5                0              -1.0        41405         10.3   \n",
              "4          7                8              -1.0        22523         19.0   \n",
              "...      ...              ...               ...          ...          ...   \n",
              "43240  61224                9              -1.0        34558         11.2   \n",
              "43241  61225                3              -1.0        38268          9.6   \n",
              "43242  61226                3              -1.0         8958         10.0   \n",
              "43243  61227                3              -1.0        20293          8.5   \n",
              "43244  61228               10              -1.0        52459          8.6   \n",
              "\n",
              "       consumption-mixed  cylinders-order  cylinders-value  engine-feeding  \\\n",
              "0                    4.3                0                3               4   \n",
              "1                   -1.0                3                7               4   \n",
              "2                    4.2                0                4               5   \n",
              "3                   -1.0                0                4               4   \n",
              "4                   -1.0                0                4               8   \n",
              "...                  ...              ...              ...             ...   \n",
              "43240                6.6                0                4               4   \n",
              "43241                5.8                0                4               2   \n",
              "43242                9.3                0                4               4   \n",
              "43243               -1.0                0                5               4   \n",
              "43244               -1.0                0                4               4   \n",
              "\n",
              "       engine-start  ...  configurations_front-brake  \\\n",
              "0              2006  ...                           1   \n",
              "1              1982  ...                           4   \n",
              "2              2014  ...                           4   \n",
              "3              2000  ...                           4   \n",
              "4              2000  ...                           4   \n",
              "...             ...  ...                         ...   \n",
              "43240          2004  ...                           1   \n",
              "43241          2013  ...                           4   \n",
              "43242          1991  ...                           4   \n",
              "43243          2002  ...                           1   \n",
              "43244          1982  ...                           1   \n",
              "\n",
              "       configurations_safety-rating  configurations_seats  \\\n",
              "0                                 2                    13   \n",
              "1                                 2                    13   \n",
              "2                                 2                    13   \n",
              "3                                 2                    13   \n",
              "4                                 1                    13   \n",
              "...                             ...                   ...   \n",
              "43240                             2                    13   \n",
              "43241                             2                    13   \n",
              "43242                             2                    13   \n",
              "43243                             2                    13   \n",
              "43244                             2                     8   \n",
              "\n",
              "       configurations_tank-volume  supergen_year-stop  models_country-from  \\\n",
              "0                            40.0              2018.0                   16   \n",
              "1                           108.0              1993.0                   34   \n",
              "2                            55.0              2019.0                   35   \n",
              "3                            55.0              2003.0                   10   \n",
              "4                            62.0              2005.0                   10   \n",
              "...                           ...                 ...                  ...   \n",
              "43240                        47.0              2016.0                   15   \n",
              "43241                        65.0              2015.0                   10   \n",
              "43242                        55.0              1999.0                   16   \n",
              "43243                        70.0              2004.0                   28   \n",
              "43244                        -1.0              1987.0                   16   \n",
              "\n",
              "       models_group  models_light-and-commercial  models_male  target  \n",
              "0                 3                            0            1    2360  \n",
              "1                 3                            0            1    3060  \n",
              "2                 3                            0            1    2648  \n",
              "3                 3                            0            1    2513  \n",
              "4                 3                            0            1    2703  \n",
              "...             ...                          ...          ...     ...  \n",
              "43240             3                            0            1    2510  \n",
              "43241             3                            0            1    2808  \n",
              "43242             3                            0            1    2520  \n",
              "43243             3                            0            1    2755  \n",
              "43244             3                            0            0    2620  \n",
              "\n",
              "[43245 rows x 32 columns]"
            ]
          },
          "execution_count": 52,
          "metadata": {},
          "output_type": "execute_result"
        }
      ],
      "source": [
        "df"
      ]
    },
    {
      "cell_type": "markdown",
      "id": "fdbe8986-3152-4eee-bc60-a83551afee1e",
      "metadata": {
        "id": "fdbe8986-3152-4eee-bc60-a83551afee1e"
      },
      "source": [
        "Данные: технические характеристики разных конфигураций автомобилей\n",
        "\n",
        "Таргет: длина колесной базы конфигурации (в миллиметрах)."
      ]
    },
    {
      "cell_type": "code",
      "execution_count": null,
      "id": "1217ce0a",
      "metadata": {
        "id": "1217ce0a"
      },
      "outputs": [],
      "source": [
        "from sklearn.model_selection import train_test_split\n",
        "from sklearn.linear_model import LinearRegression\n",
        "from sklearn.metrics import mean_squared_error\n",
        "from sklearn.model_selection import cross_validate"
      ]
    },
    {
      "cell_type": "markdown",
      "id": "84957700",
      "metadata": {
        "id": "84957700"
      },
      "source": [
        "Посмотрим матрицу корреляций"
      ]
    },
    {
      "cell_type": "code",
      "execution_count": null,
      "id": "cbf085bb",
      "metadata": {
        "scrolled": true,
        "id": "cbf085bb",
        "outputId": "318d1e42-01bd-4884-c29c-47d73e0f49b3"
      },
      "outputs": [
        {
          "data": {
            "text/html": [
              "<div>\n",
              "<style scoped>\n",
              "    .dataframe tbody tr th:only-of-type {\n",
              "        vertical-align: middle;\n",
              "    }\n",
              "\n",
              "    .dataframe tbody tr th {\n",
              "        vertical-align: top;\n",
              "    }\n",
              "\n",
              "    .dataframe thead th {\n",
              "        text-align: right;\n",
              "    }\n",
              "</style>\n",
              "<table border=\"1\" class=\"dataframe\">\n",
              "  <thead>\n",
              "    <tr style=\"text-align: right;\">\n",
              "      <th></th>\n",
              "      <th>index</th>\n",
              "      <th>back-suspension</th>\n",
              "      <th>battery-capacity</th>\n",
              "      <th>charge-time</th>\n",
              "      <th>compression</th>\n",
              "      <th>consumption-mixed</th>\n",
              "      <th>cylinders-order</th>\n",
              "      <th>cylinders-value</th>\n",
              "      <th>engine-feeding</th>\n",
              "      <th>engine-start</th>\n",
              "      <th>...</th>\n",
              "      <th>configurations_front-brake</th>\n",
              "      <th>configurations_safety-rating</th>\n",
              "      <th>configurations_seats</th>\n",
              "      <th>configurations_tank-volume</th>\n",
              "      <th>supergen_year-stop</th>\n",
              "      <th>models_country-from</th>\n",
              "      <th>models_group</th>\n",
              "      <th>models_light-and-commercial</th>\n",
              "      <th>models_male</th>\n",
              "      <th>target</th>\n",
              "    </tr>\n",
              "  </thead>\n",
              "  <tbody>\n",
              "    <tr>\n",
              "      <th>index</th>\n",
              "      <td>1.000000</td>\n",
              "      <td>0.003898</td>\n",
              "      <td>-0.001457</td>\n",
              "      <td>-0.005556</td>\n",
              "      <td>-0.000464</td>\n",
              "      <td>-0.000202</td>\n",
              "      <td>-0.002258</td>\n",
              "      <td>-0.001537</td>\n",
              "      <td>0.001591</td>\n",
              "      <td>-0.000337</td>\n",
              "      <td>...</td>\n",
              "      <td>0.004611</td>\n",
              "      <td>-0.004249</td>\n",
              "      <td>0.000466</td>\n",
              "      <td>-0.001526</td>\n",
              "      <td>0.000074</td>\n",
              "      <td>-0.006934</td>\n",
              "      <td>0.006834</td>\n",
              "      <td>0.005661</td>\n",
              "      <td>-0.001654</td>\n",
              "      <td>0.002701</td>\n",
              "    </tr>\n",
              "    <tr>\n",
              "      <th>back-suspension</th>\n",
              "      <td>0.003898</td>\n",
              "      <td>1.000000</td>\n",
              "      <td>0.008851</td>\n",
              "      <td>-0.193989</td>\n",
              "      <td>-0.105450</td>\n",
              "      <td>-0.137078</td>\n",
              "      <td>-0.119261</td>\n",
              "      <td>-0.160858</td>\n",
              "      <td>0.061687</td>\n",
              "      <td>-0.029760</td>\n",
              "      <td>...</td>\n",
              "      <td>-0.102584</td>\n",
              "      <td>-0.031057</td>\n",
              "      <td>-0.042323</td>\n",
              "      <td>-0.323143</td>\n",
              "      <td>-0.021228</td>\n",
              "      <td>-0.116755</td>\n",
              "      <td>-0.019685</td>\n",
              "      <td>-0.016126</td>\n",
              "      <td>0.043355</td>\n",
              "      <td>-0.159912</td>\n",
              "    </tr>\n",
              "    <tr>\n",
              "      <th>battery-capacity</th>\n",
              "      <td>-0.001457</td>\n",
              "      <td>0.008851</td>\n",
              "      <td>1.000000</td>\n",
              "      <td>-0.031922</td>\n",
              "      <td>-0.057803</td>\n",
              "      <td>-0.043129</td>\n",
              "      <td>0.158632</td>\n",
              "      <td>-0.145231</td>\n",
              "      <td>0.065207</td>\n",
              "      <td>0.056365</td>\n",
              "      <td>...</td>\n",
              "      <td>0.022147</td>\n",
              "      <td>-0.008994</td>\n",
              "      <td>0.006409</td>\n",
              "      <td>-0.071311</td>\n",
              "      <td>-0.102719</td>\n",
              "      <td>0.020826</td>\n",
              "      <td>0.002595</td>\n",
              "      <td>-0.001942</td>\n",
              "      <td>0.024069</td>\n",
              "      <td>0.025703</td>\n",
              "    </tr>\n",
              "    <tr>\n",
              "      <th>charge-time</th>\n",
              "      <td>-0.005556</td>\n",
              "      <td>-0.193989</td>\n",
              "      <td>-0.031922</td>\n",
              "      <td>1.000000</td>\n",
              "      <td>0.018219</td>\n",
              "      <td>0.046768</td>\n",
              "      <td>0.107905</td>\n",
              "      <td>0.121424</td>\n",
              "      <td>-0.007057</td>\n",
              "      <td>0.089422</td>\n",
              "      <td>...</td>\n",
              "      <td>0.080451</td>\n",
              "      <td>-0.012119</td>\n",
              "      <td>-0.023785</td>\n",
              "      <td>0.089222</td>\n",
              "      <td>-0.032347</td>\n",
              "      <td>0.207838</td>\n",
              "      <td>-0.027029</td>\n",
              "      <td>-0.048904</td>\n",
              "      <td>-0.030769</td>\n",
              "      <td>0.110034</td>\n",
              "    </tr>\n",
              "    <tr>\n",
              "      <th>compression</th>\n",
              "      <td>-0.000464</td>\n",
              "      <td>-0.105450</td>\n",
              "      <td>-0.057803</td>\n",
              "      <td>0.018219</td>\n",
              "      <td>1.000000</td>\n",
              "      <td>0.130448</td>\n",
              "      <td>-0.084557</td>\n",
              "      <td>-0.033044</td>\n",
              "      <td>0.167183</td>\n",
              "      <td>0.252255</td>\n",
              "      <td>...</td>\n",
              "      <td>0.195110</td>\n",
              "      <td>-0.111495</td>\n",
              "      <td>0.054701</td>\n",
              "      <td>0.266837</td>\n",
              "      <td>0.005798</td>\n",
              "      <td>-0.070765</td>\n",
              "      <td>0.000219</td>\n",
              "      <td>0.006494</td>\n",
              "      <td>-0.003346</td>\n",
              "      <td>0.023138</td>\n",
              "    </tr>\n",
              "    <tr>\n",
              "      <th>consumption-mixed</th>\n",
              "      <td>-0.000202</td>\n",
              "      <td>-0.137078</td>\n",
              "      <td>-0.043129</td>\n",
              "      <td>0.046768</td>\n",
              "      <td>0.130448</td>\n",
              "      <td>1.000000</td>\n",
              "      <td>0.079701</td>\n",
              "      <td>0.125600</td>\n",
              "      <td>-0.004348</td>\n",
              "      <td>0.316506</td>\n",
              "      <td>...</td>\n",
              "      <td>0.265524</td>\n",
              "      <td>-0.080412</td>\n",
              "      <td>0.022038</td>\n",
              "      <td>0.307298</td>\n",
              "      <td>-0.064671</td>\n",
              "      <td>-0.113843</td>\n",
              "      <td>-0.033141</td>\n",
              "      <td>0.024245</td>\n",
              "      <td>-0.014838</td>\n",
              "      <td>0.118195</td>\n",
              "    </tr>\n",
              "    <tr>\n",
              "      <th>cylinders-order</th>\n",
              "      <td>-0.002258</td>\n",
              "      <td>-0.119261</td>\n",
              "      <td>0.158632</td>\n",
              "      <td>0.107905</td>\n",
              "      <td>-0.084557</td>\n",
              "      <td>0.079701</td>\n",
              "      <td>1.000000</td>\n",
              "      <td>0.720077</td>\n",
              "      <td>-0.074468</td>\n",
              "      <td>-0.052457</td>\n",
              "      <td>...</td>\n",
              "      <td>0.033961</td>\n",
              "      <td>0.102481</td>\n",
              "      <td>-0.014392</td>\n",
              "      <td>0.224373</td>\n",
              "      <td>0.008260</td>\n",
              "      <td>0.232579</td>\n",
              "      <td>-0.023909</td>\n",
              "      <td>-0.011807</td>\n",
              "      <td>0.000143</td>\n",
              "      <td>0.376272</td>\n",
              "    </tr>\n",
              "    <tr>\n",
              "      <th>cylinders-value</th>\n",
              "      <td>-0.001537</td>\n",
              "      <td>-0.160858</td>\n",
              "      <td>-0.145231</td>\n",
              "      <td>0.121424</td>\n",
              "      <td>-0.033044</td>\n",
              "      <td>0.125600</td>\n",
              "      <td>0.720077</td>\n",
              "      <td>1.000000</td>\n",
              "      <td>-0.101289</td>\n",
              "      <td>-0.161831</td>\n",
              "      <td>...</td>\n",
              "      <td>0.033480</td>\n",
              "      <td>0.125640</td>\n",
              "      <td>-0.028327</td>\n",
              "      <td>0.302997</td>\n",
              "      <td>0.085953</td>\n",
              "      <td>0.217498</td>\n",
              "      <td>-0.044688</td>\n",
              "      <td>-0.014459</td>\n",
              "      <td>-0.017780</td>\n",
              "      <td>0.472177</td>\n",
              "    </tr>\n",
              "    <tr>\n",
              "      <th>engine-feeding</th>\n",
              "      <td>0.001591</td>\n",
              "      <td>0.061687</td>\n",
              "      <td>0.065207</td>\n",
              "      <td>-0.007057</td>\n",
              "      <td>0.167183</td>\n",
              "      <td>-0.004348</td>\n",
              "      <td>-0.074468</td>\n",
              "      <td>-0.101289</td>\n",
              "      <td>1.000000</td>\n",
              "      <td>0.232445</td>\n",
              "      <td>...</td>\n",
              "      <td>0.127065</td>\n",
              "      <td>-0.057243</td>\n",
              "      <td>0.076379</td>\n",
              "      <td>0.042067</td>\n",
              "      <td>0.031153</td>\n",
              "      <td>-0.110842</td>\n",
              "      <td>0.012638</td>\n",
              "      <td>0.026376</td>\n",
              "      <td>-0.026445</td>\n",
              "      <td>0.012235</td>\n",
              "    </tr>\n",
              "    <tr>\n",
              "      <th>engine-start</th>\n",
              "      <td>-0.000337</td>\n",
              "      <td>-0.029760</td>\n",
              "      <td>0.056365</td>\n",
              "      <td>0.089422</td>\n",
              "      <td>0.252255</td>\n",
              "      <td>0.316506</td>\n",
              "      <td>-0.052457</td>\n",
              "      <td>-0.161831</td>\n",
              "      <td>0.232445</td>\n",
              "      <td>1.000000</td>\n",
              "      <td>...</td>\n",
              "      <td>0.504745</td>\n",
              "      <td>-0.229782</td>\n",
              "      <td>0.065405</td>\n",
              "      <td>0.327209</td>\n",
              "      <td>-0.399186</td>\n",
              "      <td>-0.136376</td>\n",
              "      <td>-0.026436</td>\n",
              "      <td>0.038331</td>\n",
              "      <td>0.028909</td>\n",
              "      <td>0.150944</td>\n",
              "    </tr>\n",
              "    <tr>\n",
              "      <th>engine-stop</th>\n",
              "      <td>0.000014</td>\n",
              "      <td>-0.026592</td>\n",
              "      <td>-0.103095</td>\n",
              "      <td>-0.033840</td>\n",
              "      <td>0.008496</td>\n",
              "      <td>-0.060000</td>\n",
              "      <td>0.007639</td>\n",
              "      <td>0.084740</td>\n",
              "      <td>0.027275</td>\n",
              "      <td>-0.383053</td>\n",
              "      <td>...</td>\n",
              "      <td>-0.165635</td>\n",
              "      <td>0.073022</td>\n",
              "      <td>-0.072257</td>\n",
              "      <td>-0.008340</td>\n",
              "      <td>0.942911</td>\n",
              "      <td>0.010484</td>\n",
              "      <td>0.004332</td>\n",
              "      <td>-0.062556</td>\n",
              "      <td>-0.096968</td>\n",
              "      <td>-0.137719</td>\n",
              "    </tr>\n",
              "    <tr>\n",
              "      <th>engine-type</th>\n",
              "      <td>-0.001997</td>\n",
              "      <td>0.023575</td>\n",
              "      <td>-0.013112</td>\n",
              "      <td>0.025986</td>\n",
              "      <td>-0.423809</td>\n",
              "      <td>0.027914</td>\n",
              "      <td>0.161144</td>\n",
              "      <td>0.132648</td>\n",
              "      <td>-0.472376</td>\n",
              "      <td>-0.195802</td>\n",
              "      <td>...</td>\n",
              "      <td>-0.114983</td>\n",
              "      <td>0.113149</td>\n",
              "      <td>-0.152197</td>\n",
              "      <td>-0.109428</td>\n",
              "      <td>0.068168</td>\n",
              "      <td>0.119582</td>\n",
              "      <td>-0.026761</td>\n",
              "      <td>-0.070262</td>\n",
              "      <td>0.002693</td>\n",
              "      <td>-0.125304</td>\n",
              "    </tr>\n",
              "    <tr>\n",
              "      <th>gear-type</th>\n",
              "      <td>-0.001389</td>\n",
              "      <td>0.004268</td>\n",
              "      <td>-0.022934</td>\n",
              "      <td>0.008855</td>\n",
              "      <td>-0.109125</td>\n",
              "      <td>-0.101855</td>\n",
              "      <td>0.054295</td>\n",
              "      <td>0.169542</td>\n",
              "      <td>-0.128977</td>\n",
              "      <td>-0.306258</td>\n",
              "      <td>...</td>\n",
              "      <td>-0.135675</td>\n",
              "      <td>0.061381</td>\n",
              "      <td>-0.133547</td>\n",
              "      <td>-0.120034</td>\n",
              "      <td>0.077811</td>\n",
              "      <td>0.075160</td>\n",
              "      <td>-0.029233</td>\n",
              "      <td>0.026854</td>\n",
              "      <td>0.002759</td>\n",
              "      <td>0.068319</td>\n",
              "    </tr>\n",
              "    <tr>\n",
              "      <th>luxury</th>\n",
              "      <td>-0.002904</td>\n",
              "      <td>-0.188800</td>\n",
              "      <td>-0.002355</td>\n",
              "      <td>0.949215</td>\n",
              "      <td>0.005815</td>\n",
              "      <td>0.018968</td>\n",
              "      <td>0.078044</td>\n",
              "      <td>0.077473</td>\n",
              "      <td>0.004969</td>\n",
              "      <td>0.058362</td>\n",
              "      <td>...</td>\n",
              "      <td>0.062416</td>\n",
              "      <td>-0.015207</td>\n",
              "      <td>-0.022370</td>\n",
              "      <td>0.059912</td>\n",
              "      <td>-0.030570</td>\n",
              "      <td>0.197077</td>\n",
              "      <td>-0.026136</td>\n",
              "      <td>-0.046240</td>\n",
              "      <td>-0.029034</td>\n",
              "      <td>0.085707</td>\n",
              "    </tr>\n",
              "    <tr>\n",
              "      <th>max-speed</th>\n",
              "      <td>0.002346</td>\n",
              "      <td>-0.109077</td>\n",
              "      <td>0.029325</td>\n",
              "      <td>0.048685</td>\n",
              "      <td>0.209424</td>\n",
              "      <td>0.494636</td>\n",
              "      <td>0.075703</td>\n",
              "      <td>0.118216</td>\n",
              "      <td>0.050093</td>\n",
              "      <td>0.427079</td>\n",
              "      <td>...</td>\n",
              "      <td>0.278240</td>\n",
              "      <td>-0.194103</td>\n",
              "      <td>-0.069876</td>\n",
              "      <td>0.320531</td>\n",
              "      <td>-0.100095</td>\n",
              "      <td>-0.134368</td>\n",
              "      <td>-0.035699</td>\n",
              "      <td>-0.010492</td>\n",
              "      <td>-0.014162</td>\n",
              "      <td>0.111922</td>\n",
              "    </tr>\n",
              "    <tr>\n",
              "      <th>power-electro-kw</th>\n",
              "      <td>0.007510</td>\n",
              "      <td>-0.003078</td>\n",
              "      <td>0.410707</td>\n",
              "      <td>-0.022554</td>\n",
              "      <td>-0.016972</td>\n",
              "      <td>-0.020322</td>\n",
              "      <td>0.070138</td>\n",
              "      <td>-0.053368</td>\n",
              "      <td>0.007754</td>\n",
              "      <td>0.062919</td>\n",
              "      <td>...</td>\n",
              "      <td>0.029049</td>\n",
              "      <td>-0.002881</td>\n",
              "      <td>0.009091</td>\n",
              "      <td>-0.022337</td>\n",
              "      <td>-0.087191</td>\n",
              "      <td>-0.009634</td>\n",
              "      <td>0.003114</td>\n",
              "      <td>-0.002330</td>\n",
              "      <td>0.005972</td>\n",
              "      <td>0.028609</td>\n",
              "    </tr>\n",
              "    <tr>\n",
              "      <th>supply-system</th>\n",
              "      <td>-0.007180</td>\n",
              "      <td>-0.033765</td>\n",
              "      <td>-0.021193</td>\n",
              "      <td>0.016368</td>\n",
              "      <td>0.163090</td>\n",
              "      <td>0.175339</td>\n",
              "      <td>-0.045314</td>\n",
              "      <td>-0.002668</td>\n",
              "      <td>0.073064</td>\n",
              "      <td>0.157331</td>\n",
              "      <td>...</td>\n",
              "      <td>0.124006</td>\n",
              "      <td>-0.124799</td>\n",
              "      <td>-0.008360</td>\n",
              "      <td>0.193678</td>\n",
              "      <td>0.153846</td>\n",
              "      <td>-0.097040</td>\n",
              "      <td>-0.005361</td>\n",
              "      <td>-0.010153</td>\n",
              "      <td>-0.034368</td>\n",
              "      <td>0.045416</td>\n",
              "    </tr>\n",
              "    <tr>\n",
              "      <th>valves</th>\n",
              "      <td>0.006258</td>\n",
              "      <td>0.132197</td>\n",
              "      <td>0.124941</td>\n",
              "      <td>-0.109030</td>\n",
              "      <td>-0.310940</td>\n",
              "      <td>-0.196455</td>\n",
              "      <td>0.026420</td>\n",
              "      <td>-0.026653</td>\n",
              "      <td>0.191078</td>\n",
              "      <td>-0.240955</td>\n",
              "      <td>...</td>\n",
              "      <td>-0.183620</td>\n",
              "      <td>0.079333</td>\n",
              "      <td>-0.055996</td>\n",
              "      <td>-0.307176</td>\n",
              "      <td>0.029097</td>\n",
              "      <td>-0.014721</td>\n",
              "      <td>0.010498</td>\n",
              "      <td>-0.010437</td>\n",
              "      <td>-0.000155</td>\n",
              "      <td>-0.066402</td>\n",
              "    </tr>\n",
              "    <tr>\n",
              "      <th>valvetrain</th>\n",
              "      <td>0.002195</td>\n",
              "      <td>0.027428</td>\n",
              "      <td>0.043971</td>\n",
              "      <td>0.006639</td>\n",
              "      <td>-0.174747</td>\n",
              "      <td>-0.147662</td>\n",
              "      <td>0.077159</td>\n",
              "      <td>0.061603</td>\n",
              "      <td>-0.002288</td>\n",
              "      <td>-0.287556</td>\n",
              "      <td>...</td>\n",
              "      <td>-0.228610</td>\n",
              "      <td>0.113178</td>\n",
              "      <td>0.029674</td>\n",
              "      <td>-0.142242</td>\n",
              "      <td>0.066422</td>\n",
              "      <td>0.104536</td>\n",
              "      <td>0.021138</td>\n",
              "      <td>-0.019534</td>\n",
              "      <td>-0.030069</td>\n",
              "      <td>0.021120</td>\n",
              "    </tr>\n",
              "    <tr>\n",
              "      <th>weight</th>\n",
              "      <td>-0.001538</td>\n",
              "      <td>-0.266417</td>\n",
              "      <td>0.007378</td>\n",
              "      <td>0.078015</td>\n",
              "      <td>0.259621</td>\n",
              "      <td>0.467731</td>\n",
              "      <td>0.199547</td>\n",
              "      <td>0.220476</td>\n",
              "      <td>0.016811</td>\n",
              "      <td>0.420975</td>\n",
              "      <td>...</td>\n",
              "      <td>0.319780</td>\n",
              "      <td>-0.102271</td>\n",
              "      <td>0.180505</td>\n",
              "      <td>0.546153</td>\n",
              "      <td>-0.143014</td>\n",
              "      <td>-0.034637</td>\n",
              "      <td>-0.021805</td>\n",
              "      <td>0.052404</td>\n",
              "      <td>0.010082</td>\n",
              "      <td>0.339835</td>\n",
              "    </tr>\n",
              "    <tr>\n",
              "      <th>configurations_auto-premiere</th>\n",
              "      <td>-0.005759</td>\n",
              "      <td>-0.194854</td>\n",
              "      <td>-0.003152</td>\n",
              "      <td>0.994027</td>\n",
              "      <td>0.015266</td>\n",
              "      <td>0.043494</td>\n",
              "      <td>0.111240</td>\n",
              "      <td>0.112786</td>\n",
              "      <td>-0.004513</td>\n",
              "      <td>0.091348</td>\n",
              "      <td>...</td>\n",
              "      <td>0.080527</td>\n",
              "      <td>-0.014623</td>\n",
              "      <td>-0.025899</td>\n",
              "      <td>0.084917</td>\n",
              "      <td>-0.038266</td>\n",
              "      <td>0.205518</td>\n",
              "      <td>-0.026773</td>\n",
              "      <td>-0.048955</td>\n",
              "      <td>-0.030187</td>\n",
              "      <td>0.106856</td>\n",
              "    </tr>\n",
              "    <tr>\n",
              "      <th>configurations_back-wheel-base</th>\n",
              "      <td>0.004761</td>\n",
              "      <td>-0.130673</td>\n",
              "      <td>-0.030135</td>\n",
              "      <td>0.004035</td>\n",
              "      <td>0.261163</td>\n",
              "      <td>0.221497</td>\n",
              "      <td>-0.004114</td>\n",
              "      <td>0.029396</td>\n",
              "      <td>0.060790</td>\n",
              "      <td>0.337773</td>\n",
              "      <td>...</td>\n",
              "      <td>0.263095</td>\n",
              "      <td>-0.097946</td>\n",
              "      <td>0.001493</td>\n",
              "      <td>0.425377</td>\n",
              "      <td>0.021822</td>\n",
              "      <td>-0.074761</td>\n",
              "      <td>-0.004581</td>\n",
              "      <td>-0.074052</td>\n",
              "      <td>-0.033058</td>\n",
              "      <td>0.051349</td>\n",
              "    </tr>\n",
              "    <tr>\n",
              "      <th>configurations_front-brake</th>\n",
              "      <td>0.004611</td>\n",
              "      <td>-0.102584</td>\n",
              "      <td>0.022147</td>\n",
              "      <td>0.080451</td>\n",
              "      <td>0.195110</td>\n",
              "      <td>0.265524</td>\n",
              "      <td>0.033961</td>\n",
              "      <td>0.033480</td>\n",
              "      <td>0.127065</td>\n",
              "      <td>0.504745</td>\n",
              "      <td>...</td>\n",
              "      <td>1.000000</td>\n",
              "      <td>-0.147086</td>\n",
              "      <td>0.055093</td>\n",
              "      <td>0.330112</td>\n",
              "      <td>-0.169965</td>\n",
              "      <td>-0.092991</td>\n",
              "      <td>-0.027156</td>\n",
              "      <td>-0.010198</td>\n",
              "      <td>0.021991</td>\n",
              "      <td>0.184791</td>\n",
              "    </tr>\n",
              "    <tr>\n",
              "      <th>configurations_safety-rating</th>\n",
              "      <td>-0.004249</td>\n",
              "      <td>-0.031057</td>\n",
              "      <td>-0.008994</td>\n",
              "      <td>-0.012119</td>\n",
              "      <td>-0.111495</td>\n",
              "      <td>-0.080412</td>\n",
              "      <td>0.102481</td>\n",
              "      <td>0.125640</td>\n",
              "      <td>-0.057243</td>\n",
              "      <td>-0.229782</td>\n",
              "      <td>...</td>\n",
              "      <td>-0.147086</td>\n",
              "      <td>1.000000</td>\n",
              "      <td>-0.027756</td>\n",
              "      <td>-0.052872</td>\n",
              "      <td>0.079660</td>\n",
              "      <td>0.048447</td>\n",
              "      <td>0.008204</td>\n",
              "      <td>0.011286</td>\n",
              "      <td>0.005593</td>\n",
              "      <td>-0.007558</td>\n",
              "    </tr>\n",
              "    <tr>\n",
              "      <th>configurations_seats</th>\n",
              "      <td>0.000466</td>\n",
              "      <td>-0.042323</td>\n",
              "      <td>0.006409</td>\n",
              "      <td>-0.023785</td>\n",
              "      <td>0.054701</td>\n",
              "      <td>0.022038</td>\n",
              "      <td>-0.014392</td>\n",
              "      <td>-0.028327</td>\n",
              "      <td>0.076379</td>\n",
              "      <td>0.065405</td>\n",
              "      <td>...</td>\n",
              "      <td>0.055093</td>\n",
              "      <td>-0.027756</td>\n",
              "      <td>1.000000</td>\n",
              "      <td>0.185502</td>\n",
              "      <td>-0.065341</td>\n",
              "      <td>0.026971</td>\n",
              "      <td>-0.000870</td>\n",
              "      <td>0.157523</td>\n",
              "      <td>0.015235</td>\n",
              "      <td>0.298625</td>\n",
              "    </tr>\n",
              "    <tr>\n",
              "      <th>configurations_tank-volume</th>\n",
              "      <td>-0.001526</td>\n",
              "      <td>-0.323143</td>\n",
              "      <td>-0.071311</td>\n",
              "      <td>0.089222</td>\n",
              "      <td>0.266837</td>\n",
              "      <td>0.307298</td>\n",
              "      <td>0.224373</td>\n",
              "      <td>0.302997</td>\n",
              "      <td>0.042067</td>\n",
              "      <td>0.327209</td>\n",
              "      <td>...</td>\n",
              "      <td>0.330112</td>\n",
              "      <td>-0.052872</td>\n",
              "      <td>0.185502</td>\n",
              "      <td>1.000000</td>\n",
              "      <td>-0.010820</td>\n",
              "      <td>-0.002995</td>\n",
              "      <td>-0.014715</td>\n",
              "      <td>0.026158</td>\n",
              "      <td>-0.026393</td>\n",
              "      <td>0.413853</td>\n",
              "    </tr>\n",
              "    <tr>\n",
              "      <th>supergen_year-stop</th>\n",
              "      <td>0.000074</td>\n",
              "      <td>-0.021228</td>\n",
              "      <td>-0.102719</td>\n",
              "      <td>-0.032347</td>\n",
              "      <td>0.005798</td>\n",
              "      <td>-0.064671</td>\n",
              "      <td>0.008260</td>\n",
              "      <td>0.085953</td>\n",
              "      <td>0.031153</td>\n",
              "      <td>-0.399186</td>\n",
              "      <td>...</td>\n",
              "      <td>-0.169965</td>\n",
              "      <td>0.079660</td>\n",
              "      <td>-0.065341</td>\n",
              "      <td>-0.010820</td>\n",
              "      <td>1.000000</td>\n",
              "      <td>0.012530</td>\n",
              "      <td>0.005852</td>\n",
              "      <td>-0.059193</td>\n",
              "      <td>-0.090634</td>\n",
              "      <td>-0.136986</td>\n",
              "    </tr>\n",
              "    <tr>\n",
              "      <th>models_country-from</th>\n",
              "      <td>-0.006934</td>\n",
              "      <td>-0.116755</td>\n",
              "      <td>0.020826</td>\n",
              "      <td>0.207838</td>\n",
              "      <td>-0.070765</td>\n",
              "      <td>-0.113843</td>\n",
              "      <td>0.232579</td>\n",
              "      <td>0.217498</td>\n",
              "      <td>-0.110842</td>\n",
              "      <td>-0.136376</td>\n",
              "      <td>...</td>\n",
              "      <td>-0.092991</td>\n",
              "      <td>0.048447</td>\n",
              "      <td>0.026971</td>\n",
              "      <td>-0.002995</td>\n",
              "      <td>0.012530</td>\n",
              "      <td>1.000000</td>\n",
              "      <td>-0.027039</td>\n",
              "      <td>-0.039916</td>\n",
              "      <td>0.042168</td>\n",
              "      <td>0.148848</td>\n",
              "    </tr>\n",
              "    <tr>\n",
              "      <th>models_group</th>\n",
              "      <td>0.006834</td>\n",
              "      <td>-0.019685</td>\n",
              "      <td>0.002595</td>\n",
              "      <td>-0.027029</td>\n",
              "      <td>0.000219</td>\n",
              "      <td>-0.033141</td>\n",
              "      <td>-0.023909</td>\n",
              "      <td>-0.044688</td>\n",
              "      <td>0.012638</td>\n",
              "      <td>-0.026436</td>\n",
              "      <td>...</td>\n",
              "      <td>-0.027156</td>\n",
              "      <td>0.008204</td>\n",
              "      <td>-0.000870</td>\n",
              "      <td>-0.014715</td>\n",
              "      <td>0.005852</td>\n",
              "      <td>-0.027039</td>\n",
              "      <td>1.000000</td>\n",
              "      <td>0.002725</td>\n",
              "      <td>0.005308</td>\n",
              "      <td>-0.031663</td>\n",
              "    </tr>\n",
              "    <tr>\n",
              "      <th>models_light-and-commercial</th>\n",
              "      <td>0.005661</td>\n",
              "      <td>-0.016126</td>\n",
              "      <td>-0.001942</td>\n",
              "      <td>-0.048904</td>\n",
              "      <td>0.006494</td>\n",
              "      <td>0.024245</td>\n",
              "      <td>-0.011807</td>\n",
              "      <td>-0.014459</td>\n",
              "      <td>0.026376</td>\n",
              "      <td>0.038331</td>\n",
              "      <td>...</td>\n",
              "      <td>-0.010198</td>\n",
              "      <td>0.011286</td>\n",
              "      <td>0.157523</td>\n",
              "      <td>0.026158</td>\n",
              "      <td>-0.059193</td>\n",
              "      <td>-0.039916</td>\n",
              "      <td>0.002725</td>\n",
              "      <td>1.000000</td>\n",
              "      <td>-0.003929</td>\n",
              "      <td>0.102416</td>\n",
              "    </tr>\n",
              "    <tr>\n",
              "      <th>models_male</th>\n",
              "      <td>-0.001654</td>\n",
              "      <td>0.043355</td>\n",
              "      <td>0.024069</td>\n",
              "      <td>-0.030769</td>\n",
              "      <td>-0.003346</td>\n",
              "      <td>-0.014838</td>\n",
              "      <td>0.000143</td>\n",
              "      <td>-0.017780</td>\n",
              "      <td>-0.026445</td>\n",
              "      <td>0.028909</td>\n",
              "      <td>...</td>\n",
              "      <td>0.021991</td>\n",
              "      <td>0.005593</td>\n",
              "      <td>0.015235</td>\n",
              "      <td>-0.026393</td>\n",
              "      <td>-0.090634</td>\n",
              "      <td>0.042168</td>\n",
              "      <td>0.005308</td>\n",
              "      <td>-0.003929</td>\n",
              "      <td>1.000000</td>\n",
              "      <td>0.003423</td>\n",
              "    </tr>\n",
              "    <tr>\n",
              "      <th>target</th>\n",
              "      <td>0.002701</td>\n",
              "      <td>-0.159912</td>\n",
              "      <td>0.025703</td>\n",
              "      <td>0.110034</td>\n",
              "      <td>0.023138</td>\n",
              "      <td>0.118195</td>\n",
              "      <td>0.376272</td>\n",
              "      <td>0.472177</td>\n",
              "      <td>0.012235</td>\n",
              "      <td>0.150944</td>\n",
              "      <td>...</td>\n",
              "      <td>0.184791</td>\n",
              "      <td>-0.007558</td>\n",
              "      <td>0.298625</td>\n",
              "      <td>0.413853</td>\n",
              "      <td>-0.136986</td>\n",
              "      <td>0.148848</td>\n",
              "      <td>-0.031663</td>\n",
              "      <td>0.102416</td>\n",
              "      <td>0.003423</td>\n",
              "      <td>1.000000</td>\n",
              "    </tr>\n",
              "  </tbody>\n",
              "</table>\n",
              "<p>32 rows × 32 columns</p>\n",
              "</div>"
            ],
            "text/plain": [
              "                                   index  back-suspension  battery-capacity  \\\n",
              "index                           1.000000         0.003898         -0.001457   \n",
              "back-suspension                 0.003898         1.000000          0.008851   \n",
              "battery-capacity               -0.001457         0.008851          1.000000   \n",
              "charge-time                    -0.005556        -0.193989         -0.031922   \n",
              "compression                    -0.000464        -0.105450         -0.057803   \n",
              "consumption-mixed              -0.000202        -0.137078         -0.043129   \n",
              "cylinders-order                -0.002258        -0.119261          0.158632   \n",
              "cylinders-value                -0.001537        -0.160858         -0.145231   \n",
              "engine-feeding                  0.001591         0.061687          0.065207   \n",
              "engine-start                   -0.000337        -0.029760          0.056365   \n",
              "engine-stop                     0.000014        -0.026592         -0.103095   \n",
              "engine-type                    -0.001997         0.023575         -0.013112   \n",
              "gear-type                      -0.001389         0.004268         -0.022934   \n",
              "luxury                         -0.002904        -0.188800         -0.002355   \n",
              "max-speed                       0.002346        -0.109077          0.029325   \n",
              "power-electro-kw                0.007510        -0.003078          0.410707   \n",
              "supply-system                  -0.007180        -0.033765         -0.021193   \n",
              "valves                          0.006258         0.132197          0.124941   \n",
              "valvetrain                      0.002195         0.027428          0.043971   \n",
              "weight                         -0.001538        -0.266417          0.007378   \n",
              "configurations_auto-premiere   -0.005759        -0.194854         -0.003152   \n",
              "configurations_back-wheel-base  0.004761        -0.130673         -0.030135   \n",
              "configurations_front-brake      0.004611        -0.102584          0.022147   \n",
              "configurations_safety-rating   -0.004249        -0.031057         -0.008994   \n",
              "configurations_seats            0.000466        -0.042323          0.006409   \n",
              "configurations_tank-volume     -0.001526        -0.323143         -0.071311   \n",
              "supergen_year-stop              0.000074        -0.021228         -0.102719   \n",
              "models_country-from            -0.006934        -0.116755          0.020826   \n",
              "models_group                    0.006834        -0.019685          0.002595   \n",
              "models_light-and-commercial     0.005661        -0.016126         -0.001942   \n",
              "models_male                    -0.001654         0.043355          0.024069   \n",
              "target                          0.002701        -0.159912          0.025703   \n",
              "\n",
              "                                charge-time  compression  consumption-mixed  \\\n",
              "index                             -0.005556    -0.000464          -0.000202   \n",
              "back-suspension                   -0.193989    -0.105450          -0.137078   \n",
              "battery-capacity                  -0.031922    -0.057803          -0.043129   \n",
              "charge-time                        1.000000     0.018219           0.046768   \n",
              "compression                        0.018219     1.000000           0.130448   \n",
              "consumption-mixed                  0.046768     0.130448           1.000000   \n",
              "cylinders-order                    0.107905    -0.084557           0.079701   \n",
              "cylinders-value                    0.121424    -0.033044           0.125600   \n",
              "engine-feeding                    -0.007057     0.167183          -0.004348   \n",
              "engine-start                       0.089422     0.252255           0.316506   \n",
              "engine-stop                       -0.033840     0.008496          -0.060000   \n",
              "engine-type                        0.025986    -0.423809           0.027914   \n",
              "gear-type                          0.008855    -0.109125          -0.101855   \n",
              "luxury                             0.949215     0.005815           0.018968   \n",
              "max-speed                          0.048685     0.209424           0.494636   \n",
              "power-electro-kw                  -0.022554    -0.016972          -0.020322   \n",
              "supply-system                      0.016368     0.163090           0.175339   \n",
              "valves                            -0.109030    -0.310940          -0.196455   \n",
              "valvetrain                         0.006639    -0.174747          -0.147662   \n",
              "weight                             0.078015     0.259621           0.467731   \n",
              "configurations_auto-premiere       0.994027     0.015266           0.043494   \n",
              "configurations_back-wheel-base     0.004035     0.261163           0.221497   \n",
              "configurations_front-brake         0.080451     0.195110           0.265524   \n",
              "configurations_safety-rating      -0.012119    -0.111495          -0.080412   \n",
              "configurations_seats              -0.023785     0.054701           0.022038   \n",
              "configurations_tank-volume         0.089222     0.266837           0.307298   \n",
              "supergen_year-stop                -0.032347     0.005798          -0.064671   \n",
              "models_country-from                0.207838    -0.070765          -0.113843   \n",
              "models_group                      -0.027029     0.000219          -0.033141   \n",
              "models_light-and-commercial       -0.048904     0.006494           0.024245   \n",
              "models_male                       -0.030769    -0.003346          -0.014838   \n",
              "target                             0.110034     0.023138           0.118195   \n",
              "\n",
              "                                cylinders-order  cylinders-value  \\\n",
              "index                                 -0.002258        -0.001537   \n",
              "back-suspension                       -0.119261        -0.160858   \n",
              "battery-capacity                       0.158632        -0.145231   \n",
              "charge-time                            0.107905         0.121424   \n",
              "compression                           -0.084557        -0.033044   \n",
              "consumption-mixed                      0.079701         0.125600   \n",
              "cylinders-order                        1.000000         0.720077   \n",
              "cylinders-value                        0.720077         1.000000   \n",
              "engine-feeding                        -0.074468        -0.101289   \n",
              "engine-start                          -0.052457        -0.161831   \n",
              "engine-stop                            0.007639         0.084740   \n",
              "engine-type                            0.161144         0.132648   \n",
              "gear-type                              0.054295         0.169542   \n",
              "luxury                                 0.078044         0.077473   \n",
              "max-speed                              0.075703         0.118216   \n",
              "power-electro-kw                       0.070138        -0.053368   \n",
              "supply-system                         -0.045314        -0.002668   \n",
              "valves                                 0.026420        -0.026653   \n",
              "valvetrain                             0.077159         0.061603   \n",
              "weight                                 0.199547         0.220476   \n",
              "configurations_auto-premiere           0.111240         0.112786   \n",
              "configurations_back-wheel-base        -0.004114         0.029396   \n",
              "configurations_front-brake             0.033961         0.033480   \n",
              "configurations_safety-rating           0.102481         0.125640   \n",
              "configurations_seats                  -0.014392        -0.028327   \n",
              "configurations_tank-volume             0.224373         0.302997   \n",
              "supergen_year-stop                     0.008260         0.085953   \n",
              "models_country-from                    0.232579         0.217498   \n",
              "models_group                          -0.023909        -0.044688   \n",
              "models_light-and-commercial           -0.011807        -0.014459   \n",
              "models_male                            0.000143        -0.017780   \n",
              "target                                 0.376272         0.472177   \n",
              "\n",
              "                                engine-feeding  engine-start  ...  \\\n",
              "index                                 0.001591     -0.000337  ...   \n",
              "back-suspension                       0.061687     -0.029760  ...   \n",
              "battery-capacity                      0.065207      0.056365  ...   \n",
              "charge-time                          -0.007057      0.089422  ...   \n",
              "compression                           0.167183      0.252255  ...   \n",
              "consumption-mixed                    -0.004348      0.316506  ...   \n",
              "cylinders-order                      -0.074468     -0.052457  ...   \n",
              "cylinders-value                      -0.101289     -0.161831  ...   \n",
              "engine-feeding                        1.000000      0.232445  ...   \n",
              "engine-start                          0.232445      1.000000  ...   \n",
              "engine-stop                           0.027275     -0.383053  ...   \n",
              "engine-type                          -0.472376     -0.195802  ...   \n",
              "gear-type                            -0.128977     -0.306258  ...   \n",
              "luxury                                0.004969      0.058362  ...   \n",
              "max-speed                             0.050093      0.427079  ...   \n",
              "power-electro-kw                      0.007754      0.062919  ...   \n",
              "supply-system                         0.073064      0.157331  ...   \n",
              "valves                                0.191078     -0.240955  ...   \n",
              "valvetrain                           -0.002288     -0.287556  ...   \n",
              "weight                                0.016811      0.420975  ...   \n",
              "configurations_auto-premiere         -0.004513      0.091348  ...   \n",
              "configurations_back-wheel-base        0.060790      0.337773  ...   \n",
              "configurations_front-brake            0.127065      0.504745  ...   \n",
              "configurations_safety-rating         -0.057243     -0.229782  ...   \n",
              "configurations_seats                  0.076379      0.065405  ...   \n",
              "configurations_tank-volume            0.042067      0.327209  ...   \n",
              "supergen_year-stop                    0.031153     -0.399186  ...   \n",
              "models_country-from                  -0.110842     -0.136376  ...   \n",
              "models_group                          0.012638     -0.026436  ...   \n",
              "models_light-and-commercial           0.026376      0.038331  ...   \n",
              "models_male                          -0.026445      0.028909  ...   \n",
              "target                                0.012235      0.150944  ...   \n",
              "\n",
              "                                configurations_front-brake  \\\n",
              "index                                             0.004611   \n",
              "back-suspension                                  -0.102584   \n",
              "battery-capacity                                  0.022147   \n",
              "charge-time                                       0.080451   \n",
              "compression                                       0.195110   \n",
              "consumption-mixed                                 0.265524   \n",
              "cylinders-order                                   0.033961   \n",
              "cylinders-value                                   0.033480   \n",
              "engine-feeding                                    0.127065   \n",
              "engine-start                                      0.504745   \n",
              "engine-stop                                      -0.165635   \n",
              "engine-type                                      -0.114983   \n",
              "gear-type                                        -0.135675   \n",
              "luxury                                            0.062416   \n",
              "max-speed                                         0.278240   \n",
              "power-electro-kw                                  0.029049   \n",
              "supply-system                                     0.124006   \n",
              "valves                                           -0.183620   \n",
              "valvetrain                                       -0.228610   \n",
              "weight                                            0.319780   \n",
              "configurations_auto-premiere                      0.080527   \n",
              "configurations_back-wheel-base                    0.263095   \n",
              "configurations_front-brake                        1.000000   \n",
              "configurations_safety-rating                     -0.147086   \n",
              "configurations_seats                              0.055093   \n",
              "configurations_tank-volume                        0.330112   \n",
              "supergen_year-stop                               -0.169965   \n",
              "models_country-from                              -0.092991   \n",
              "models_group                                     -0.027156   \n",
              "models_light-and-commercial                      -0.010198   \n",
              "models_male                                       0.021991   \n",
              "target                                            0.184791   \n",
              "\n",
              "                                configurations_safety-rating  \\\n",
              "index                                              -0.004249   \n",
              "back-suspension                                    -0.031057   \n",
              "battery-capacity                                   -0.008994   \n",
              "charge-time                                        -0.012119   \n",
              "compression                                        -0.111495   \n",
              "consumption-mixed                                  -0.080412   \n",
              "cylinders-order                                     0.102481   \n",
              "cylinders-value                                     0.125640   \n",
              "engine-feeding                                     -0.057243   \n",
              "engine-start                                       -0.229782   \n",
              "engine-stop                                         0.073022   \n",
              "engine-type                                         0.113149   \n",
              "gear-type                                           0.061381   \n",
              "luxury                                             -0.015207   \n",
              "max-speed                                          -0.194103   \n",
              "power-electro-kw                                   -0.002881   \n",
              "supply-system                                      -0.124799   \n",
              "valves                                              0.079333   \n",
              "valvetrain                                          0.113178   \n",
              "weight                                             -0.102271   \n",
              "configurations_auto-premiere                       -0.014623   \n",
              "configurations_back-wheel-base                     -0.097946   \n",
              "configurations_front-brake                         -0.147086   \n",
              "configurations_safety-rating                        1.000000   \n",
              "configurations_seats                               -0.027756   \n",
              "configurations_tank-volume                         -0.052872   \n",
              "supergen_year-stop                                  0.079660   \n",
              "models_country-from                                 0.048447   \n",
              "models_group                                        0.008204   \n",
              "models_light-and-commercial                         0.011286   \n",
              "models_male                                         0.005593   \n",
              "target                                             -0.007558   \n",
              "\n",
              "                                configurations_seats  \\\n",
              "index                                       0.000466   \n",
              "back-suspension                            -0.042323   \n",
              "battery-capacity                            0.006409   \n",
              "charge-time                                -0.023785   \n",
              "compression                                 0.054701   \n",
              "consumption-mixed                           0.022038   \n",
              "cylinders-order                            -0.014392   \n",
              "cylinders-value                            -0.028327   \n",
              "engine-feeding                              0.076379   \n",
              "engine-start                                0.065405   \n",
              "engine-stop                                -0.072257   \n",
              "engine-type                                -0.152197   \n",
              "gear-type                                  -0.133547   \n",
              "luxury                                     -0.022370   \n",
              "max-speed                                  -0.069876   \n",
              "power-electro-kw                            0.009091   \n",
              "supply-system                              -0.008360   \n",
              "valves                                     -0.055996   \n",
              "valvetrain                                  0.029674   \n",
              "weight                                      0.180505   \n",
              "configurations_auto-premiere               -0.025899   \n",
              "configurations_back-wheel-base              0.001493   \n",
              "configurations_front-brake                  0.055093   \n",
              "configurations_safety-rating               -0.027756   \n",
              "configurations_seats                        1.000000   \n",
              "configurations_tank-volume                  0.185502   \n",
              "supergen_year-stop                         -0.065341   \n",
              "models_country-from                         0.026971   \n",
              "models_group                               -0.000870   \n",
              "models_light-and-commercial                 0.157523   \n",
              "models_male                                 0.015235   \n",
              "target                                      0.298625   \n",
              "\n",
              "                                configurations_tank-volume  \\\n",
              "index                                            -0.001526   \n",
              "back-suspension                                  -0.323143   \n",
              "battery-capacity                                 -0.071311   \n",
              "charge-time                                       0.089222   \n",
              "compression                                       0.266837   \n",
              "consumption-mixed                                 0.307298   \n",
              "cylinders-order                                   0.224373   \n",
              "cylinders-value                                   0.302997   \n",
              "engine-feeding                                    0.042067   \n",
              "engine-start                                      0.327209   \n",
              "engine-stop                                      -0.008340   \n",
              "engine-type                                      -0.109428   \n",
              "gear-type                                        -0.120034   \n",
              "luxury                                            0.059912   \n",
              "max-speed                                         0.320531   \n",
              "power-electro-kw                                 -0.022337   \n",
              "supply-system                                     0.193678   \n",
              "valves                                           -0.307176   \n",
              "valvetrain                                       -0.142242   \n",
              "weight                                            0.546153   \n",
              "configurations_auto-premiere                      0.084917   \n",
              "configurations_back-wheel-base                    0.425377   \n",
              "configurations_front-brake                        0.330112   \n",
              "configurations_safety-rating                     -0.052872   \n",
              "configurations_seats                              0.185502   \n",
              "configurations_tank-volume                        1.000000   \n",
              "supergen_year-stop                               -0.010820   \n",
              "models_country-from                              -0.002995   \n",
              "models_group                                     -0.014715   \n",
              "models_light-and-commercial                       0.026158   \n",
              "models_male                                      -0.026393   \n",
              "target                                            0.413853   \n",
              "\n",
              "                                supergen_year-stop  models_country-from  \\\n",
              "index                                     0.000074            -0.006934   \n",
              "back-suspension                          -0.021228            -0.116755   \n",
              "battery-capacity                         -0.102719             0.020826   \n",
              "charge-time                              -0.032347             0.207838   \n",
              "compression                               0.005798            -0.070765   \n",
              "consumption-mixed                        -0.064671            -0.113843   \n",
              "cylinders-order                           0.008260             0.232579   \n",
              "cylinders-value                           0.085953             0.217498   \n",
              "engine-feeding                            0.031153            -0.110842   \n",
              "engine-start                             -0.399186            -0.136376   \n",
              "engine-stop                               0.942911             0.010484   \n",
              "engine-type                               0.068168             0.119582   \n",
              "gear-type                                 0.077811             0.075160   \n",
              "luxury                                   -0.030570             0.197077   \n",
              "max-speed                                -0.100095            -0.134368   \n",
              "power-electro-kw                         -0.087191            -0.009634   \n",
              "supply-system                             0.153846            -0.097040   \n",
              "valves                                    0.029097            -0.014721   \n",
              "valvetrain                                0.066422             0.104536   \n",
              "weight                                   -0.143014            -0.034637   \n",
              "configurations_auto-premiere             -0.038266             0.205518   \n",
              "configurations_back-wheel-base            0.021822            -0.074761   \n",
              "configurations_front-brake               -0.169965            -0.092991   \n",
              "configurations_safety-rating              0.079660             0.048447   \n",
              "configurations_seats                     -0.065341             0.026971   \n",
              "configurations_tank-volume               -0.010820            -0.002995   \n",
              "supergen_year-stop                        1.000000             0.012530   \n",
              "models_country-from                       0.012530             1.000000   \n",
              "models_group                              0.005852            -0.027039   \n",
              "models_light-and-commercial              -0.059193            -0.039916   \n",
              "models_male                              -0.090634             0.042168   \n",
              "target                                   -0.136986             0.148848   \n",
              "\n",
              "                                models_group  models_light-and-commercial  \\\n",
              "index                               0.006834                     0.005661   \n",
              "back-suspension                    -0.019685                    -0.016126   \n",
              "battery-capacity                    0.002595                    -0.001942   \n",
              "charge-time                        -0.027029                    -0.048904   \n",
              "compression                         0.000219                     0.006494   \n",
              "consumption-mixed                  -0.033141                     0.024245   \n",
              "cylinders-order                    -0.023909                    -0.011807   \n",
              "cylinders-value                    -0.044688                    -0.014459   \n",
              "engine-feeding                      0.012638                     0.026376   \n",
              "engine-start                       -0.026436                     0.038331   \n",
              "engine-stop                         0.004332                    -0.062556   \n",
              "engine-type                        -0.026761                    -0.070262   \n",
              "gear-type                          -0.029233                     0.026854   \n",
              "luxury                             -0.026136                    -0.046240   \n",
              "max-speed                          -0.035699                    -0.010492   \n",
              "power-electro-kw                    0.003114                    -0.002330   \n",
              "supply-system                      -0.005361                    -0.010153   \n",
              "valves                              0.010498                    -0.010437   \n",
              "valvetrain                          0.021138                    -0.019534   \n",
              "weight                             -0.021805                     0.052404   \n",
              "configurations_auto-premiere       -0.026773                    -0.048955   \n",
              "configurations_back-wheel-base     -0.004581                    -0.074052   \n",
              "configurations_front-brake         -0.027156                    -0.010198   \n",
              "configurations_safety-rating        0.008204                     0.011286   \n",
              "configurations_seats               -0.000870                     0.157523   \n",
              "configurations_tank-volume         -0.014715                     0.026158   \n",
              "supergen_year-stop                  0.005852                    -0.059193   \n",
              "models_country-from                -0.027039                    -0.039916   \n",
              "models_group                        1.000000                     0.002725   \n",
              "models_light-and-commercial         0.002725                     1.000000   \n",
              "models_male                         0.005308                    -0.003929   \n",
              "target                             -0.031663                     0.102416   \n",
              "\n",
              "                                models_male    target  \n",
              "index                             -0.001654  0.002701  \n",
              "back-suspension                    0.043355 -0.159912  \n",
              "battery-capacity                   0.024069  0.025703  \n",
              "charge-time                       -0.030769  0.110034  \n",
              "compression                       -0.003346  0.023138  \n",
              "consumption-mixed                 -0.014838  0.118195  \n",
              "cylinders-order                    0.000143  0.376272  \n",
              "cylinders-value                   -0.017780  0.472177  \n",
              "engine-feeding                    -0.026445  0.012235  \n",
              "engine-start                       0.028909  0.150944  \n",
              "engine-stop                       -0.096968 -0.137719  \n",
              "engine-type                        0.002693 -0.125304  \n",
              "gear-type                          0.002759  0.068319  \n",
              "luxury                            -0.029034  0.085707  \n",
              "max-speed                         -0.014162  0.111922  \n",
              "power-electro-kw                   0.005972  0.028609  \n",
              "supply-system                     -0.034368  0.045416  \n",
              "valves                            -0.000155 -0.066402  \n",
              "valvetrain                        -0.030069  0.021120  \n",
              "weight                             0.010082  0.339835  \n",
              "configurations_auto-premiere      -0.030187  0.106856  \n",
              "configurations_back-wheel-base    -0.033058  0.051349  \n",
              "configurations_front-brake         0.021991  0.184791  \n",
              "configurations_safety-rating       0.005593 -0.007558  \n",
              "configurations_seats               0.015235  0.298625  \n",
              "configurations_tank-volume        -0.026393  0.413853  \n",
              "supergen_year-stop                -0.090634 -0.136986  \n",
              "models_country-from                0.042168  0.148848  \n",
              "models_group                       0.005308 -0.031663  \n",
              "models_light-and-commercial       -0.003929  0.102416  \n",
              "models_male                        1.000000  0.003423  \n",
              "target                             0.003423  1.000000  \n",
              "\n",
              "[32 rows x 32 columns]"
            ]
          },
          "execution_count": 54,
          "metadata": {},
          "output_type": "execute_result"
        }
      ],
      "source": [
        "matrix = df.corr()\n",
        "matrix"
      ]
    },
    {
      "cell_type": "markdown",
      "id": "40209ad1",
      "metadata": {
        "id": "40209ad1"
      },
      "source": [
        "Отобрали факторы с наибольшей корреляцией"
      ]
    },
    {
      "cell_type": "code",
      "execution_count": null,
      "id": "99247db5",
      "metadata": {
        "id": "99247db5"
      },
      "outputs": [],
      "source": [
        "X = df[[\"configurations_tank-volume\", \"configurations_seats\", \"weight\", \"cylinders-order\", \"cylinders-value\"]]\n",
        "y = df[[\"target\"]]\n",
        "train_X, test_X, train_y, test_y = train_test_split(X, y, test_size=0.33, random_state=42)"
      ]
    },
    {
      "cell_type": "code",
      "execution_count": null,
      "id": "58f1906f",
      "metadata": {
        "id": "58f1906f",
        "outputId": "2eced896-731b-441b-e31b-3a999ff70740"
      },
      "outputs": [
        {
          "data": {
            "text/html": [
              "<div>\n",
              "<style scoped>\n",
              "    .dataframe tbody tr th:only-of-type {\n",
              "        vertical-align: middle;\n",
              "    }\n",
              "\n",
              "    .dataframe tbody tr th {\n",
              "        vertical-align: top;\n",
              "    }\n",
              "\n",
              "    .dataframe thead th {\n",
              "        text-align: right;\n",
              "    }\n",
              "</style>\n",
              "<table border=\"1\" class=\"dataframe\">\n",
              "  <thead>\n",
              "    <tr style=\"text-align: right;\">\n",
              "      <th></th>\n",
              "      <th>configurations_tank-volume</th>\n",
              "      <th>configurations_seats</th>\n",
              "      <th>weight</th>\n",
              "      <th>cylinders-order</th>\n",
              "      <th>cylinders-value</th>\n",
              "    </tr>\n",
              "  </thead>\n",
              "  <tbody>\n",
              "    <tr>\n",
              "      <th>0</th>\n",
              "      <td>40.0</td>\n",
              "      <td>13</td>\n",
              "      <td>820.0</td>\n",
              "      <td>0</td>\n",
              "      <td>3</td>\n",
              "    </tr>\n",
              "    <tr>\n",
              "      <th>1</th>\n",
              "      <td>108.0</td>\n",
              "      <td>13</td>\n",
              "      <td>2350.0</td>\n",
              "      <td>3</td>\n",
              "      <td>7</td>\n",
              "    </tr>\n",
              "    <tr>\n",
              "      <th>2</th>\n",
              "      <td>55.0</td>\n",
              "      <td>13</td>\n",
              "      <td>1350.0</td>\n",
              "      <td>0</td>\n",
              "      <td>4</td>\n",
              "    </tr>\n",
              "    <tr>\n",
              "      <th>3</th>\n",
              "      <td>55.0</td>\n",
              "      <td>13</td>\n",
              "      <td>1090.0</td>\n",
              "      <td>0</td>\n",
              "      <td>4</td>\n",
              "    </tr>\n",
              "    <tr>\n",
              "      <th>4</th>\n",
              "      <td>62.0</td>\n",
              "      <td>13</td>\n",
              "      <td>1410.0</td>\n",
              "      <td>0</td>\n",
              "      <td>4</td>\n",
              "    </tr>\n",
              "    <tr>\n",
              "      <th>...</th>\n",
              "      <td>...</td>\n",
              "      <td>...</td>\n",
              "      <td>...</td>\n",
              "      <td>...</td>\n",
              "      <td>...</td>\n",
              "    </tr>\n",
              "    <tr>\n",
              "      <th>43240</th>\n",
              "      <td>47.0</td>\n",
              "      <td>13</td>\n",
              "      <td>-1.0</td>\n",
              "      <td>0</td>\n",
              "      <td>4</td>\n",
              "    </tr>\n",
              "    <tr>\n",
              "      <th>43241</th>\n",
              "      <td>65.0</td>\n",
              "      <td>13</td>\n",
              "      <td>1545.0</td>\n",
              "      <td>0</td>\n",
              "      <td>4</td>\n",
              "    </tr>\n",
              "    <tr>\n",
              "      <th>43242</th>\n",
              "      <td>55.0</td>\n",
              "      <td>13</td>\n",
              "      <td>1210.0</td>\n",
              "      <td>0</td>\n",
              "      <td>4</td>\n",
              "    </tr>\n",
              "    <tr>\n",
              "      <th>43243</th>\n",
              "      <td>70.0</td>\n",
              "      <td>13</td>\n",
              "      <td>1660.0</td>\n",
              "      <td>0</td>\n",
              "      <td>5</td>\n",
              "    </tr>\n",
              "    <tr>\n",
              "      <th>43244</th>\n",
              "      <td>-1.0</td>\n",
              "      <td>8</td>\n",
              "      <td>-1.0</td>\n",
              "      <td>0</td>\n",
              "      <td>4</td>\n",
              "    </tr>\n",
              "  </tbody>\n",
              "</table>\n",
              "<p>43245 rows × 5 columns</p>\n",
              "</div>"
            ],
            "text/plain": [
              "       configurations_tank-volume  configurations_seats  weight  \\\n",
              "0                            40.0                    13   820.0   \n",
              "1                           108.0                    13  2350.0   \n",
              "2                            55.0                    13  1350.0   \n",
              "3                            55.0                    13  1090.0   \n",
              "4                            62.0                    13  1410.0   \n",
              "...                           ...                   ...     ...   \n",
              "43240                        47.0                    13    -1.0   \n",
              "43241                        65.0                    13  1545.0   \n",
              "43242                        55.0                    13  1210.0   \n",
              "43243                        70.0                    13  1660.0   \n",
              "43244                        -1.0                     8    -1.0   \n",
              "\n",
              "       cylinders-order  cylinders-value  \n",
              "0                    0                3  \n",
              "1                    3                7  \n",
              "2                    0                4  \n",
              "3                    0                4  \n",
              "4                    0                4  \n",
              "...                ...              ...  \n",
              "43240                0                4  \n",
              "43241                0                4  \n",
              "43242                0                4  \n",
              "43243                0                5  \n",
              "43244                0                4  \n",
              "\n",
              "[43245 rows x 5 columns]"
            ]
          },
          "execution_count": 59,
          "metadata": {},
          "output_type": "execute_result"
        }
      ],
      "source": [
        "X"
      ]
    },
    {
      "cell_type": "markdown",
      "id": "8cd704c2",
      "metadata": {
        "id": "8cd704c2"
      },
      "source": [
        "Посмотрим корреляцию между признаками"
      ]
    },
    {
      "cell_type": "code",
      "execution_count": null,
      "id": "ba38b529",
      "metadata": {
        "id": "ba38b529",
        "outputId": "9b5977c0-4561-4600-de3c-556e5c714153"
      },
      "outputs": [
        {
          "data": {
            "text/plain": [
              "<Axes: >"
            ]
          },
          "execution_count": 18,
          "metadata": {},
          "output_type": "execute_result"
        },
        {
          "data": {
            "image/png": "[encoded data removed]",
            "text/plain": [
              "<Figure size 640x480 with 2 Axes>"
            ]
          },
          "metadata": {},
          "output_type": "display_data"
        }
      ],
      "source": [
        "corr_matrix = df[[\"configurations_tank-volume\", \"configurations_seats\", \"weight\", \"cylinders-order\", \"cylinders-value\"]].corr()\n",
        "sns.heatmap(corr_matrix)"
      ]
    },
    {
      "cell_type": "code",
      "execution_count": null,
      "id": "1f7ad9df",
      "metadata": {
        "id": "1f7ad9df"
      },
      "outputs": [],
      "source": [
        "from sklearn.preprocessing import StandardScaler\n",
        "scaler = StandardScaler()\n",
        "X_train_st = scaler.fit_transform(train_X)\n",
        "X_test_st = scaler.fit_transform(test_X)"
      ]
    },
    {
      "cell_type": "code",
      "execution_count": null,
      "id": "1f8ba3e3",
      "metadata": {
        "id": "1f8ba3e3",
        "outputId": "97490d63-3548-4564-bf4e-facabc558d6f"
      },
      "outputs": [
        {
          "name": "stdout",
          "output_type": "stream",
          "text": [
            "[[44.08063796 60.00552615 24.94782478 13.66414956 82.40650595]] [2659.80976047]\n"
          ]
        }
      ],
      "source": [
        "from sklearn.linear_model import LinearRegression\n",
        "from scipy.stats import linregress\n",
        "\n",
        "# создадим модель линейной регрессии\n",
        "model = LinearRegression()\n",
        "\n",
        "# обучим нашу модель\n",
        "model.fit(X_train_st, train_y)\n",
        "\n",
        "print(model.coef_, model.intercept_)"
      ]
    },
    {
      "cell_type": "code",
      "execution_count": null,
      "id": "4c4f7436",
      "metadata": {
        "id": "4c4f7436"
      },
      "outputs": [],
      "source": [
        "predictions = model.predict(X_test_st)"
      ]
    },
    {
      "cell_type": "code",
      "execution_count": null,
      "id": "3078aac0",
      "metadata": {
        "id": "3078aac0",
        "outputId": "f13abff3-c88e-436c-bbef-baae584ecd76"
      },
      "outputs": [
        {
          "data": {
            "text/plain": [
              "0.3876247852692677"
            ]
          },
          "execution_count": 69,
          "metadata": {},
          "output_type": "execute_result"
        }
      ],
      "source": [
        "from sklearn.metrics import mean_squared_error, mean_absolute_error, r2_score\n",
        "r2_score(test_y, predictions)"
      ]
    },
    {
      "cell_type": "markdown",
      "id": "ce9b76bb",
      "metadata": {
        "id": "ce9b76bb"
      },
      "source": [
        "А что если применить (сделать) регуляризацию (Ridge-регрессия)?"
      ]
    },
    {
      "cell_type": "code",
      "execution_count": null,
      "id": "9aa05a42",
      "metadata": {
        "id": "9aa05a42",
        "outputId": "84781878-5581-4342-f69a-9682af7541b8"
      },
      "outputs": [
        {
          "name": "stdout",
          "output_type": "stream",
          "text": [
            "[[44.08018768 60.00339086 24.94806777 13.66736139 82.4013775 ]] [2659.80976047]\n"
          ]
        },
        {
          "data": {
            "text/plain": [
              "0.38762410981353423"
            ]
          },
          "execution_count": 70,
          "metadata": {},
          "output_type": "execute_result"
        }
      ],
      "source": [
        "from sklearn.linear_model import LinearRegression, Lasso, Ridge\n",
        "from scipy.stats import linregress\n",
        "\n",
        "# создадим модель линейной регрессии\n",
        "model = Ridge()\n",
        "\n",
        "# обучим нашу модель\n",
        "model.fit(X_train_st, train_y)\n",
        "\n",
        "print(model.coef_, model.intercept_)\n",
        "\n",
        "# делаем прогнозы\n",
        "predictions = model.predict(X_test_st)\n",
        "\n",
        "from sklearn.metrics import mean_squared_error, mean_absolute_error, r2_score\n",
        "r2_score(test_y, predictions)"
      ]
    },
    {
      "cell_type": "code",
      "execution_count": null,
      "id": "6fc144c3",
      "metadata": {
        "id": "6fc144c3"
      },
      "outputs": [],
      "source": []
    },
    {
      "cell_type": "markdown",
      "id": "bc8d20f3-a6db-4e6c-be0c-d92bfbd393af",
      "metadata": {
        "id": "bc8d20f3-a6db-4e6c-be0c-d92bfbd393af"
      },
      "source": [
        "## Baseline"
      ]
    },
    {
      "cell_type": "code",
      "execution_count": null,
      "id": "22039f8f-d6d8-4998-8ec1-3b83facf013f",
      "metadata": {
        "id": "22039f8f-d6d8-4998-8ec1-3b83facf013f"
      },
      "outputs": [],
      "source": [
        "from sklearn.model_selection import train_test_split\n",
        "from sklearn.linear_model import LinearRegression\n",
        "from sklearn.metrics import mean_squared_error\n",
        "from sklearn.model_selection import cross_validate"
      ]
    },
    {
      "cell_type": "code",
      "execution_count": null,
      "id": "261c2445-1dd7-465c-8d43-54556629ff7c",
      "metadata": {
        "id": "261c2445-1dd7-465c-8d43-54556629ff7c"
      },
      "outputs": [],
      "source": [
        "X = df.drop([\"target\"], axis=1)\n",
        "y = df[[\"target\"]]\n",
        "train_X, test_X, train_y, test_y = train_test_split(X, y, test_size=0.33, random_state=42)"
      ]
    },
    {
      "cell_type": "code",
      "execution_count": null,
      "id": "9b2185ba-3b32-4aa6-bcde-6979aa1f3cdb",
      "metadata": {
        "id": "9b2185ba-3b32-4aa6-bcde-6979aa1f3cdb"
      },
      "outputs": [],
      "source": [
        "reg = LinearRegression().fit(train_X, train_y)"
      ]
    },
    {
      "cell_type": "code",
      "execution_count": null,
      "id": "0c088b49-4516-4abb-820a-aadaaf26b8c5",
      "metadata": {
        "id": "0c088b49-4516-4abb-820a-aadaaf26b8c5",
        "outputId": "0fec59f5-416c-4edb-fcc8-213951f2692a"
      },
      "outputs": [
        {
          "data": {
            "text/plain": [
              "0.37585592851513494"
            ]
          },
          "execution_count": 45,
          "metadata": {},
          "output_type": "execute_result"
        }
      ],
      "source": [
        "reg.score(train_X, train_y)"
      ]
    },
    {
      "cell_type": "code",
      "execution_count": null,
      "id": "06bd1b1d-3d5a-4c8b-aaf2-db6167e88c38",
      "metadata": {
        "id": "06bd1b1d-3d5a-4c8b-aaf2-db6167e88c38",
        "outputId": "2420dd18-d993-4198-9bab-75b1ea588334"
      },
      "outputs": [
        {
          "data": {
            "text/plain": [
              "34207.394447656836"
            ]
          },
          "execution_count": 27,
          "metadata": {},
          "output_type": "execute_result"
        }
      ],
      "source": [
        "mean_squared_error(reg.predict(train_X), train_y)"
      ]
    },
    {
      "cell_type": "code",
      "execution_count": null,
      "id": "c585389b-8f2a-43c2-82bc-54ce4b2567f8",
      "metadata": {
        "id": "c585389b-8f2a-43c2-82bc-54ce4b2567f8"
      },
      "outputs": [],
      "source": [
        "scores = cross_validate(reg, train_X, train_y, cv=3,\n",
        "                        scoring=('neg_mean_squared_error'))"
      ]
    },
    {
      "cell_type": "code",
      "execution_count": null,
      "id": "270f6960-1a6b-40f7-b096-8c1a6f28d1e1",
      "metadata": {
        "id": "270f6960-1a6b-40f7-b096-8c1a6f28d1e1",
        "outputId": "eced1600-ba5c-452a-dc3b-0201fd39cc66"
      },
      "outputs": [
        {
          "data": {
            "text/plain": [
              "{'fit_time': array([0.01100254, 0.01000237, 0.00800085]),\n",
              " 'score_time': array([0.00500083, 0.00500083, 0.00500154]),\n",
              " 'test_score': array([-34269.01650767, -33815.5633974 , -34551.60543924])}"
            ]
          },
          "execution_count": 47,
          "metadata": {},
          "output_type": "execute_result"
        }
      ],
      "source": [
        "scores"
      ]
    },
    {
      "cell_type": "code",
      "execution_count": null,
      "id": "5d643c2b-41f4-47c8-8eb8-3c2d8aba6a33",
      "metadata": {
        "id": "5d643c2b-41f4-47c8-8eb8-3c2d8aba6a33",
        "outputId": "2065a9ce-f84b-4bcc-f4b0-b9c9e4fc5c8d"
      },
      "outputs": [
        {
          "data": {
            "text/plain": [
              "35469.85292838743"
            ]
          },
          "execution_count": 48,
          "metadata": {},
          "output_type": "execute_result"
        }
      ],
      "source": [
        "mean_squared_error(reg.predict(test_X), test_y)"
      ]
    },
    {
      "cell_type": "code",
      "execution_count": null,
      "id": "0a52517d-4ce1-49da-97af-4bfcfa996382",
      "metadata": {
        "id": "0a52517d-4ce1-49da-97af-4bfcfa996382"
      },
      "outputs": [],
      "source": []
    },
    {
      "cell_type": "markdown",
      "source": [
        "Другие способы"
      ],
      "metadata": {
        "id": "Z2vO6khVjrjK"
      },
      "id": "Z2vO6khVjrjK"
    },
    {
      "cell_type": "markdown",
      "id": "14bfd0aa",
      "metadata": {
        "id": "14bfd0aa"
      },
      "source": [
        "### Домашнее задание"
      ]
    },
    {
      "cell_type": "code",
      "execution_count": null,
      "id": "84e31d46",
      "metadata": {
        "id": "84e31d46"
      },
      "outputs": [],
      "source": [
        "from sklearn.model_selection import train_test_split\n",
        "from sklearn.linear_model import LinearRegression\n",
        "from sklearn.metrics import mean_squared_error\n",
        "from sklearn.model_selection import cross_validate\n",
        "from sklearn.preprocessing import StandardScaler"
      ]
    },
    {
      "cell_type": "code",
      "execution_count": null,
      "id": "d62d220e",
      "metadata": {
        "id": "d62d220e",
        "outputId": "230a4b05-441b-4b6b-9f2c-69dd525a54a0"
      },
      "outputs": [
        {
          "data": {
            "text/html": [
              "<div>\n",
              "<style scoped>\n",
              "    .dataframe tbody tr th:only-of-type {\n",
              "        vertical-align: middle;\n",
              "    }\n",
              "\n",
              "    .dataframe tbody tr th {\n",
              "        vertical-align: top;\n",
              "    }\n",
              "\n",
              "    .dataframe thead th {\n",
              "        text-align: right;\n",
              "    }\n",
              "</style>\n",
              "<table border=\"1\" class=\"dataframe\">\n",
              "  <thead>\n",
              "    <tr style=\"text-align: right;\">\n",
              "      <th></th>\n",
              "      <th>index</th>\n",
              "      <th>back-suspension</th>\n",
              "      <th>battery-capacity</th>\n",
              "      <th>charge-time</th>\n",
              "      <th>compression</th>\n",
              "      <th>consumption-mixed</th>\n",
              "      <th>cylinders-order</th>\n",
              "      <th>cylinders-value</th>\n",
              "      <th>engine-feeding</th>\n",
              "      <th>engine-start</th>\n",
              "      <th>...</th>\n",
              "      <th>configurations_front-brake</th>\n",
              "      <th>configurations_safety-rating</th>\n",
              "      <th>configurations_seats</th>\n",
              "      <th>configurations_tank-volume</th>\n",
              "      <th>supergen_year-stop</th>\n",
              "      <th>models_country-from</th>\n",
              "      <th>models_group</th>\n",
              "      <th>models_light-and-commercial</th>\n",
              "      <th>models_male</th>\n",
              "      <th>target</th>\n",
              "    </tr>\n",
              "  </thead>\n",
              "  <tbody>\n",
              "    <tr>\n",
              "      <th>0</th>\n",
              "      <td>0</td>\n",
              "      <td>9</td>\n",
              "      <td>-1.0</td>\n",
              "      <td>36457</td>\n",
              "      <td>9.0</td>\n",
              "      <td>4.3</td>\n",
              "      <td>0</td>\n",
              "      <td>3</td>\n",
              "      <td>4</td>\n",
              "      <td>2006</td>\n",
              "      <td>...</td>\n",
              "      <td>1</td>\n",
              "      <td>2</td>\n",
              "      <td>13</td>\n",
              "      <td>40.0</td>\n",
              "      <td>2018.0</td>\n",
              "      <td>16</td>\n",
              "      <td>3</td>\n",
              "      <td>0</td>\n",
              "      <td>1</td>\n",
              "      <td>2360</td>\n",
              "    </tr>\n",
              "    <tr>\n",
              "      <th>1</th>\n",
              "      <td>2</td>\n",
              "      <td>3</td>\n",
              "      <td>-1.0</td>\n",
              "      <td>44872</td>\n",
              "      <td>8.0</td>\n",
              "      <td>-1.0</td>\n",
              "      <td>3</td>\n",
              "      <td>7</td>\n",
              "      <td>4</td>\n",
              "      <td>1982</td>\n",
              "      <td>...</td>\n",
              "      <td>4</td>\n",
              "      <td>2</td>\n",
              "      <td>13</td>\n",
              "      <td>108.0</td>\n",
              "      <td>1993.0</td>\n",
              "      <td>34</td>\n",
              "      <td>3</td>\n",
              "      <td>0</td>\n",
              "      <td>1</td>\n",
              "      <td>3060</td>\n",
              "    </tr>\n",
              "    <tr>\n",
              "      <th>2</th>\n",
              "      <td>4</td>\n",
              "      <td>3</td>\n",
              "      <td>-1.0</td>\n",
              "      <td>55927</td>\n",
              "      <td>16.0</td>\n",
              "      <td>4.2</td>\n",
              "      <td>0</td>\n",
              "      <td>4</td>\n",
              "      <td>5</td>\n",
              "      <td>2014</td>\n",
              "      <td>...</td>\n",
              "      <td>4</td>\n",
              "      <td>2</td>\n",
              "      <td>13</td>\n",
              "      <td>55.0</td>\n",
              "      <td>2019.0</td>\n",
              "      <td>35</td>\n",
              "      <td>3</td>\n",
              "      <td>0</td>\n",
              "      <td>1</td>\n",
              "      <td>2648</td>\n",
              "    </tr>\n",
              "    <tr>\n",
              "      <th>3</th>\n",
              "      <td>5</td>\n",
              "      <td>0</td>\n",
              "      <td>-1.0</td>\n",
              "      <td>41405</td>\n",
              "      <td>10.3</td>\n",
              "      <td>-1.0</td>\n",
              "      <td>0</td>\n",
              "      <td>4</td>\n",
              "      <td>4</td>\n",
              "      <td>2000</td>\n",
              "      <td>...</td>\n",
              "      <td>4</td>\n",
              "      <td>2</td>\n",
              "      <td>13</td>\n",
              "      <td>55.0</td>\n",
              "      <td>2003.0</td>\n",
              "      <td>10</td>\n",
              "      <td>3</td>\n",
              "      <td>0</td>\n",
              "      <td>1</td>\n",
              "      <td>2513</td>\n",
              "    </tr>\n",
              "    <tr>\n",
              "      <th>4</th>\n",
              "      <td>7</td>\n",
              "      <td>8</td>\n",
              "      <td>-1.0</td>\n",
              "      <td>22523</td>\n",
              "      <td>19.0</td>\n",
              "      <td>-1.0</td>\n",
              "      <td>0</td>\n",
              "      <td>4</td>\n",
              "      <td>8</td>\n",
              "      <td>2000</td>\n",
              "      <td>...</td>\n",
              "      <td>4</td>\n",
              "      <td>1</td>\n",
              "      <td>13</td>\n",
              "      <td>62.0</td>\n",
              "      <td>2005.0</td>\n",
              "      <td>10</td>\n",
              "      <td>3</td>\n",
              "      <td>0</td>\n",
              "      <td>1</td>\n",
              "      <td>2703</td>\n",
              "    </tr>\n",
              "    <tr>\n",
              "      <th>...</th>\n",
              "      <td>...</td>\n",
              "      <td>...</td>\n",
              "      <td>...</td>\n",
              "      <td>...</td>\n",
              "      <td>...</td>\n",
              "      <td>...</td>\n",
              "      <td>...</td>\n",
              "      <td>...</td>\n",
              "      <td>...</td>\n",
              "      <td>...</td>\n",
              "      <td>...</td>\n",
              "      <td>...</td>\n",
              "      <td>...</td>\n",
              "      <td>...</td>\n",
              "      <td>...</td>\n",
              "      <td>...</td>\n",
              "      <td>...</td>\n",
              "      <td>...</td>\n",
              "      <td>...</td>\n",
              "      <td>...</td>\n",
              "      <td>...</td>\n",
              "    </tr>\n",
              "    <tr>\n",
              "      <th>43240</th>\n",
              "      <td>61224</td>\n",
              "      <td>9</td>\n",
              "      <td>-1.0</td>\n",
              "      <td>34558</td>\n",
              "      <td>11.2</td>\n",
              "      <td>6.6</td>\n",
              "      <td>0</td>\n",
              "      <td>4</td>\n",
              "      <td>4</td>\n",
              "      <td>2004</td>\n",
              "      <td>...</td>\n",
              "      <td>1</td>\n",
              "      <td>2</td>\n",
              "      <td>13</td>\n",
              "      <td>47.0</td>\n",
              "      <td>2016.0</td>\n",
              "      <td>15</td>\n",
              "      <td>3</td>\n",
              "      <td>0</td>\n",
              "      <td>1</td>\n",
              "      <td>2510</td>\n",
              "    </tr>\n",
              "    <tr>\n",
              "      <th>43241</th>\n",
              "      <td>61225</td>\n",
              "      <td>3</td>\n",
              "      <td>-1.0</td>\n",
              "      <td>38268</td>\n",
              "      <td>9.6</td>\n",
              "      <td>5.8</td>\n",
              "      <td>0</td>\n",
              "      <td>4</td>\n",
              "      <td>2</td>\n",
              "      <td>2013</td>\n",
              "      <td>...</td>\n",
              "      <td>4</td>\n",
              "      <td>2</td>\n",
              "      <td>13</td>\n",
              "      <td>65.0</td>\n",
              "      <td>2015.0</td>\n",
              "      <td>10</td>\n",
              "      <td>3</td>\n",
              "      <td>0</td>\n",
              "      <td>1</td>\n",
              "      <td>2808</td>\n",
              "    </tr>\n",
              "    <tr>\n",
              "      <th>43242</th>\n",
              "      <td>61226</td>\n",
              "      <td>3</td>\n",
              "      <td>-1.0</td>\n",
              "      <td>8958</td>\n",
              "      <td>10.0</td>\n",
              "      <td>9.3</td>\n",
              "      <td>0</td>\n",
              "      <td>4</td>\n",
              "      <td>4</td>\n",
              "      <td>1991</td>\n",
              "      <td>...</td>\n",
              "      <td>4</td>\n",
              "      <td>2</td>\n",
              "      <td>13</td>\n",
              "      <td>55.0</td>\n",
              "      <td>1999.0</td>\n",
              "      <td>16</td>\n",
              "      <td>3</td>\n",
              "      <td>0</td>\n",
              "      <td>1</td>\n",
              "      <td>2520</td>\n",
              "    </tr>\n",
              "    <tr>\n",
              "      <th>43243</th>\n",
              "      <td>61227</td>\n",
              "      <td>3</td>\n",
              "      <td>-1.0</td>\n",
              "      <td>20293</td>\n",
              "      <td>8.5</td>\n",
              "      <td>-1.0</td>\n",
              "      <td>0</td>\n",
              "      <td>5</td>\n",
              "      <td>4</td>\n",
              "      <td>2002</td>\n",
              "      <td>...</td>\n",
              "      <td>1</td>\n",
              "      <td>2</td>\n",
              "      <td>13</td>\n",
              "      <td>70.0</td>\n",
              "      <td>2004.0</td>\n",
              "      <td>28</td>\n",
              "      <td>3</td>\n",
              "      <td>0</td>\n",
              "      <td>1</td>\n",
              "      <td>2755</td>\n",
              "    </tr>\n",
              "    <tr>\n",
              "      <th>43244</th>\n",
              "      <td>61228</td>\n",
              "      <td>10</td>\n",
              "      <td>-1.0</td>\n",
              "      <td>52459</td>\n",
              "      <td>8.6</td>\n",
              "      <td>-1.0</td>\n",
              "      <td>0</td>\n",
              "      <td>4</td>\n",
              "      <td>4</td>\n",
              "      <td>1982</td>\n",
              "      <td>...</td>\n",
              "      <td>1</td>\n",
              "      <td>2</td>\n",
              "      <td>8</td>\n",
              "      <td>-1.0</td>\n",
              "      <td>1987.0</td>\n",
              "      <td>16</td>\n",
              "      <td>3</td>\n",
              "      <td>0</td>\n",
              "      <td>0</td>\n",
              "      <td>2620</td>\n",
              "    </tr>\n",
              "  </tbody>\n",
              "</table>\n",
              "<p>43245 rows × 32 columns</p>\n",
              "</div>"
            ],
            "text/plain": [
              "       index  back-suspension  battery-capacity  charge-time  compression  \\\n",
              "0          0                9              -1.0        36457          9.0   \n",
              "1          2                3              -1.0        44872          8.0   \n",
              "2          4                3              -1.0        55927         16.0   \n",
              "3          5                0              -1.0        41405         10.3   \n",
              "4          7                8              -1.0        22523         19.0   \n",
              "...      ...              ...               ...          ...          ...   \n",
              "43240  61224                9              -1.0        34558         11.2   \n",
              "43241  61225                3              -1.0        38268          9.6   \n",
              "43242  61226                3              -1.0         8958         10.0   \n",
              "43243  61227                3              -1.0        20293          8.5   \n",
              "43244  61228               10              -1.0        52459          8.6   \n",
              "\n",
              "       consumption-mixed  cylinders-order  cylinders-value  engine-feeding  \\\n",
              "0                    4.3                0                3               4   \n",
              "1                   -1.0                3                7               4   \n",
              "2                    4.2                0                4               5   \n",
              "3                   -1.0                0                4               4   \n",
              "4                   -1.0                0                4               8   \n",
              "...                  ...              ...              ...             ...   \n",
              "43240                6.6                0                4               4   \n",
              "43241                5.8                0                4               2   \n",
              "43242                9.3                0                4               4   \n",
              "43243               -1.0                0                5               4   \n",
              "43244               -1.0                0                4               4   \n",
              "\n",
              "       engine-start  ...  configurations_front-brake  \\\n",
              "0              2006  ...                           1   \n",
              "1              1982  ...                           4   \n",
              "2              2014  ...                           4   \n",
              "3              2000  ...                           4   \n",
              "4              2000  ...                           4   \n",
              "...             ...  ...                         ...   \n",
              "43240          2004  ...                           1   \n",
              "43241          2013  ...                           4   \n",
              "43242          1991  ...                           4   \n",
              "43243          2002  ...                           1   \n",
              "43244          1982  ...                           1   \n",
              "\n",
              "       configurations_safety-rating  configurations_seats  \\\n",
              "0                                 2                    13   \n",
              "1                                 2                    13   \n",
              "2                                 2                    13   \n",
              "3                                 2                    13   \n",
              "4                                 1                    13   \n",
              "...                             ...                   ...   \n",
              "43240                             2                    13   \n",
              "43241                             2                    13   \n",
              "43242                             2                    13   \n",
              "43243                             2                    13   \n",
              "43244                             2                     8   \n",
              "\n",
              "       configurations_tank-volume  supergen_year-stop  models_country-from  \\\n",
              "0                            40.0              2018.0                   16   \n",
              "1                           108.0              1993.0                   34   \n",
              "2                            55.0              2019.0                   35   \n",
              "3                            55.0              2003.0                   10   \n",
              "4                            62.0              2005.0                   10   \n",
              "...                           ...                 ...                  ...   \n",
              "43240                        47.0              2016.0                   15   \n",
              "43241                        65.0              2015.0                   10   \n",
              "43242                        55.0              1999.0                   16   \n",
              "43243                        70.0              2004.0                   28   \n",
              "43244                        -1.0              1987.0                   16   \n",
              "\n",
              "       models_group  models_light-and-commercial  models_male  target  \n",
              "0                 3                            0            1    2360  \n",
              "1                 3                            0            1    3060  \n",
              "2                 3                            0            1    2648  \n",
              "3                 3                            0            1    2513  \n",
              "4                 3                            0            1    2703  \n",
              "...             ...                          ...          ...     ...  \n",
              "43240             3                            0            1    2510  \n",
              "43241             3                            0            1    2808  \n",
              "43242             3                            0            1    2520  \n",
              "43243             3                            0            1    2755  \n",
              "43244             3                            0            0    2620  \n",
              "\n",
              "[43245 rows x 32 columns]"
            ]
          },
          "execution_count": 4,
          "metadata": {},
          "output_type": "execute_result"
        }
      ],
      "source": [
        "df = pd.read_csv(\"https://raw.githubusercontent.com/katarina74/ml_lessons/main/lesson_2/data/techparams_train.csv\")\n",
        "df"
      ]
    },
    {
      "cell_type": "code",
      "execution_count": null,
      "id": "3bd8ae26",
      "metadata": {
        "id": "3bd8ae26",
        "outputId": "c06bcdbd-dd1c-4597-c567-56ffc9699814"
      },
      "outputs": [
        {
          "data": {
            "text/plain": [
              "index                             0.002701\n",
              "back-suspension                  -0.159912\n",
              "battery-capacity                  0.025703\n",
              "charge-time                       0.110034\n",
              "compression                       0.023138\n",
              "consumption-mixed                 0.118195\n",
              "cylinders-order                   0.376272\n",
              "cylinders-value                   0.472177\n",
              "engine-feeding                    0.012235\n",
              "engine-start                      0.150944\n",
              "engine-stop                      -0.137719\n",
              "engine-type                      -0.125304\n",
              "gear-type                         0.068319\n",
              "luxury                            0.085707\n",
              "max-speed                         0.111922\n",
              "power-electro-kw                  0.028609\n",
              "supply-system                     0.045416\n",
              "valves                           -0.066402\n",
              "valvetrain                        0.021120\n",
              "weight                            0.339835\n",
              "configurations_auto-premiere      0.106856\n",
              "configurations_back-wheel-base    0.051349\n",
              "configurations_front-brake        0.184791\n",
              "configurations_safety-rating     -0.007558\n",
              "configurations_seats              0.298625\n",
              "configurations_tank-volume        0.413853\n",
              "supergen_year-stop               -0.136986\n",
              "models_country-from               0.148848\n",
              "models_group                     -0.031663\n",
              "models_light-and-commercial       0.102416\n",
              "models_male                       0.003423\n",
              "target                            1.000000\n",
              "Name: target, dtype: float64"
            ]
          },
          "execution_count": 148,
          "metadata": {},
          "output_type": "execute_result"
        }
      ],
      "source": [
        "#посмотрим матрицу корреляций\n",
        "matrix = df.corr()['target']\n",
        "matrix"
      ]
    },
    {
      "cell_type": "code",
      "execution_count": null,
      "id": "3fec3dc9",
      "metadata": {
        "id": "3fec3dc9",
        "outputId": "a694d476-886f-40f4-f23e-ed5685c38dad"
      },
      "outputs": [
        {
          "data": {
            "text/plain": [
              "<Axes: >"
            ]
          },
          "execution_count": 149,
          "metadata": {},
          "output_type": "execute_result"
        },
        {
          "data": {
            "image/png": "[encoded data removed]",
            "text/plain": [
              "<Figure size 640x480 with 2 Axes>"
            ]
          },
          "metadata": {},
          "output_type": "display_data"
        }
      ],
      "source": [
        "#проверим данные на мультиколлинеарность\n",
        "corr_matrix = df[[\"configurations_tank-volume\", \"configurations_seats\", \"weight\", \"cylinders-order\", \"cylinders-value\"]].corr()\n",
        "sns.heatmap(corr_matrix)"
      ]
    },
    {
      "cell_type": "code",
      "execution_count": null,
      "id": "65540bbd",
      "metadata": {
        "id": "65540bbd",
        "outputId": "28fc4d42-6558-403b-a470-471bd05145bf"
      },
      "outputs": [
        {
          "name": "stdout",
          "output_type": "stream",
          "text": [
            "                            configurations_tank-volume  configurations_seats  \\\n",
            "configurations_tank-volume                    1.000000              0.185502   \n",
            "configurations_seats                          0.185502              1.000000   \n",
            "weight                                        0.546153              0.180505   \n",
            "cylinders-order                               0.224373             -0.014392   \n",
            "cylinders-value                               0.302997             -0.028327   \n",
            "\n",
            "                              weight  cylinders-order  cylinders-value  \n",
            "configurations_tank-volume  0.546153         0.224373         0.302997  \n",
            "configurations_seats        0.180505        -0.014392        -0.028327  \n",
            "weight                      1.000000         0.199547         0.220476  \n",
            "cylinders-order             0.199547         1.000000         0.720077  \n",
            "cylinders-value             0.220476         0.720077         1.000000  \n"
          ]
        }
      ],
      "source": [
        "print(df[[\"configurations_tank-volume\", \"configurations_seats\", \"weight\", \"cylinders-order\", \"cylinders-value\"]].corr())"
      ]
    },
    {
      "cell_type": "markdown",
      "id": "d5ebafd8",
      "metadata": {
        "id": "d5ebafd8"
      },
      "source": [
        "Наблюдается тесная связь между признаками cylinders-value и cylinders-order; так как между cylinder_value и target корреляция выше, оставляем этот фактор"
      ]
    },
    {
      "cell_type": "code",
      "execution_count": null,
      "id": "b74091c8",
      "metadata": {
        "id": "b74091c8",
        "outputId": "7461a7c0-cad6-48c1-aba2-c3d7cfbdeccf"
      },
      "outputs": [
        {
          "data": {
            "text/html": [
              "<div>\n",
              "<style scoped>\n",
              "    .dataframe tbody tr th:only-of-type {\n",
              "        vertical-align: middle;\n",
              "    }\n",
              "\n",
              "    .dataframe tbody tr th {\n",
              "        vertical-align: top;\n",
              "    }\n",
              "\n",
              "    .dataframe thead th {\n",
              "        text-align: right;\n",
              "    }\n",
              "</style>\n",
              "<table border=\"1\" class=\"dataframe\">\n",
              "  <thead>\n",
              "    <tr style=\"text-align: right;\">\n",
              "      <th></th>\n",
              "      <th>target</th>\n",
              "      <th>configurations_tank-volume</th>\n",
              "      <th>configurations_seats</th>\n",
              "      <th>weight</th>\n",
              "      <th>cylinders-value</th>\n",
              "    </tr>\n",
              "  </thead>\n",
              "  <tbody>\n",
              "    <tr>\n",
              "      <th>0</th>\n",
              "      <td>2360</td>\n",
              "      <td>40.0</td>\n",
              "      <td>13</td>\n",
              "      <td>820.0</td>\n",
              "      <td>3</td>\n",
              "    </tr>\n",
              "    <tr>\n",
              "      <th>1</th>\n",
              "      <td>3060</td>\n",
              "      <td>108.0</td>\n",
              "      <td>13</td>\n",
              "      <td>2350.0</td>\n",
              "      <td>7</td>\n",
              "    </tr>\n",
              "    <tr>\n",
              "      <th>2</th>\n",
              "      <td>2648</td>\n",
              "      <td>55.0</td>\n",
              "      <td>13</td>\n",
              "      <td>1350.0</td>\n",
              "      <td>4</td>\n",
              "    </tr>\n",
              "    <tr>\n",
              "      <th>3</th>\n",
              "      <td>2513</td>\n",
              "      <td>55.0</td>\n",
              "      <td>13</td>\n",
              "      <td>1090.0</td>\n",
              "      <td>4</td>\n",
              "    </tr>\n",
              "    <tr>\n",
              "      <th>4</th>\n",
              "      <td>2703</td>\n",
              "      <td>62.0</td>\n",
              "      <td>13</td>\n",
              "      <td>1410.0</td>\n",
              "      <td>4</td>\n",
              "    </tr>\n",
              "    <tr>\n",
              "      <th>...</th>\n",
              "      <td>...</td>\n",
              "      <td>...</td>\n",
              "      <td>...</td>\n",
              "      <td>...</td>\n",
              "      <td>...</td>\n",
              "    </tr>\n",
              "    <tr>\n",
              "      <th>43240</th>\n",
              "      <td>2510</td>\n",
              "      <td>47.0</td>\n",
              "      <td>13</td>\n",
              "      <td>-1.0</td>\n",
              "      <td>4</td>\n",
              "    </tr>\n",
              "    <tr>\n",
              "      <th>43241</th>\n",
              "      <td>2808</td>\n",
              "      <td>65.0</td>\n",
              "      <td>13</td>\n",
              "      <td>1545.0</td>\n",
              "      <td>4</td>\n",
              "    </tr>\n",
              "    <tr>\n",
              "      <th>43242</th>\n",
              "      <td>2520</td>\n",
              "      <td>55.0</td>\n",
              "      <td>13</td>\n",
              "      <td>1210.0</td>\n",
              "      <td>4</td>\n",
              "    </tr>\n",
              "    <tr>\n",
              "      <th>43243</th>\n",
              "      <td>2755</td>\n",
              "      <td>70.0</td>\n",
              "      <td>13</td>\n",
              "      <td>1660.0</td>\n",
              "      <td>5</td>\n",
              "    </tr>\n",
              "    <tr>\n",
              "      <th>43244</th>\n",
              "      <td>2620</td>\n",
              "      <td>-1.0</td>\n",
              "      <td>8</td>\n",
              "      <td>-1.0</td>\n",
              "      <td>4</td>\n",
              "    </tr>\n",
              "  </tbody>\n",
              "</table>\n",
              "<p>43245 rows × 5 columns</p>\n",
              "</div>"
            ],
            "text/plain": [
              "       target  configurations_tank-volume  configurations_seats  weight  \\\n",
              "0        2360                        40.0                    13   820.0   \n",
              "1        3060                       108.0                    13  2350.0   \n",
              "2        2648                        55.0                    13  1350.0   \n",
              "3        2513                        55.0                    13  1090.0   \n",
              "4        2703                        62.0                    13  1410.0   \n",
              "...       ...                         ...                   ...     ...   \n",
              "43240    2510                        47.0                    13    -1.0   \n",
              "43241    2808                        65.0                    13  1545.0   \n",
              "43242    2520                        55.0                    13  1210.0   \n",
              "43243    2755                        70.0                    13  1660.0   \n",
              "43244    2620                        -1.0                     8    -1.0   \n",
              "\n",
              "       cylinders-value  \n",
              "0                    3  \n",
              "1                    7  \n",
              "2                    4  \n",
              "3                    4  \n",
              "4                    4  \n",
              "...                ...  \n",
              "43240                4  \n",
              "43241                4  \n",
              "43242                4  \n",
              "43243                5  \n",
              "43244                4  \n",
              "\n",
              "[43245 rows x 5 columns]"
            ]
          },
          "execution_count": 151,
          "metadata": {},
          "output_type": "execute_result"
        }
      ],
      "source": [
        "df1 = df[['target', 'configurations_tank-volume', 'configurations_seats', 'weight', 'cylinders-value']]\n",
        "df1"
      ]
    },
    {
      "cell_type": "code",
      "execution_count": null,
      "id": "0096a142",
      "metadata": {
        "id": "0096a142",
        "outputId": "3cea0331-4ee1-4da5-e212-6cb701308dcf"
      },
      "outputs": [
        {
          "data": {
            "text/plain": [
              "<seaborn.axisgrid.PairGrid at 0x1796ff00790>"
            ]
          },
          "execution_count": 132,
          "metadata": {},
          "output_type": "execute_result"
        },
        {
          "data": {
            "image/png": "[encoded data removed]",
            "text/plain": [
              "<Figure size 1250x1250 with 30 Axes>"
            ]
          },
          "metadata": {},
          "output_type": "display_data"
        }
      ],
      "source": [
        "sns.pairplot(df1)"
      ]
    },
    {
      "cell_type": "code",
      "execution_count": null,
      "id": "c4f47c54",
      "metadata": {
        "id": "c4f47c54"
      },
      "outputs": [],
      "source": [
        "#отберем факторы с наибольшим коэффициентом корреляции\n",
        "X = df1[[\"configurations_tank-volume\", \"configurations_seats\", \"weight\", \"cylinders-value\"]]\n",
        "y = df1[[\"target\"]]"
      ]
    },
    {
      "cell_type": "code",
      "execution_count": null,
      "id": "e60c5cd4",
      "metadata": {
        "id": "e60c5cd4"
      },
      "outputs": [],
      "source": [
        "#разбили данные на тестовую и обучающую выборки\n",
        "train_X, test_X, train_y, test_y = train_test_split(X, y, test_size=0.33, random_state=42)"
      ]
    },
    {
      "cell_type": "code",
      "execution_count": null,
      "id": "8a24d4f4",
      "metadata": {
        "id": "8a24d4f4"
      },
      "outputs": [],
      "source": [
        "#стандартизируем выборки, причем уже после их разделения,\n",
        "#чтобы данные из train и test не просочились друг в друга\n",
        "scaler = StandardScaler()\n",
        "X_train_st = scaler.fit_transform(train_X)\n",
        "X_test_st = scaler.fit_transform(test_X)"
      ]
    },
    {
      "cell_type": "code",
      "execution_count": null,
      "id": "ba8d9fb6",
      "metadata": {
        "id": "ba8d9fb6"
      },
      "outputs": [],
      "source": []
    },
    {
      "cell_type": "code",
      "execution_count": null,
      "id": "14324932",
      "metadata": {
        "id": "14324932"
      },
      "outputs": [],
      "source": [
        "#по методу в baseline"
      ]
    },
    {
      "cell_type": "code",
      "execution_count": null,
      "id": "f8c5ac6c",
      "metadata": {
        "id": "f8c5ac6c"
      },
      "outputs": [],
      "source": [
        "train_X, test_X, train_y, test_y = train_test_split(X, y, test_size=0.33, random_state=42)"
      ]
    },
    {
      "cell_type": "code",
      "execution_count": null,
      "id": "0ee50632",
      "metadata": {
        "id": "0ee50632"
      },
      "outputs": [],
      "source": [
        "reg = LinearRegression().fit(train_X, train_y)"
      ]
    },
    {
      "cell_type": "code",
      "execution_count": null,
      "id": "6ec08b4a",
      "metadata": {
        "id": "6ec08b4a",
        "outputId": "325dae5e-2223-46f0-e142-6563f794606b"
      },
      "outputs": [
        {
          "data": {
            "text/plain": [
              "0.3742032391545771"
            ]
          },
          "execution_count": 160,
          "metadata": {},
          "output_type": "execute_result"
        }
      ],
      "source": [
        "reg.score(train_X, train_y)"
      ]
    },
    {
      "cell_type": "code",
      "execution_count": null,
      "id": "ae326934",
      "metadata": {
        "id": "ae326934",
        "outputId": "2f290f28-6476-48b4-bb6d-3002f299fad7"
      },
      "outputs": [
        {
          "data": {
            "text/plain": [
              "34297.97320893795"
            ]
          },
          "execution_count": 161,
          "metadata": {},
          "output_type": "execute_result"
        }
      ],
      "source": [
        "mean_squared_error(reg.predict(train_X), train_y)"
      ]
    },
    {
      "cell_type": "code",
      "execution_count": null,
      "id": "14b764f3",
      "metadata": {
        "id": "14b764f3"
      },
      "outputs": [],
      "source": [
        "scores = cross_validate(reg, train_X, train_y, cv=3,\n",
        "                        scoring=('neg_mean_squared_error'))"
      ]
    },
    {
      "cell_type": "code",
      "execution_count": null,
      "id": "6dc8638c",
      "metadata": {
        "id": "6dc8638c",
        "outputId": "a9c9de05-7ea5-4499-c275-a83e2500359b"
      },
      "outputs": [
        {
          "data": {
            "text/plain": [
              "{'fit_time': array([0.00989246, 0.0100019 , 0.00800157]),\n",
              " 'score_time': array([0.00500154, 0.00500131, 0.00500011]),\n",
              " 'test_score': array([-34372.14263406, -33916.50434762, -34616.20629804])}"
            ]
          },
          "execution_count": 163,
          "metadata": {},
          "output_type": "execute_result"
        }
      ],
      "source": [
        "scores"
      ]
    },
    {
      "cell_type": "code",
      "execution_count": null,
      "id": "1fb66465",
      "metadata": {
        "id": "1fb66465",
        "outputId": "473a0b27-6d45-4ba0-b0d3-bd9d19aed4f5"
      },
      "outputs": [
        {
          "data": {
            "text/plain": [
              "35591.727150846826"
            ]
          },
          "execution_count": 164,
          "metadata": {},
          "output_type": "execute_result"
        }
      ],
      "source": [
        "mean_squared_error(reg.predict(test_X), test_y)"
      ]
    },
    {
      "cell_type": "code",
      "execution_count": null,
      "id": "79106da0",
      "metadata": {
        "id": "79106da0",
        "outputId": "3b7b8d8f-d854-45a0-ee15-c5646fa88798"
      },
      "outputs": [
        {
          "data": {
            "text/plain": [
              "0.38574103561971906"
            ]
          },
          "execution_count": 165,
          "metadata": {},
          "output_type": "execute_result"
        }
      ],
      "source": [
        "r2_score(test_y, reg.predict(test_X))"
      ]
    },
    {
      "cell_type": "code",
      "execution_count": null,
      "id": "fa654f68",
      "metadata": {
        "id": "fa654f68"
      },
      "outputs": [],
      "source": []
    },
    {
      "cell_type": "code",
      "execution_count": null,
      "id": "6d290bec",
      "metadata": {
        "id": "6d290bec"
      },
      "outputs": [],
      "source": [
        "#как пробовали раньше"
      ]
    },
    {
      "cell_type": "code",
      "execution_count": null,
      "id": "68e73bb1",
      "metadata": {
        "id": "68e73bb1",
        "outputId": "387371d0-2e42-4032-88aa-f1421d876e9e"
      },
      "outputs": [
        {
          "name": "stdout",
          "output_type": "stream",
          "text": [
            "[[43.77429161 59.9772648  25.76818694 92.09532322]] [2659.80976047]\n"
          ]
        }
      ],
      "source": [
        "from sklearn.linear_model import LinearRegression\n",
        "from scipy.stats import linregress\n",
        "\n",
        "# создадим модель линейной регрессии\n",
        "model = LinearRegression()\n",
        "\n",
        "# обучим нашу модель\n",
        "model.fit(X_train_st, train_y)\n",
        "\n",
        "print(model.coef_, model.intercept_)"
      ]
    },
    {
      "cell_type": "code",
      "execution_count": null,
      "id": "fcb4be7e",
      "metadata": {
        "id": "fcb4be7e"
      },
      "outputs": [],
      "source": [
        "predictions = model.predict(X_test_st)"
      ]
    },
    {
      "cell_type": "code",
      "execution_count": null,
      "id": "89ec9bb0",
      "metadata": {
        "id": "89ec9bb0",
        "outputId": "c2d72b88-7288-4aa9-c305-b6a546de6fc7"
      },
      "outputs": [
        {
          "data": {
            "text/plain": [
              "0.38553560298359635"
            ]
          },
          "execution_count": 78,
          "metadata": {},
          "output_type": "execute_result"
        }
      ],
      "source": [
        "from sklearn.metrics import mean_squared_error, mean_absolute_error, r2_score\n",
        "r2_score(test_y, predictions)"
      ]
    },
    {
      "cell_type": "code",
      "execution_count": null,
      "id": "8c686fcf",
      "metadata": {
        "id": "8c686fcf",
        "outputId": "0c8d71b9-8f15-4243-969f-2764a0bedcdd"
      },
      "outputs": [
        {
          "data": {
            "text/plain": [
              "35603.63044043111"
            ]
          },
          "execution_count": 99,
          "metadata": {},
          "output_type": "execute_result"
        }
      ],
      "source": [
        "mean_squared_error(test_y, predictions)"
      ]
    },
    {
      "cell_type": "code",
      "execution_count": null,
      "id": "6fd18b52",
      "metadata": {
        "id": "6fd18b52"
      },
      "outputs": [],
      "source": []
    },
    {
      "cell_type": "code",
      "execution_count": null,
      "id": "9b58bf8c",
      "metadata": {
        "id": "9b58bf8c"
      },
      "outputs": [],
      "source": [
        "#попробуем с Rigde регрессией, но не удаляя изначально факторы из таблицы"
      ]
    },
    {
      "cell_type": "code",
      "execution_count": null,
      "id": "51d05996",
      "metadata": {
        "id": "51d05996"
      },
      "outputs": [],
      "source": [
        "X1 = df.drop([\"target\"], axis=1)\n",
        "y1 = df[[\"target\"]]\n",
        "train_X1, test_X1, train_y1, test_y1 = train_test_split(X1, y1, test_size=0.33, random_state=42)"
      ]
    },
    {
      "cell_type": "code",
      "execution_count": null,
      "id": "146b3e76",
      "metadata": {
        "id": "146b3e76",
        "outputId": "49951b99-cf25-4acf-8460-5ad26ce578fd"
      },
      "outputs": [
        {
          "name": "stdout",
          "output_type": "stream",
          "text": [
            "[[ 1.70992031e+00 -1.87979716e-02  1.71023513e+01  2.83050804e+01\n",
            "  -2.25023652e+01 -4.10985732e+00 -1.66373271e+00  1.00882328e+02\n",
            "  -1.40247408e+01  3.71899390e+01 -7.32859285e+00 -3.89253821e+01\n",
            "   2.49890777e+01  7.04044967e+00 -2.00086895e+01  4.51577051e+00\n",
            "   6.38852830e-01  7.99333685e+00  2.42325922e+00  2.21373905e+01\n",
            "  -3.01575035e+01 -1.76304093e+01  9.58994343e+00 -4.69855318e+00\n",
            "   5.19164393e+01  5.29662698e+01 -9.03424100e+00  1.35249524e+01\n",
            "  -6.08719883e-02  8.67759069e+00 -1.78844784e+00]] [2659.80976047]\n"
          ]
        },
        {
          "data": {
            "text/plain": [
              "0.4645490349802138"
            ]
          },
          "execution_count": 102,
          "metadata": {},
          "output_type": "execute_result"
        }
      ],
      "source": [
        "X_train_st1 = scaler.fit_transform(train_X1)\n",
        "X_test_st1 = scaler.fit_transform(test_X1)\n",
        "\n",
        "from sklearn.linear_model import LinearRegression, Ridge\n",
        "from scipy.stats import linregress\n",
        "\n",
        "# создадим модель линейной регрессии\n",
        "model_Ridge = Ridge()\n",
        "\n",
        "# обучим нашу модель\n",
        "model_Ridge.fit(X_train_st1, train_y1)\n",
        "\n",
        "print(model_Ridge.coef_, model_Ridge.intercept_)\n",
        "\n",
        "# делаем прогнозы\n",
        "predictions = model_Ridge.predict(X_test_st1)\n",
        "\n",
        "from sklearn.metrics import mean_squared_error, mean_absolute_error, r2_score\n",
        "r2_score(test_y1, predictions)"
      ]
    },
    {
      "cell_type": "code",
      "execution_count": null,
      "id": "5c914974",
      "metadata": {
        "id": "5c914974",
        "outputId": "b2e9770d-46a5-471e-806f-ebed85aa1f78"
      },
      "outputs": [
        {
          "data": {
            "text/plain": [
              "31025.39117010508"
            ]
          },
          "execution_count": 103,
          "metadata": {},
          "output_type": "execute_result"
        }
      ],
      "source": [
        "mean_squared_error(test_y1, predictions)"
      ]
    },
    {
      "cell_type": "code",
      "execution_count": null,
      "id": "4851a893",
      "metadata": {
        "id": "4851a893"
      },
      "outputs": [],
      "source": []
    },
    {
      "cell_type": "code",
      "execution_count": null,
      "id": "6c60ada0",
      "metadata": {
        "id": "6c60ada0"
      },
      "outputs": [],
      "source": [
        "#метод 4"
      ]
    },
    {
      "cell_type": "code",
      "execution_count": null,
      "id": "388146bc",
      "metadata": {
        "id": "388146bc"
      },
      "outputs": [],
      "source": [
        "#отберем факторы с наибольшим коэффициентом корреляции\n",
        "X = df1[[\"configurations_tank-volume\", \"configurations_seats\", \"weight\", \"cylinders-value\"]]\n",
        "y = df1[[\"target\"]]"
      ]
    },
    {
      "cell_type": "code",
      "execution_count": null,
      "id": "5a9b0cd1",
      "metadata": {
        "id": "5a9b0cd1"
      },
      "outputs": [],
      "source": [
        "#train_X, test_X, train_y, test_y = train_test_split(X, y, test_size=0.33, random_state=42)\n",
        "#стандартизируем выборки, причем уже после их разделения,\n",
        "#чтобы данные из train и test не просочились друг в друга\n",
        "scaler = StandardScaler()\n",
        "X_st = scaler.fit_transform(X)"
      ]
    },
    {
      "cell_type": "code",
      "execution_count": null,
      "id": "a25e1eb5",
      "metadata": {
        "id": "a25e1eb5",
        "outputId": "776d224e-759a-4c30-ce37-1fae4e7628a2"
      },
      "outputs": [
        {
          "name": "stdout",
          "output_type": "stream",
          "text": [
            "0.3783020767526146\n",
            "496012.3651794474\n"
          ]
        },
        {
          "name": "stderr",
          "output_type": "stream",
          "text": [
            "C:\\Users\\Elizaveta\\anaconda3\\Lib\\site-packages\\sklearn\\base.py:464: UserWarning: X does not have valid feature names, but LinearRegression was fitted with feature names\n",
            "  warnings.warn(\n"
          ]
        }
      ],
      "source": [
        "LinReg = LinearRegression()\n",
        "LinReg.fit(X_st, y)\n",
        "\n",
        "print(LinReg.score(X_st, y))\n",
        "print(mean_squared_error(reg.predict(X_st), y))"
      ]
    },
    {
      "cell_type": "code",
      "execution_count": null,
      "id": "60740f18",
      "metadata": {
        "id": "60740f18",
        "outputId": "11a5487a-69a9-43de-ed98-3ffd51c0ce28"
      },
      "outputs": [
        {
          "name": "stdout",
          "output_type": "stream",
          "text": [
            "intercept [2660.82624581]\n",
            "slope [[44.79628961 60.58512608 24.09007883 94.41315769]]\n"
          ]
        }
      ],
      "source": [
        "print('intercept', LinReg.intercept_)\n",
        "print('slope', LinReg.coef_)\n"
      ]
    },
    {
      "cell_type": "code",
      "execution_count": null,
      "id": "301b657b",
      "metadata": {
        "id": "301b657b"
      },
      "outputs": [],
      "source": []
    },
    {
      "cell_type": "code",
      "execution_count": null,
      "id": "e553da7c",
      "metadata": {
        "id": "e553da7c"
      },
      "outputs": [],
      "source": [
        "#метод 5"
      ]
    },
    {
      "cell_type": "code",
      "execution_count": null,
      "id": "31753a41",
      "metadata": {
        "id": "31753a41"
      },
      "outputs": [],
      "source": [
        "from sklearn import tree\n",
        "from sklearn.ensemble import RandomForestClassifier\n",
        "from sklearn.model_selection import GridSearchCV\n",
        "from sklearn.tree import DecisionTreeRegressor\n",
        "from sklearn.model_selection import GridSearchCV\n",
        "from sklearn.model_selection import train_test_split\n",
        "from sklearn.linear_model import LinearRegression\n",
        "from sklearn import metrics\n",
        "from sklearn.linear_model import Lasso, Ridge\n",
        "from sklearn.model_selection import GridSearchCV, train_test_split\n",
        "from sklearn.metrics import mean_absolute_error,mean_squared_error,r2_score\n",
        "from sklearn.tree import DecisionTreeRegressor\n",
        "from sklearn.ensemble import RandomForestRegressor"
      ]
    },
    {
      "cell_type": "code",
      "execution_count": null,
      "id": "0695c6cc",
      "metadata": {
        "id": "0695c6cc"
      },
      "outputs": [],
      "source": [
        "dtree = DecisionTreeRegressor(random_state=101)"
      ]
    },
    {
      "cell_type": "code",
      "execution_count": null,
      "id": "568f215d",
      "metadata": {
        "id": "568f215d",
        "outputId": "9f67c7c1-8c7c-444a-ba61-fae12234e287"
      },
      "outputs": [
        {
          "data": {
            "text/html": [
              "<style>#sk-container-id-3 {color: black;}#sk-container-id-3 pre{padding: 0;}#sk-container-id-3 div.sk-toggleable {background-color: white;}#sk-container-id-3 label.sk-toggleable__label {cursor: pointer;display: block;width: 100%;margin-bottom: 0;padding: 0.3em;box-sizing: border-box;text-align: center;}#sk-container-id-3 label.sk-toggleable__label-arrow:before {content: \"▸\";float: left;margin-right: 0.25em;color: #696969;}#sk-container-id-3 label.sk-toggleable__label-arrow:hover:before {color: black;}#sk-container-id-3 div.sk-estimator:hover label.sk-toggleable__label-arrow:before {color: black;}#sk-container-id-3 div.sk-toggleable__content {max-height: 0;max-width: 0;overflow: hidden;text-align: left;background-color: #f0f8ff;}#sk-container-id-3 div.sk-toggleable__content pre {margin: 0.2em;color: black;border-radius: 0.25em;background-color: #f0f8ff;}#sk-container-id-3 input.sk-toggleable__control:checked~div.sk-toggleable__content {max-height: 200px;max-width: 100%;overflow: auto;}#sk-container-id-3 input.sk-toggleable__control:checked~label.sk-toggleable__label-arrow:before {content: \"▾\";}#sk-container-id-3 div.sk-estimator input.sk-toggleable__control:checked~label.sk-toggleable__label {background-color: #d4ebff;}#sk-container-id-3 div.sk-label input.sk-toggleable__control:checked~label.sk-toggleable__label {background-color: #d4ebff;}#sk-container-id-3 input.sk-hidden--visually {border: 0;clip: rect(1px 1px 1px 1px);clip: rect(1px, 1px, 1px, 1px);height: 1px;margin: -1px;overflow: hidden;padding: 0;position: absolute;width: 1px;}#sk-container-id-3 div.sk-estimator {font-family: monospace;background-color: #f0f8ff;border: 1px dotted black;border-radius: 0.25em;box-sizing: border-box;margin-bottom: 0.5em;}#sk-container-id-3 div.sk-estimator:hover {background-color: #d4ebff;}#sk-container-id-3 div.sk-parallel-item::after {content: \"\";width: 100%;border-bottom: 1px solid gray;flex-grow: 1;}#sk-container-id-3 div.sk-label:hover label.sk-toggleable__label {background-color: #d4ebff;}#sk-container-id-3 div.sk-serial::before {content: \"\";position: absolute;border-left: 1px solid gray;box-sizing: border-box;top: 0;bottom: 0;left: 50%;z-index: 0;}#sk-container-id-3 div.sk-serial {display: flex;flex-direction: column;align-items: center;background-color: white;padding-right: 0.2em;padding-left: 0.2em;position: relative;}#sk-container-id-3 div.sk-item {position: relative;z-index: 1;}#sk-container-id-3 div.sk-parallel {display: flex;align-items: stretch;justify-content: center;background-color: white;position: relative;}#sk-container-id-3 div.sk-item::before, #sk-container-id-3 div.sk-parallel-item::before {content: \"\";position: absolute;border-left: 1px solid gray;box-sizing: border-box;top: 0;bottom: 0;left: 50%;z-index: -1;}#sk-container-id-3 div.sk-parallel-item {display: flex;flex-direction: column;z-index: 1;position: relative;background-color: white;}#sk-container-id-3 div.sk-parallel-item:first-child::after {align-self: flex-end;width: 50%;}#sk-container-id-3 div.sk-parallel-item:last-child::after {align-self: flex-start;width: 50%;}#sk-container-id-3 div.sk-parallel-item:only-child::after {width: 0;}#sk-container-id-3 div.sk-dashed-wrapped {border: 1px dashed gray;margin: 0 0.4em 0.5em 0.4em;box-sizing: border-box;padding-bottom: 0.4em;background-color: white;}#sk-container-id-3 div.sk-label label {font-family: monospace;font-weight: bold;display: inline-block;line-height: 1.2em;}#sk-container-id-3 div.sk-label-container {text-align: center;}#sk-container-id-3 div.sk-container {/* jupyter's `normalize.less` sets `[hidden] { display: none; }` but bootstrap.min.css set `[hidden] { display: none !important; }` so we also need the `!important` here to be able to override the default hidden behavior on the sphinx rendered scikit-learn.org. See: https://github.com/scikit-learn/scikit-learn/issues/21755 */display: inline-block !important;position: relative;}#sk-container-id-3 div.sk-text-repr-fallback {display: none;}</style><div id=\"sk-container-id-3\" class=\"sk-top-container\"><div class=\"sk-text-repr-fallback\"><pre>DecisionTreeRegressor(random_state=101)</pre><b>In a Jupyter environment, please rerun this cell to show the HTML representation or trust the notebook. <br />On GitHub, the HTML representation is unable to render, please try loading this page with nbviewer.org.</b></div><div class=\"sk-container\" hidden><div class=\"sk-item\"><div class=\"sk-estimator sk-toggleable\"><input class=\"sk-toggleable__control sk-hidden--visually\" id=\"sk-estimator-id-3\" type=\"checkbox\" checked><label for=\"sk-estimator-id-3\" class=\"sk-toggleable__label sk-toggleable__label-arrow\">DecisionTreeRegressor</label><div class=\"sk-toggleable__content\"><pre>DecisionTreeRegressor(random_state=101)</pre></div></div></div></div></div>"
            ],
            "text/plain": [
              "DecisionTreeRegressor(random_state=101)"
            ]
          },
          "execution_count": 156,
          "metadata": {},
          "output_type": "execute_result"
        }
      ],
      "source": [
        "dtree.fit(X_train_st,train_y)"
      ]
    },
    {
      "cell_type": "code",
      "execution_count": null,
      "id": "cf9c03cb",
      "metadata": {
        "id": "cf9c03cb"
      },
      "outputs": [],
      "source": [
        "import matplotlib.pyplot as plt\n",
        "import plotly.express as px"
      ]
    },
    {
      "cell_type": "code",
      "execution_count": null,
      "id": "e33f26d3",
      "metadata": {
        "id": "e33f26d3",
        "outputId": "36774579-f90e-4d37-c1aa-bfd390affe71"
      },
      "outputs": [
        {
          "name": "stdout",
          "output_type": "stream",
          "text": [
            "RMSE :  168.4611040280236\n",
            "R2 Score :  0.5102192353398629\n"
          ]
        }
      ],
      "source": [
        "prediction = dtree.predict(X_test_st)\n",
        "print('RMSE : ', np.sqrt(metrics.mean_squared_error(test_y, prediction)))\n",
        "print('R2 Score : ', r2_score(test_y, prediction))"
      ]
    },
    {
      "cell_type": "code",
      "execution_count": null,
      "id": "58cd1f50",
      "metadata": {
        "id": "58cd1f50"
      },
      "outputs": [],
      "source": []
    },
    {
      "cell_type": "code",
      "execution_count": null,
      "id": "4c056506",
      "metadata": {
        "id": "4c056506"
      },
      "outputs": [],
      "source": [
        "#метод 6"
      ]
    },
    {
      "cell_type": "code",
      "execution_count": null,
      "id": "106eeaa9",
      "metadata": {
        "id": "106eeaa9"
      },
      "outputs": [],
      "source": [
        "clf_rf = RandomForestRegressor()\n",
        "parameters = {'n_estimators': [10, 20, 30], 'max_depth': [2, 5, 7, 10]}"
      ]
    },
    {
      "cell_type": "code",
      "execution_count": null,
      "id": "476212ef",
      "metadata": {
        "id": "476212ef"
      },
      "outputs": [],
      "source": [
        "grid_search_cv_clf = GridSearchCV(clf_rf, parameters, cv=5)"
      ]
    },
    {
      "cell_type": "code",
      "execution_count": null,
      "id": "116de5ca",
      "metadata": {
        "collapsed": true,
        "id": "116de5ca",
        "outputId": "2371dda1-e2ad-4881-866e-261263f3569b"
      },
      "outputs": [
        {
          "name": "stderr",
          "output_type": "stream",
          "text": [
            "C:\\Users\\Elizaveta\\anaconda3\\Lib\\site-packages\\sklearn\\base.py:1151: DataConversionWarning: A column-vector y was passed when a 1d array was expected. Please change the shape of y to (n_samples,), for example using ravel().\n",
            "  return fit_method(estimator, *args, **kwargs)\n",
            "C:\\Users\\Elizaveta\\anaconda3\\Lib\\site-packages\\sklearn\\base.py:1151: DataConversionWarning: A column-vector y was passed when a 1d array was expected. Please change the shape of y to (n_samples,), for example using ravel().\n",
            "  return fit_method(estimator, *args, **kwargs)\n",
            "C:\\Users\\Elizaveta\\anaconda3\\Lib\\site-packages\\sklearn\\base.py:1151: DataConversionWarning: A column-vector y was passed when a 1d array was expected. Please change the shape of y to (n_samples,), for example using ravel().\n",
            "  return fit_method(estimator, *args, **kwargs)\n",
            "C:\\Users\\Elizaveta\\anaconda3\\Lib\\site-packages\\sklearn\\base.py:1151: DataConversionWarning: A column-vector y was passed when a 1d array was expected. Please change the shape of y to (n_samples,), for example using ravel().\n",
            "  return fit_method(estimator, *args, **kwargs)\n",
            "C:\\Users\\Elizaveta\\anaconda3\\Lib\\site-packages\\sklearn\\base.py:1151: DataConversionWarning: A column-vector y was passed when a 1d array was expected. Please change the shape of y to (n_samples,), for example using ravel().\n",
            "  return fit_method(estimator, *args, **kwargs)\n",
            "C:\\Users\\Elizaveta\\anaconda3\\Lib\\site-packages\\sklearn\\base.py:1151: DataConversionWarning: A column-vector y was passed when a 1d array was expected. Please change the shape of y to (n_samples,), for example using ravel().\n",
            "  return fit_method(estimator, *args, **kwargs)\n",
            "C:\\Users\\Elizaveta\\anaconda3\\Lib\\site-packages\\sklearn\\base.py:1151: DataConversionWarning: A column-vector y was passed when a 1d array was expected. Please change the shape of y to (n_samples,), for example using ravel().\n",
            "  return fit_method(estimator, *args, **kwargs)\n",
            "C:\\Users\\Elizaveta\\anaconda3\\Lib\\site-packages\\sklearn\\base.py:1151: DataConversionWarning: A column-vector y was passed when a 1d array was expected. Please change the shape of y to (n_samples,), for example using ravel().\n",
            "  return fit_method(estimator, *args, **kwargs)\n",
            "C:\\Users\\Elizaveta\\anaconda3\\Lib\\site-packages\\sklearn\\base.py:1151: DataConversionWarning: A column-vector y was passed when a 1d array was expected. Please change the shape of y to (n_samples,), for example using ravel().\n",
            "  return fit_method(estimator, *args, **kwargs)\n",
            "C:\\Users\\Elizaveta\\anaconda3\\Lib\\site-packages\\sklearn\\base.py:1151: DataConversionWarning: A column-vector y was passed when a 1d array was expected. Please change the shape of y to (n_samples,), for example using ravel().\n",
            "  return fit_method(estimator, *args, **kwargs)\n",
            "C:\\Users\\Elizaveta\\anaconda3\\Lib\\site-packages\\sklearn\\base.py:1151: DataConversionWarning: A column-vector y was passed when a 1d array was expected. Please change the shape of y to (n_samples,), for example using ravel().\n",
            "  return fit_method(estimator, *args, **kwargs)\n",
            "C:\\Users\\Elizaveta\\anaconda3\\Lib\\site-packages\\sklearn\\base.py:1151: DataConversionWarning: A column-vector y was passed when a 1d array was expected. Please change the shape of y to (n_samples,), for example using ravel().\n",
            "  return fit_method(estimator, *args, **kwargs)\n",
            "C:\\Users\\Elizaveta\\anaconda3\\Lib\\site-packages\\sklearn\\base.py:1151: DataConversionWarning: A column-vector y was passed when a 1d array was expected. Please change the shape of y to (n_samples,), for example using ravel().\n",
            "  return fit_method(estimator, *args, **kwargs)\n",
            "C:\\Users\\Elizaveta\\anaconda3\\Lib\\site-packages\\sklearn\\base.py:1151: DataConversionWarning: A column-vector y was passed when a 1d array was expected. Please change the shape of y to (n_samples,), for example using ravel().\n",
            "  return fit_method(estimator, *args, **kwargs)\n",
            "C:\\Users\\Elizaveta\\anaconda3\\Lib\\site-packages\\sklearn\\base.py:1151: DataConversionWarning: A column-vector y was passed when a 1d array was expected. Please change the shape of y to (n_samples,), for example using ravel().\n",
            "  return fit_method(estimator, *args, **kwargs)\n",
            "C:\\Users\\Elizaveta\\anaconda3\\Lib\\site-packages\\sklearn\\base.py:1151: DataConversionWarning: A column-vector y was passed when a 1d array was expected. Please change the shape of y to (n_samples,), for example using ravel().\n",
            "  return fit_method(estimator, *args, **kwargs)\n",
            "C:\\Users\\Elizaveta\\anaconda3\\Lib\\site-packages\\sklearn\\base.py:1151: DataConversionWarning: A column-vector y was passed when a 1d array was expected. Please change the shape of y to (n_samples,), for example using ravel().\n",
            "  return fit_method(estimator, *args, **kwargs)\n",
            "C:\\Users\\Elizaveta\\anaconda3\\Lib\\site-packages\\sklearn\\base.py:1151: DataConversionWarning: A column-vector y was passed when a 1d array was expected. Please change the shape of y to (n_samples,), for example using ravel().\n",
            "  return fit_method(estimator, *args, **kwargs)\n",
            "C:\\Users\\Elizaveta\\anaconda3\\Lib\\site-packages\\sklearn\\base.py:1151: DataConversionWarning: A column-vector y was passed when a 1d array was expected. Please change the shape of y to (n_samples,), for example using ravel().\n",
            "  return fit_method(estimator, *args, **kwargs)\n",
            "C:\\Users\\Elizaveta\\anaconda3\\Lib\\site-packages\\sklearn\\base.py:1151: DataConversionWarning: A column-vector y was passed when a 1d array was expected. Please change the shape of y to (n_samples,), for example using ravel().\n",
            "  return fit_method(estimator, *args, **kwargs)\n",
            "C:\\Users\\Elizaveta\\anaconda3\\Lib\\site-packages\\sklearn\\base.py:1151: DataConversionWarning: A column-vector y was passed when a 1d array was expected. Please change the shape of y to (n_samples,), for example using ravel().\n",
            "  return fit_method(estimator, *args, **kwargs)\n",
            "C:\\Users\\Elizaveta\\anaconda3\\Lib\\site-packages\\sklearn\\base.py:1151: DataConversionWarning: A column-vector y was passed when a 1d array was expected. Please change the shape of y to (n_samples,), for example using ravel().\n",
            "  return fit_method(estimator, *args, **kwargs)\n",
            "C:\\Users\\Elizaveta\\anaconda3\\Lib\\site-packages\\sklearn\\base.py:1151: DataConversionWarning: A column-vector y was passed when a 1d array was expected. Please change the shape of y to (n_samples,), for example using ravel().\n",
            "  return fit_method(estimator, *args, **kwargs)\n",
            "C:\\Users\\Elizaveta\\anaconda3\\Lib\\site-packages\\sklearn\\base.py:1151: DataConversionWarning: A column-vector y was passed when a 1d array was expected. Please change the shape of y to (n_samples,), for example using ravel().\n",
            "  return fit_method(estimator, *args, **kwargs)\n",
            "C:\\Users\\Elizaveta\\anaconda3\\Lib\\site-packages\\sklearn\\base.py:1151: DataConversionWarning: A column-vector y was passed when a 1d array was expected. Please change the shape of y to (n_samples,), for example using ravel().\n",
            "  return fit_method(estimator, *args, **kwargs)\n",
            "C:\\Users\\Elizaveta\\anaconda3\\Lib\\site-packages\\sklearn\\base.py:1151: DataConversionWarning: A column-vector y was passed when a 1d array was expected. Please change the shape of y to (n_samples,), for example using ravel().\n",
            "  return fit_method(estimator, *args, **kwargs)\n",
            "C:\\Users\\Elizaveta\\anaconda3\\Lib\\site-packages\\sklearn\\base.py:1151: DataConversionWarning: A column-vector y was passed when a 1d array was expected. Please change the shape of y to (n_samples,), for example using ravel().\n",
            "  return fit_method(estimator, *args, **kwargs)\n",
            "C:\\Users\\Elizaveta\\anaconda3\\Lib\\site-packages\\sklearn\\base.py:1151: DataConversionWarning: A column-vector y was passed when a 1d array was expected. Please change the shape of y to (n_samples,), for example using ravel().\n",
            "  return fit_method(estimator, *args, **kwargs)\n",
            "C:\\Users\\Elizaveta\\anaconda3\\Lib\\site-packages\\sklearn\\base.py:1151: DataConversionWarning: A column-vector y was passed when a 1d array was expected. Please change the shape of y to (n_samples,), for example using ravel().\n",
            "  return fit_method(estimator, *args, **kwargs)\n",
            "C:\\Users\\Elizaveta\\anaconda3\\Lib\\site-packages\\sklearn\\base.py:1151: DataConversionWarning: A column-vector y was passed when a 1d array was expected. Please change the shape of y to (n_samples,), for example using ravel().\n",
            "  return fit_method(estimator, *args, **kwargs)\n",
            "C:\\Users\\Elizaveta\\anaconda3\\Lib\\site-packages\\sklearn\\base.py:1151: DataConversionWarning: A column-vector y was passed when a 1d array was expected. Please change the shape of y to (n_samples,), for example using ravel().\n",
            "  return fit_method(estimator, *args, **kwargs)\n"
          ]
        },
        {
          "name": "stderr",
          "output_type": "stream",
          "text": [
            "C:\\Users\\Elizaveta\\anaconda3\\Lib\\site-packages\\sklearn\\base.py:1151: DataConversionWarning: A column-vector y was passed when a 1d array was expected. Please change the shape of y to (n_samples,), for example using ravel().\n",
            "  return fit_method(estimator, *args, **kwargs)\n",
            "C:\\Users\\Elizaveta\\anaconda3\\Lib\\site-packages\\sklearn\\base.py:1151: DataConversionWarning: A column-vector y was passed when a 1d array was expected. Please change the shape of y to (n_samples,), for example using ravel().\n",
            "  return fit_method(estimator, *args, **kwargs)\n",
            "C:\\Users\\Elizaveta\\anaconda3\\Lib\\site-packages\\sklearn\\base.py:1151: DataConversionWarning: A column-vector y was passed when a 1d array was expected. Please change the shape of y to (n_samples,), for example using ravel().\n",
            "  return fit_method(estimator, *args, **kwargs)\n",
            "C:\\Users\\Elizaveta\\anaconda3\\Lib\\site-packages\\sklearn\\base.py:1151: DataConversionWarning: A column-vector y was passed when a 1d array was expected. Please change the shape of y to (n_samples,), for example using ravel().\n",
            "  return fit_method(estimator, *args, **kwargs)\n",
            "C:\\Users\\Elizaveta\\anaconda3\\Lib\\site-packages\\sklearn\\base.py:1151: DataConversionWarning: A column-vector y was passed when a 1d array was expected. Please change the shape of y to (n_samples,), for example using ravel().\n",
            "  return fit_method(estimator, *args, **kwargs)\n",
            "C:\\Users\\Elizaveta\\anaconda3\\Lib\\site-packages\\sklearn\\base.py:1151: DataConversionWarning: A column-vector y was passed when a 1d array was expected. Please change the shape of y to (n_samples,), for example using ravel().\n",
            "  return fit_method(estimator, *args, **kwargs)\n",
            "C:\\Users\\Elizaveta\\anaconda3\\Lib\\site-packages\\sklearn\\base.py:1151: DataConversionWarning: A column-vector y was passed when a 1d array was expected. Please change the shape of y to (n_samples,), for example using ravel().\n",
            "  return fit_method(estimator, *args, **kwargs)\n",
            "C:\\Users\\Elizaveta\\anaconda3\\Lib\\site-packages\\sklearn\\base.py:1151: DataConversionWarning: A column-vector y was passed when a 1d array was expected. Please change the shape of y to (n_samples,), for example using ravel().\n",
            "  return fit_method(estimator, *args, **kwargs)\n",
            "C:\\Users\\Elizaveta\\anaconda3\\Lib\\site-packages\\sklearn\\base.py:1151: DataConversionWarning: A column-vector y was passed when a 1d array was expected. Please change the shape of y to (n_samples,), for example using ravel().\n",
            "  return fit_method(estimator, *args, **kwargs)\n",
            "C:\\Users\\Elizaveta\\anaconda3\\Lib\\site-packages\\sklearn\\base.py:1151: DataConversionWarning: A column-vector y was passed when a 1d array was expected. Please change the shape of y to (n_samples,), for example using ravel().\n",
            "  return fit_method(estimator, *args, **kwargs)\n",
            "C:\\Users\\Elizaveta\\anaconda3\\Lib\\site-packages\\sklearn\\base.py:1151: DataConversionWarning: A column-vector y was passed when a 1d array was expected. Please change the shape of y to (n_samples,), for example using ravel().\n",
            "  return fit_method(estimator, *args, **kwargs)\n",
            "C:\\Users\\Elizaveta\\anaconda3\\Lib\\site-packages\\sklearn\\base.py:1151: DataConversionWarning: A column-vector y was passed when a 1d array was expected. Please change the shape of y to (n_samples,), for example using ravel().\n",
            "  return fit_method(estimator, *args, **kwargs)\n",
            "C:\\Users\\Elizaveta\\anaconda3\\Lib\\site-packages\\sklearn\\base.py:1151: DataConversionWarning: A column-vector y was passed when a 1d array was expected. Please change the shape of y to (n_samples,), for example using ravel().\n",
            "  return fit_method(estimator, *args, **kwargs)\n",
            "C:\\Users\\Elizaveta\\anaconda3\\Lib\\site-packages\\sklearn\\base.py:1151: DataConversionWarning: A column-vector y was passed when a 1d array was expected. Please change the shape of y to (n_samples,), for example using ravel().\n",
            "  return fit_method(estimator, *args, **kwargs)\n",
            "C:\\Users\\Elizaveta\\anaconda3\\Lib\\site-packages\\sklearn\\base.py:1151: DataConversionWarning: A column-vector y was passed when a 1d array was expected. Please change the shape of y to (n_samples,), for example using ravel().\n",
            "  return fit_method(estimator, *args, **kwargs)\n",
            "C:\\Users\\Elizaveta\\anaconda3\\Lib\\site-packages\\sklearn\\base.py:1151: DataConversionWarning: A column-vector y was passed when a 1d array was expected. Please change the shape of y to (n_samples,), for example using ravel().\n",
            "  return fit_method(estimator, *args, **kwargs)\n",
            "C:\\Users\\Elizaveta\\anaconda3\\Lib\\site-packages\\sklearn\\base.py:1151: DataConversionWarning: A column-vector y was passed when a 1d array was expected. Please change the shape of y to (n_samples,), for example using ravel().\n",
            "  return fit_method(estimator, *args, **kwargs)\n",
            "C:\\Users\\Elizaveta\\anaconda3\\Lib\\site-packages\\sklearn\\base.py:1151: DataConversionWarning: A column-vector y was passed when a 1d array was expected. Please change the shape of y to (n_samples,), for example using ravel().\n",
            "  return fit_method(estimator, *args, **kwargs)\n",
            "C:\\Users\\Elizaveta\\anaconda3\\Lib\\site-packages\\sklearn\\base.py:1151: DataConversionWarning: A column-vector y was passed when a 1d array was expected. Please change the shape of y to (n_samples,), for example using ravel().\n",
            "  return fit_method(estimator, *args, **kwargs)\n",
            "C:\\Users\\Elizaveta\\anaconda3\\Lib\\site-packages\\sklearn\\base.py:1151: DataConversionWarning: A column-vector y was passed when a 1d array was expected. Please change the shape of y to (n_samples,), for example using ravel().\n",
            "  return fit_method(estimator, *args, **kwargs)\n",
            "C:\\Users\\Elizaveta\\anaconda3\\Lib\\site-packages\\sklearn\\base.py:1151: DataConversionWarning: A column-vector y was passed when a 1d array was expected. Please change the shape of y to (n_samples,), for example using ravel().\n",
            "  return fit_method(estimator, *args, **kwargs)\n",
            "C:\\Users\\Elizaveta\\anaconda3\\Lib\\site-packages\\sklearn\\base.py:1151: DataConversionWarning: A column-vector y was passed when a 1d array was expected. Please change the shape of y to (n_samples,), for example using ravel().\n",
            "  return fit_method(estimator, *args, **kwargs)\n",
            "C:\\Users\\Elizaveta\\anaconda3\\Lib\\site-packages\\sklearn\\base.py:1151: DataConversionWarning: A column-vector y was passed when a 1d array was expected. Please change the shape of y to (n_samples,), for example using ravel().\n",
            "  return fit_method(estimator, *args, **kwargs)\n",
            "C:\\Users\\Elizaveta\\anaconda3\\Lib\\site-packages\\sklearn\\base.py:1151: DataConversionWarning: A column-vector y was passed when a 1d array was expected. Please change the shape of y to (n_samples,), for example using ravel().\n",
            "  return fit_method(estimator, *args, **kwargs)\n",
            "C:\\Users\\Elizaveta\\anaconda3\\Lib\\site-packages\\sklearn\\base.py:1151: DataConversionWarning: A column-vector y was passed when a 1d array was expected. Please change the shape of y to (n_samples,), for example using ravel().\n",
            "  return fit_method(estimator, *args, **kwargs)\n",
            "C:\\Users\\Elizaveta\\anaconda3\\Lib\\site-packages\\sklearn\\base.py:1151: DataConversionWarning: A column-vector y was passed when a 1d array was expected. Please change the shape of y to (n_samples,), for example using ravel().\n",
            "  return fit_method(estimator, *args, **kwargs)\n",
            "C:\\Users\\Elizaveta\\anaconda3\\Lib\\site-packages\\sklearn\\base.py:1151: DataConversionWarning: A column-vector y was passed when a 1d array was expected. Please change the shape of y to (n_samples,), for example using ravel().\n",
            "  return fit_method(estimator, *args, **kwargs)\n",
            "C:\\Users\\Elizaveta\\anaconda3\\Lib\\site-packages\\sklearn\\base.py:1151: DataConversionWarning: A column-vector y was passed when a 1d array was expected. Please change the shape of y to (n_samples,), for example using ravel().\n",
            "  return fit_method(estimator, *args, **kwargs)\n",
            "C:\\Users\\Elizaveta\\anaconda3\\Lib\\site-packages\\sklearn\\base.py:1151: DataConversionWarning: A column-vector y was passed when a 1d array was expected. Please change the shape of y to (n_samples,), for example using ravel().\n",
            "  return fit_method(estimator, *args, **kwargs)\n",
            "C:\\Users\\Elizaveta\\anaconda3\\Lib\\site-packages\\sklearn\\base.py:1151: DataConversionWarning: A column-vector y was passed when a 1d array was expected. Please change the shape of y to (n_samples,), for example using ravel().\n",
            "  return fit_method(estimator, *args, **kwargs)\n"
          ]
        },
        {
          "data": {
            "text/html": [
              "<style>#sk-container-id-4 {color: black;}#sk-container-id-4 pre{padding: 0;}#sk-container-id-4 div.sk-toggleable {background-color: white;}#sk-container-id-4 label.sk-toggleable__label {cursor: pointer;display: block;width: 100%;margin-bottom: 0;padding: 0.3em;box-sizing: border-box;text-align: center;}#sk-container-id-4 label.sk-toggleable__label-arrow:before {content: \"▸\";float: left;margin-right: 0.25em;color: #696969;}#sk-container-id-4 label.sk-toggleable__label-arrow:hover:before {color: black;}#sk-container-id-4 div.sk-estimator:hover label.sk-toggleable__label-arrow:before {color: black;}#sk-container-id-4 div.sk-toggleable__content {max-height: 0;max-width: 0;overflow: hidden;text-align: left;background-color: #f0f8ff;}#sk-container-id-4 div.sk-toggleable__content pre {margin: 0.2em;color: black;border-radius: 0.25em;background-color: #f0f8ff;}#sk-container-id-4 input.sk-toggleable__control:checked~div.sk-toggleable__content {max-height: 200px;max-width: 100%;overflow: auto;}#sk-container-id-4 input.sk-toggleable__control:checked~label.sk-toggleable__label-arrow:before {content: \"▾\";}#sk-container-id-4 div.sk-estimator input.sk-toggleable__control:checked~label.sk-toggleable__label {background-color: #d4ebff;}#sk-container-id-4 div.sk-label input.sk-toggleable__control:checked~label.sk-toggleable__label {background-color: #d4ebff;}#sk-container-id-4 input.sk-hidden--visually {border: 0;clip: rect(1px 1px 1px 1px);clip: rect(1px, 1px, 1px, 1px);height: 1px;margin: -1px;overflow: hidden;padding: 0;position: absolute;width: 1px;}#sk-container-id-4 div.sk-estimator {font-family: monospace;background-color: #f0f8ff;border: 1px dotted black;border-radius: 0.25em;box-sizing: border-box;margin-bottom: 0.5em;}#sk-container-id-4 div.sk-estimator:hover {background-color: #d4ebff;}#sk-container-id-4 div.sk-parallel-item::after {content: \"\";width: 100%;border-bottom: 1px solid gray;flex-grow: 1;}#sk-container-id-4 div.sk-label:hover label.sk-toggleable__label {background-color: #d4ebff;}#sk-container-id-4 div.sk-serial::before {content: \"\";position: absolute;border-left: 1px solid gray;box-sizing: border-box;top: 0;bottom: 0;left: 50%;z-index: 0;}#sk-container-id-4 div.sk-serial {display: flex;flex-direction: column;align-items: center;background-color: white;padding-right: 0.2em;padding-left: 0.2em;position: relative;}#sk-container-id-4 div.sk-item {position: relative;z-index: 1;}#sk-container-id-4 div.sk-parallel {display: flex;align-items: stretch;justify-content: center;background-color: white;position: relative;}#sk-container-id-4 div.sk-item::before, #sk-container-id-4 div.sk-parallel-item::before {content: \"\";position: absolute;border-left: 1px solid gray;box-sizing: border-box;top: 0;bottom: 0;left: 50%;z-index: -1;}#sk-container-id-4 div.sk-parallel-item {display: flex;flex-direction: column;z-index: 1;position: relative;background-color: white;}#sk-container-id-4 div.sk-parallel-item:first-child::after {align-self: flex-end;width: 50%;}#sk-container-id-4 div.sk-parallel-item:last-child::after {align-self: flex-start;width: 50%;}#sk-container-id-4 div.sk-parallel-item:only-child::after {width: 0;}#sk-container-id-4 div.sk-dashed-wrapped {border: 1px dashed gray;margin: 0 0.4em 0.5em 0.4em;box-sizing: border-box;padding-bottom: 0.4em;background-color: white;}#sk-container-id-4 div.sk-label label {font-family: monospace;font-weight: bold;display: inline-block;line-height: 1.2em;}#sk-container-id-4 div.sk-label-container {text-align: center;}#sk-container-id-4 div.sk-container {/* jupyter's `normalize.less` sets `[hidden] { display: none; }` but bootstrap.min.css set `[hidden] { display: none !important; }` so we also need the `!important` here to be able to override the default hidden behavior on the sphinx rendered scikit-learn.org. See: https://github.com/scikit-learn/scikit-learn/issues/21755 */display: inline-block !important;position: relative;}#sk-container-id-4 div.sk-text-repr-fallback {display: none;}</style><div id=\"sk-container-id-4\" class=\"sk-top-container\"><div class=\"sk-text-repr-fallback\"><pre>GridSearchCV(cv=5, estimator=RandomForestRegressor(),\n",
              "             param_grid={&#x27;max_depth&#x27;: [2, 5, 7, 10],\n",
              "                         &#x27;n_estimators&#x27;: [10, 20, 30]})</pre><b>In a Jupyter environment, please rerun this cell to show the HTML representation or trust the notebook. <br />On GitHub, the HTML representation is unable to render, please try loading this page with nbviewer.org.</b></div><div class=\"sk-container\" hidden><div class=\"sk-item sk-dashed-wrapped\"><div class=\"sk-label-container\"><div class=\"sk-label sk-toggleable\"><input class=\"sk-toggleable__control sk-hidden--visually\" id=\"sk-estimator-id-4\" type=\"checkbox\" ><label for=\"sk-estimator-id-4\" class=\"sk-toggleable__label sk-toggleable__label-arrow\">GridSearchCV</label><div class=\"sk-toggleable__content\"><pre>GridSearchCV(cv=5, estimator=RandomForestRegressor(),\n",
              "             param_grid={&#x27;max_depth&#x27;: [2, 5, 7, 10],\n",
              "                         &#x27;n_estimators&#x27;: [10, 20, 30]})</pre></div></div></div><div class=\"sk-parallel\"><div class=\"sk-parallel-item\"><div class=\"sk-item\"><div class=\"sk-label-container\"><div class=\"sk-label sk-toggleable\"><input class=\"sk-toggleable__control sk-hidden--visually\" id=\"sk-estimator-id-5\" type=\"checkbox\" ><label for=\"sk-estimator-id-5\" class=\"sk-toggleable__label sk-toggleable__label-arrow\">estimator: RandomForestRegressor</label><div class=\"sk-toggleable__content\"><pre>RandomForestRegressor()</pre></div></div></div><div class=\"sk-serial\"><div class=\"sk-item\"><div class=\"sk-estimator sk-toggleable\"><input class=\"sk-toggleable__control sk-hidden--visually\" id=\"sk-estimator-id-6\" type=\"checkbox\" ><label for=\"sk-estimator-id-6\" class=\"sk-toggleable__label sk-toggleable__label-arrow\">RandomForestRegressor</label><div class=\"sk-toggleable__content\"><pre>RandomForestRegressor()</pre></div></div></div></div></div></div></div></div></div></div>"
            ],
            "text/plain": [
              "GridSearchCV(cv=5, estimator=RandomForestRegressor(),\n",
              "             param_grid={'max_depth': [2, 5, 7, 10],\n",
              "                         'n_estimators': [10, 20, 30]})"
            ]
          },
          "execution_count": 170,
          "metadata": {},
          "output_type": "execute_result"
        }
      ],
      "source": [
        "grid_search_cv_clf.fit(X_train_st, train_y)"
      ]
    },
    {
      "cell_type": "code",
      "execution_count": null,
      "id": "ed9873bd",
      "metadata": {
        "id": "ed9873bd"
      },
      "outputs": [],
      "source": [
        "best_clf = grid_search_cv_clf.best_estimator_"
      ]
    },
    {
      "cell_type": "code",
      "execution_count": null,
      "id": "0d9a9e7e",
      "metadata": {
        "id": "0d9a9e7e",
        "outputId": "25f36453-38d5-4d8b-ec20-06e4909e2ac2"
      },
      "outputs": [
        {
          "data": {
            "text/plain": [
              "0.6715294427899285"
            ]
          },
          "execution_count": 173,
          "metadata": {},
          "output_type": "execute_result"
        }
      ],
      "source": [
        "predictions = best_clf.predict(X_test_st)\n",
        "best_clf.score(X_test_st, test_y)"
      ]
    },
    {
      "cell_type": "code",
      "execution_count": null,
      "id": "abfe74da",
      "metadata": {
        "id": "abfe74da",
        "outputId": "3434c616-b40c-46a4-9e64-fcb4a5f29247"
      },
      "outputs": [
        {
          "name": "stdout",
          "output_type": "stream",
          "text": [
            "Mean Squared Error: 19032.41975654721\n",
            "R-squared: 0.6715294427899285\n"
          ]
        }
      ],
      "source": [
        "mse = mean_squared_error(test_y, predictions)\n",
        "print(f'Mean Squared Error: {mse}')\n",
        "\n",
        "r2 = r2_score(test_y, predictions)\n",
        "print(f'R-squared: {r2}')"
      ]
    }
  ],
  "metadata": {
    "colab": {
      "provenance": []
    },
    "kernelspec": {
      "display_name": "Python 3 (ipykernel)",
      "language": "python",
      "name": "python3"
    },
    "language_info": {
      "codemirror_mode": {
        "name": "ipython",
        "version": 3
      },
      "file_extension": ".py",
      "mimetype": "text/x-python",
      "name": "python",
      "nbconvert_exporter": "python",
      "pygments_lexer": "ipython3",
      "version": "3.11.4"
    }
  },
  "nbformat": 4,
  "nbformat_minor": 5
}