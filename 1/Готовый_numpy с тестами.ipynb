{
  "cells": [
    {
      "cell_type": "code",
      "execution_count": null,
      "id": "a17074b8-6789-4ccb-9192-5703678c1d70",
      "metadata": {
        "id": "a17074b8-6789-4ccb-9192-5703678c1d70"
      },
      "outputs": [],
      "source": [
        "import numpy as np\n",
        "import pandas as pd\n",
        "import matplotlib.pyplot as plt\n",
        "import seaborn as sns\n",
        "\n",
        "%matplotlib inline"
      ]
    },
    {
      "cell_type": "markdown",
      "id": "610cb381-de63-44c4-8c81-2ad7030bc97c",
      "metadata": {
        "id": "610cb381-de63-44c4-8c81-2ad7030bc97c",
        "tags": []
      },
      "source": [
        "# Вспоминаем numpy"
      ]
    },
    {
      "cell_type": "markdown",
      "id": "4770c8ae-bdf8-4cbc-9496-a6ab0b7e1e71",
      "metadata": {
        "id": "4770c8ae-bdf8-4cbc-9496-a6ab0b7e1e71"
      },
      "source": [
        "В большинстве приложений для анализа данных основной интерес представляет следующая функциональность:\n",
        "+ быстрые векторные операции для переформатирования и очистки данных, выборки подмножеств и фильтрации, преобразований и других видов вычислений;\n",
        "+ стандартные алгоритмы работы с  массивами, например фильтрация, удаление дубликатов и теоретико-множественные операции;\n",
        "+ эффективная описательная статистика, агрегирование и  обобщение данных;\n",
        "+ выравнивание данных и реляционные операции объединения и соединения разнородных наборов данных;\n",
        "+ описание условной логики в виде выражений-массивов вместо циклов с ветвлением if-elif-else;\n",
        "+ групповые операции с данными (агрегирование, преобразование, применение функции)."
      ]
    },
    {
      "cell_type": "markdown",
      "id": "ef24ec91-f029-460f-bf5a-d2ee2724400d",
      "metadata": {
        "id": "ef24ec91-f029-460f-bf5a-d2ee2724400d"
      },
      "source": [
        "**Сравнение быстродействия**"
      ]
    },
    {
      "cell_type": "code",
      "execution_count": null,
      "id": "55315d98-df32-46a1-9677-f4d1a933b7e4",
      "metadata": {
        "id": "55315d98-df32-46a1-9677-f4d1a933b7e4"
      },
      "outputs": [],
      "source": [
        "array_ = np.arange(1000000)\n",
        "list_ = list(array_)"
      ]
    },
    {
      "cell_type": "code",
      "execution_count": null,
      "id": "84e114a7-e476-4af2-9558-da97580a2f5e",
      "metadata": {
        "colab": {
          "base_uri": "https://localhost:8080/"
        },
        "id": "84e114a7-e476-4af2-9558-da97580a2f5e",
        "outputId": "1a4af5cf-afe6-4382-b1e4-fedb3e9fb68c"
      },
      "outputs": [
        {
          "name": "stdout",
          "output_type": "stream",
          "text": [
            "CPU times: user 2.31 ms, sys: 2.16 ms, total: 4.47 ms\n",
            "Wall time: 6.98 ms\n"
          ]
        }
      ],
      "source": [
        "%%time\n",
        "array_2 = array_ * 2"
      ]
    },
    {
      "cell_type": "code",
      "execution_count": null,
      "id": "5d472bb1-3c94-44c3-bf9d-42c9694df817",
      "metadata": {
        "colab": {
          "base_uri": "https://localhost:8080/"
        },
        "id": "5d472bb1-3c94-44c3-bf9d-42c9694df817",
        "outputId": "053c9c06-1860-43e2-97e2-c2990f8e0e4e"
      },
      "outputs": [
        {
          "name": "stdout",
          "output_type": "stream",
          "text": [
            "CPU times: user 152 ms, sys: 21.4 ms, total: 174 ms\n",
            "Wall time: 174 ms\n"
          ]
        }
      ],
      "source": [
        "%%time\n",
        "list_2 = []\n",
        "for i in list_:\n",
        "    list_2.append(i * 2)"
      ]
    },
    {
      "cell_type": "code",
      "execution_count": null,
      "id": "ddbd9e8c-cba9-48ec-ab7f-c537f74686a8",
      "metadata": {
        "colab": {
          "base_uri": "https://localhost:8080/"
        },
        "id": "ddbd9e8c-cba9-48ec-ab7f-c537f74686a8",
        "outputId": "de66e9f5-08b4-4d0f-8bb2-86ae3141e951"
      },
      "outputs": [
        {
          "name": "stdout",
          "output_type": "stream",
          "text": [
            "CPU times: user 77.2 ms, sys: 23.4 ms, total: 101 ms\n",
            "Wall time: 102 ms\n"
          ]
        }
      ],
      "source": [
        "%%time\n",
        "list_2 = [i * 2 for i in list_]"
      ]
    },
    {
      "cell_type": "markdown",
      "id": "fe467d6d-d5b9-4e28-b1ba-da1e2f67b7a2",
      "metadata": {
        "id": "fe467d6d-d5b9-4e28-b1ba-da1e2f67b7a2"
      },
      "source": [
        "**Многомерные массивы**"
      ]
    },
    {
      "cell_type": "code",
      "execution_count": null,
      "id": "3a8d55bd-8558-4cef-9406-b3443e3acf2d",
      "metadata": {
        "id": "3a8d55bd-8558-4cef-9406-b3443e3acf2d"
      },
      "outputs": [],
      "source": [
        "data = np.array([[1.5, -0.1, 3], [0, -3, 6.5]])"
      ]
    },
    {
      "cell_type": "code",
      "execution_count": null,
      "id": "2606a171-27a6-4477-a753-9df02a7b2de0",
      "metadata": {
        "colab": {
          "base_uri": "https://localhost:8080/"
        },
        "id": "2606a171-27a6-4477-a753-9df02a7b2de0",
        "outputId": "b4bc7299-6d07-4927-8a50-a17dababcc9a"
      },
      "outputs": [
        {
          "data": {
            "text/plain": [
              "array([[ 1.5, -0.1,  3. ],\n",
              "       [ 0. , -3. ,  6.5]])"
            ]
          },
          "execution_count": 7,
          "metadata": {},
          "output_type": "execute_result"
        }
      ],
      "source": [
        "data"
      ]
    },
    {
      "cell_type": "code",
      "execution_count": null,
      "id": "97dd1cc0-513d-415a-b87a-f316233ead67",
      "metadata": {
        "colab": {
          "base_uri": "https://localhost:8080/"
        },
        "id": "97dd1cc0-513d-415a-b87a-f316233ead67",
        "outputId": "d3f55a49-4322-4baf-fce5-361cf7a15c49"
      },
      "outputs": [
        {
          "data": {
            "text/plain": [
              "numpy.ndarray"
            ]
          },
          "execution_count": 8,
          "metadata": {},
          "output_type": "execute_result"
        }
      ],
      "source": [
        "type(data)"
      ]
    },
    {
      "cell_type": "code",
      "execution_count": null,
      "id": "839140c7-1e57-49ef-9397-5ea3aeec6136",
      "metadata": {
        "colab": {
          "base_uri": "https://localhost:8080/"
        },
        "id": "839140c7-1e57-49ef-9397-5ea3aeec6136",
        "outputId": "c85742c2-7ede-4102-8938-807619ebb9b2"
      },
      "outputs": [
        {
          "data": {
            "text/plain": [
              "array([[ 3. , -0.2,  6. ],\n",
              "       [ 0. , -6. , 13. ]])"
            ]
          },
          "execution_count": 9,
          "metadata": {},
          "output_type": "execute_result"
        }
      ],
      "source": [
        "data * 2"
      ]
    },
    {
      "cell_type": "code",
      "execution_count": null,
      "id": "eb6a3085-a763-4b67-98f5-3dec29383176",
      "metadata": {
        "colab": {
          "base_uri": "https://localhost:8080/"
        },
        "id": "eb6a3085-a763-4b67-98f5-3dec29383176",
        "outputId": "91adee33-8dfb-4978-f3c6-781873b61352"
      },
      "outputs": [
        {
          "data": {
            "text/plain": [
              "array([[ 3. , -0.2,  6. ],\n",
              "       [ 0. , -6. , 13. ]])"
            ]
          },
          "execution_count": 10,
          "metadata": {},
          "output_type": "execute_result"
        }
      ],
      "source": [
        "data + data"
      ]
    },
    {
      "cell_type": "markdown",
      "id": "83cf1193-f34f-4779-816a-afb1cc2d29f0",
      "metadata": {
        "id": "83cf1193-f34f-4779-816a-afb1cc2d29f0"
      },
      "source": [
        "ndarray – это обобщенный многомерный контейнер для однородных данных, т. е. в нем могут храниться только элементы одного типа. У любого массива есть атрибут shape – кортеж, описывающий размер по каждому измерению,\n",
        "и атрибут dtype – объект, описывающий тип данных в массиве:"
      ]
    },
    {
      "cell_type": "code",
      "execution_count": null,
      "id": "43ddfd14-73dd-442e-b78e-0f53ffcf6986",
      "metadata": {
        "colab": {
          "base_uri": "https://localhost:8080/"
        },
        "id": "43ddfd14-73dd-442e-b78e-0f53ffcf6986",
        "outputId": "1415f3c2-1a0c-4220-feef-4d693152f717"
      },
      "outputs": [
        {
          "data": {
            "text/plain": [
              "(2, 3)"
            ]
          },
          "execution_count": 11,
          "metadata": {},
          "output_type": "execute_result"
        }
      ],
      "source": [
        "data.shape"
      ]
    },
    {
      "cell_type": "code",
      "execution_count": null,
      "id": "4d77de85-bcd3-434a-b5be-0325c7408e82",
      "metadata": {
        "colab": {
          "base_uri": "https://localhost:8080/"
        },
        "id": "4d77de85-bcd3-434a-b5be-0325c7408e82",
        "outputId": "6c20191a-68f0-48bb-cc3a-98190da68706"
      },
      "outputs": [
        {
          "data": {
            "text/plain": [
              "dtype('float64')"
            ]
          },
          "execution_count": 12,
          "metadata": {},
          "output_type": "execute_result"
        }
      ],
      "source": [
        "data.dtype"
      ]
    },
    {
      "cell_type": "code",
      "execution_count": null,
      "id": "e3e882f6-1842-4715-ada6-e6bae94947a0",
      "metadata": {
        "colab": {
          "base_uri": "https://localhost:8080/"
        },
        "id": "e3e882f6-1842-4715-ada6-e6bae94947a0",
        "outputId": "ff224c4e-5780-4266-ff7f-f4b4a166c380"
      },
      "outputs": [
        {
          "data": {
            "text/plain": [
              "array(['str', '1'], dtype='<U21')"
            ]
          },
          "execution_count": 13,
          "metadata": {},
          "output_type": "execute_result"
        }
      ],
      "source": [
        "np.array([\"str\", 1])"
      ]
    },
    {
      "cell_type": "code",
      "execution_count": null,
      "id": "a2595c4e-bab5-439c-9b68-15b8eedeb270",
      "metadata": {
        "colab": {
          "base_uri": "https://localhost:8080/",
          "height": 175
        },
        "id": "a2595c4e-bab5-439c-9b68-15b8eedeb270",
        "outputId": "7f38eb25-3d30-4f69-f960-80662e5865c8"
      },
      "outputs": [
        {
          "ename": "UFuncTypeError",
          "evalue": "ufunc 'multiply' did not contain a loop with signature matching types (dtype('<U21'), dtype('int64')) -> None",
          "output_type": "error",
          "traceback": [
            "\u001b[0;31m---------------------------------------------------------------------------\u001b[0m",
            "\u001b[0;31mUFuncTypeError\u001b[0m                            Traceback (most recent call last)",
            "\u001b[0;32m<ipython-input-14-a183c08d1117>\u001b[0m in \u001b[0;36m<cell line: 1>\u001b[0;34m()\u001b[0m\n\u001b[0;32m----> 1\u001b[0;31m \u001b[0mnp\u001b[0m\u001b[0;34m.\u001b[0m\u001b[0marray\u001b[0m\u001b[0;34m(\u001b[0m\u001b[0;34m[\u001b[0m\u001b[0;34m\"str\"\u001b[0m\u001b[0;34m,\u001b[0m \u001b[0;36m1\u001b[0m\u001b[0;34m]\u001b[0m\u001b[0;34m)\u001b[0m \u001b[0;34m*\u001b[0m \u001b[0;36m2\u001b[0m\u001b[0;34m\u001b[0m\u001b[0;34m\u001b[0m\u001b[0m\n\u001b[0m",
            "\u001b[0;31mUFuncTypeError\u001b[0m: ufunc 'multiply' did not contain a loop with signature matching types (dtype('<U21'), dtype('int64')) -> None"
          ]
        }
      ],
      "source": [
        "np.array([\"str\", 1]) * 2"
      ]
    },
    {
      "cell_type": "markdown",
      "id": "85e694b3-0148-46d4-a43d-c4a8b3096911",
      "metadata": {
        "id": "85e694b3-0148-46d4-a43d-c4a8b3096911"
      },
      "source": [
        "**Создание массивов**"
      ]
    },
    {
      "cell_type": "code",
      "execution_count": null,
      "id": "841f618e-a5d8-4743-9cfd-50e1fcddab69",
      "metadata": {
        "colab": {
          "base_uri": "https://localhost:8080/"
        },
        "id": "841f618e-a5d8-4743-9cfd-50e1fcddab69",
        "outputId": "9715abc3-2067-40d2-8195-986553f99206"
      },
      "outputs": [
        {
          "data": {
            "text/plain": [
              "array([1., 1., 1., 1., 1., 1., 1., 1., 1., 1.])"
            ]
          },
          "execution_count": 15,
          "metadata": {},
          "output_type": "execute_result"
        }
      ],
      "source": [
        "np.ones(10)"
      ]
    },
    {
      "cell_type": "code",
      "execution_count": null,
      "id": "39e34974-7ed1-436e-9c3b-8b93536b6788",
      "metadata": {
        "colab": {
          "base_uri": "https://localhost:8080/"
        },
        "id": "39e34974-7ed1-436e-9c3b-8b93536b6788",
        "outputId": "d9a1826f-c90d-4d7e-f1c4-d360993f1cf0"
      },
      "outputs": [
        {
          "data": {
            "text/plain": [
              "array([0., 0., 0., 0., 0., 0., 0., 0., 0., 0.])"
            ]
          },
          "execution_count": 16,
          "metadata": {},
          "output_type": "execute_result"
        }
      ],
      "source": [
        "np.zeros(10)"
      ]
    },
    {
      "cell_type": "code",
      "execution_count": null,
      "id": "6c84207d-1079-4f7c-b254-1848c9153271",
      "metadata": {
        "colab": {
          "base_uri": "https://localhost:8080/"
        },
        "id": "6c84207d-1079-4f7c-b254-1848c9153271",
        "outputId": "1ee10116-ce96-4bd8-af75-70a2188de865"
      },
      "outputs": [
        {
          "data": {
            "text/plain": [
              "array([0, 1, 2, 3, 4, 5, 6, 7, 8, 9])"
            ]
          },
          "execution_count": 17,
          "metadata": {},
          "output_type": "execute_result"
        }
      ],
      "source": [
        "np.arange(10)"
      ]
    },
    {
      "cell_type": "markdown",
      "id": "5a1f6e04-3004-4414-a9d7-070f10e75994",
      "metadata": {
        "id": "5a1f6e04-3004-4414-a9d7-070f10e75994"
      },
      "source": [
        "**Задани 1**\n",
        "+ Создать единичную матрицу 4x4;\n",
        "+ Создать матрицу 4x4, заполненную 5."
      ]
    },
    {
      "cell_type": "code",
      "execution_count": null,
      "id": "WB_Geny0cJJP",
      "metadata": {
        "colab": {
          "base_uri": "https://localhost:8080/"
        },
        "id": "WB_Geny0cJJP",
        "outputId": "85b4c6b1-00a4-4d82-83ec-e3eb756670ed"
      },
      "outputs": [
        {
          "data": {
            "text/plain": [
              "array([[1., 0., 0., 0.],\n",
              "       [0., 1., 0., 0.],\n",
              "       [0., 0., 1., 0.],\n",
              "       [0., 0., 0., 1.]])"
            ]
          },
          "execution_count": 18,
          "metadata": {},
          "output_type": "execute_result"
        }
      ],
      "source": [
        "data = np.eye(4)\n",
        "data"
      ]
    },
    {
      "cell_type": "code",
      "execution_count": null,
      "id": "yNpkYB0GcUiz",
      "metadata": {
        "colab": {
          "base_uri": "https://localhost:8080/"
        },
        "id": "yNpkYB0GcUiz",
        "outputId": "c65fe17a-3237-49e5-a3e7-d319eb57caf7"
      },
      "outputs": [
        {
          "data": {
            "text/plain": [
              "array([[5, 5, 5, 5],\n",
              "       [5, 5, 5, 5],\n",
              "       [5, 5, 5, 5],\n",
              "       [5, 5, 5, 5]])"
            ]
          },
          "execution_count": 23,
          "metadata": {},
          "output_type": "execute_result"
        }
      ],
      "source": [
        "np.full((4,4), 5)"
      ]
    },
    {
      "cell_type": "markdown",
      "id": "782c09b0-ec98-4ac5-accf-ffe8f189e8d6",
      "metadata": {
        "id": "782c09b0-ec98-4ac5-accf-ffe8f189e8d6"
      },
      "source": [
        "**Возведение элементов матрицы в квадрат и возведение матрицы в квадрат**"
      ]
    },
    {
      "cell_type": "code",
      "execution_count": null,
      "id": "417746d1-2ee8-4986-aea6-8b85b072492e",
      "metadata": {
        "colab": {
          "base_uri": "https://localhost:8080/"
        },
        "id": "417746d1-2ee8-4986-aea6-8b85b072492e",
        "outputId": "e51a1b3b-8003-40b9-e095-15940771b67a"
      },
      "outputs": [
        {
          "data": {
            "text/plain": [
              "array([[1, 2, 3],\n",
              "       [4, 5, 6],\n",
              "       [1, 2, 3]])"
            ]
          },
          "execution_count": 29,
          "metadata": {},
          "output_type": "execute_result"
        }
      ],
      "source": [
        "m = np.array([[1, 2, 3], [4, 5, 6], [1, 2, 3]])\n",
        "m"
      ]
    },
    {
      "cell_type": "code",
      "execution_count": null,
      "id": "a3c575e5-c2cb-416c-8f43-02f480c82269",
      "metadata": {
        "colab": {
          "base_uri": "https://localhost:8080/"
        },
        "id": "a3c575e5-c2cb-416c-8f43-02f480c82269",
        "outputId": "def54ce3-5d03-4ad6-b4a5-7ee7a2e9c33f"
      },
      "outputs": [
        {
          "data": {
            "text/plain": [
              "array([[ 1,  4,  9],\n",
              "       [16, 25, 36],\n",
              "       [ 1,  4,  9]])"
            ]
          },
          "execution_count": 28,
          "metadata": {},
          "output_type": "execute_result"
        }
      ],
      "source": [
        "m ** 2"
      ]
    },
    {
      "cell_type": "markdown",
      "id": "3szbYk1Wdlz4",
      "metadata": {
        "id": "3szbYk1Wdlz4"
      },
      "source": [
        "Умножение (возведение в квадрат)"
      ]
    },
    {
      "cell_type": "code",
      "execution_count": null,
      "id": "1ab08bf0-84e7-4050-84f2-a61b74a5a14d",
      "metadata": {
        "colab": {
          "base_uri": "https://localhost:8080/"
        },
        "id": "1ab08bf0-84e7-4050-84f2-a61b74a5a14d",
        "outputId": "f7cbfebc-b6ed-4c2b-d354-c4ab5fc15263"
      },
      "outputs": [
        {
          "data": {
            "text/plain": [
              "array([[12, 18, 24],\n",
              "       [30, 45, 60],\n",
              "       [12, 18, 24]])"
            ]
          },
          "execution_count": 33,
          "metadata": {},
          "output_type": "execute_result"
        }
      ],
      "source": [
        "np.dot(m, m)"
      ]
    },
    {
      "cell_type": "code",
      "execution_count": null,
      "id": "e64f1fda-0335-4944-91ef-626fffca3222",
      "metadata": {
        "colab": {
          "base_uri": "https://localhost:8080/"
        },
        "id": "e64f1fda-0335-4944-91ef-626fffca3222",
        "outputId": "8e93635d-8794-497c-d042-1b1ea7eca680"
      },
      "outputs": [
        {
          "data": {
            "text/plain": [
              "array([[12, 18, 24],\n",
              "       [30, 45, 60],\n",
              "       [12, 18, 24]])"
            ]
          },
          "execution_count": 32,
          "metadata": {},
          "output_type": "execute_result"
        }
      ],
      "source": [
        "m @ m"
      ]
    },
    {
      "cell_type": "markdown",
      "id": "72f6fea7-3859-49b3-98f8-a13eb4fc978d",
      "metadata": {
        "id": "72f6fea7-3859-49b3-98f8-a13eb4fc978d"
      },
      "source": [
        "## Индексирование"
      ]
    },
    {
      "cell_type": "code",
      "execution_count": null,
      "id": "fb7082e0-f14e-4b29-a6d9-833ff0482bae",
      "metadata": {
        "colab": {
          "base_uri": "https://localhost:8080/"
        },
        "id": "fb7082e0-f14e-4b29-a6d9-833ff0482bae",
        "outputId": "828566f7-eb52-4463-ea6c-9e7c622de356"
      },
      "outputs": [
        {
          "data": {
            "text/plain": [
              "array([1, 2, 3])"
            ]
          },
          "execution_count": 37,
          "metadata": {},
          "output_type": "execute_result"
        }
      ],
      "source": [
        "m[0] #первая строка"
      ]
    },
    {
      "cell_type": "code",
      "execution_count": null,
      "id": "6898eaf8-ee76-47dd-b837-4acf2564a848",
      "metadata": {
        "colab": {
          "base_uri": "https://localhost:8080/"
        },
        "id": "6898eaf8-ee76-47dd-b837-4acf2564a848",
        "outputId": "50afe5be-99d5-484e-e14a-1f689b258d75"
      },
      "outputs": [
        {
          "data": {
            "text/plain": [
              "1"
            ]
          },
          "execution_count": 38,
          "metadata": {},
          "output_type": "execute_result"
        }
      ],
      "source": [
        "m[0, 0] #элемент"
      ]
    },
    {
      "cell_type": "code",
      "execution_count": null,
      "id": "1f261aa8-773c-496c-8c04-ef20c9794df2",
      "metadata": {
        "colab": {
          "base_uri": "https://localhost:8080/"
        },
        "id": "1f261aa8-773c-496c-8c04-ef20c9794df2",
        "outputId": "980f96a4-750f-49dd-c01d-5ab05f492c81"
      },
      "outputs": [
        {
          "data": {
            "text/plain": [
              "array([2, 3])"
            ]
          },
          "execution_count": 39,
          "metadata": {},
          "output_type": "execute_result"
        }
      ],
      "source": [
        "m[0][1:]"
      ]
    },
    {
      "cell_type": "markdown",
      "id": "7b80c57a-e367-47d5-b300-03e8c1284152",
      "metadata": {
        "id": "7b80c57a-e367-47d5-b300-03e8c1284152"
      },
      "source": [
        "**Булево индексирование**"
      ]
    },
    {
      "cell_type": "code",
      "execution_count": null,
      "id": "WaiI7IoKeJj9",
      "metadata": {
        "colab": {
          "base_uri": "https://localhost:8080/"
        },
        "id": "WaiI7IoKeJj9",
        "outputId": "80563787-7e49-46d3-9153-833d1c048d39"
      },
      "outputs": [
        {
          "data": {
            "text/plain": [
              "array([[1, 2, 3],\n",
              "       [4, 5, 6],\n",
              "       [1, 2, 3]])"
            ]
          },
          "execution_count": 44,
          "metadata": {},
          "output_type": "execute_result"
        }
      ],
      "source": [
        "m"
      ]
    },
    {
      "cell_type": "code",
      "execution_count": null,
      "id": "6593f80a-cdb0-407c-a9cf-07c781536319",
      "metadata": {
        "colab": {
          "base_uri": "https://localhost:8080/"
        },
        "id": "6593f80a-cdb0-407c-a9cf-07c781536319",
        "outputId": "fa573808-545d-4f41-89eb-a93764e6d2ac"
      },
      "outputs": [
        {
          "data": {
            "text/plain": [
              "array([[ True, False,  True],\n",
              "       [False,  True, False],\n",
              "       [ True, False,  True]])"
            ]
          },
          "execution_count": 46,
          "metadata": {},
          "output_type": "execute_result"
        }
      ],
      "source": [
        "m%2 == 1"
      ]
    },
    {
      "cell_type": "code",
      "execution_count": null,
      "id": "fb799fa5-a2f3-4236-bc61-ef179ca1d326",
      "metadata": {
        "colab": {
          "base_uri": "https://localhost:8080/"
        },
        "id": "fb799fa5-a2f3-4236-bc61-ef179ca1d326",
        "outputId": "64cfc352-b1f1-4c60-c827-6b9617e8b0f8"
      },
      "outputs": [
        {
          "data": {
            "text/plain": [
              "array([1, 3, 5, 1, 3])"
            ]
          },
          "execution_count": 50,
          "metadata": {},
          "output_type": "execute_result"
        }
      ],
      "source": [
        "m[m%2 == 1]"
      ]
    },
    {
      "cell_type": "code",
      "execution_count": null,
      "id": "9670aca8-a231-4285-b115-cbd2002c189c",
      "metadata": {
        "colab": {
          "base_uri": "https://localhost:8080/"
        },
        "id": "9670aca8-a231-4285-b115-cbd2002c189c",
        "outputId": "7cb265cf-9f55-4102-cb1b-35bfb75fda49"
      },
      "outputs": [
        {
          "data": {
            "text/plain": [
              "array([2, 4, 6, 2])"
            ]
          },
          "execution_count": 48,
          "metadata": {},
          "output_type": "execute_result"
        }
      ],
      "source": [
        "m[~m%2 == 1]"
      ]
    },
    {
      "cell_type": "code",
      "execution_count": null,
      "id": "9689accd-fd05-4c73-b306-61eb9417c8a1",
      "metadata": {
        "colab": {
          "base_uri": "https://localhost:8080/"
        },
        "id": "9689accd-fd05-4c73-b306-61eb9417c8a1",
        "outputId": "d0d21777-4b07-419b-e1eb-a592187c0bab"
      },
      "outputs": [
        {
          "data": {
            "text/plain": [
              "array([[  1, 100,   3],\n",
              "       [100,   5, 100],\n",
              "       [  1, 100,   3]])"
            ]
          },
          "execution_count": 53,
          "metadata": {},
          "output_type": "execute_result"
        }
      ],
      "source": [
        "m[~m%2 == 1] = 100\n",
        "m"
      ]
    },
    {
      "cell_type": "code",
      "execution_count": null,
      "id": "7fe2209f-ea99-4df8-913e-17a0af069c4d",
      "metadata": {
        "colab": {
          "base_uri": "https://localhost:8080/"
        },
        "id": "7fe2209f-ea99-4df8-913e-17a0af069c4d",
        "outputId": "6b3860e6-62d8-4546-f3b1-1adcffb1b7e9"
      },
      "outputs": [
        {
          "data": {
            "text/plain": [
              "array([[  1, 100,   1],\n",
              "       [100,   5, 100],\n",
              "       [  3, 100,   3]])"
            ]
          },
          "execution_count": 54,
          "metadata": {},
          "output_type": "execute_result"
        }
      ],
      "source": [
        "m.T"
      ]
    },
    {
      "cell_type": "code",
      "execution_count": null,
      "id": "df66ef8d-f920-4260-95d0-f800586f6e63",
      "metadata": {
        "colab": {
          "base_uri": "https://localhost:8080/"
        },
        "id": "df66ef8d-f920-4260-95d0-f800586f6e63",
        "outputId": "f2007fe2-2724-46c8-841d-2b425009bb88"
      },
      "outputs": [
        {
          "data": {
            "text/plain": [
              "array([ 0,  1,  2,  3,  4,  5,  6,  7,  8,  9, 10, 11, 12, 13, 14])"
            ]
          },
          "execution_count": 55,
          "metadata": {},
          "output_type": "execute_result"
        }
      ],
      "source": [
        "np.arange(15)"
      ]
    },
    {
      "cell_type": "code",
      "execution_count": null,
      "id": "f829abea-abf9-4906-9af4-350ce1f5971f",
      "metadata": {
        "colab": {
          "base_uri": "https://localhost:8080/"
        },
        "id": "f829abea-abf9-4906-9af4-350ce1f5971f",
        "outputId": "a71b2d4d-487d-4375-9b40-6360486d7afa"
      },
      "outputs": [
        {
          "data": {
            "text/plain": [
              "array([[ 0,  1,  2,  3,  4],\n",
              "       [ 5,  6,  7,  8,  9],\n",
              "       [10, 11, 12, 13, 14]])"
            ]
          },
          "execution_count": 60,
          "metadata": {},
          "output_type": "execute_result"
        }
      ],
      "source": [
        "arr = np.arange(15).reshape((3, 5))\n",
        "arr"
      ]
    },
    {
      "cell_type": "code",
      "execution_count": null,
      "id": "7f4e28ec-cdad-4e3b-a5f0-b475d55777a2",
      "metadata": {
        "colab": {
          "base_uri": "https://localhost:8080/"
        },
        "id": "7f4e28ec-cdad-4e3b-a5f0-b475d55777a2",
        "outputId": "5f41da17-852a-4680-a621-d221d696f9f1"
      },
      "outputs": [
        {
          "data": {
            "text/plain": [
              "array([[ 0,  5, 10],\n",
              "       [ 1,  6, 11],\n",
              "       [ 2,  7, 12],\n",
              "       [ 3,  8, 13],\n",
              "       [ 4,  9, 14]])"
            ]
          },
          "execution_count": 70,
          "metadata": {},
          "output_type": "execute_result"
        }
      ],
      "source": [
        "arr.swapaxes(0, 1)"
      ]
    },
    {
      "cell_type": "code",
      "execution_count": null,
      "id": "063f1725-e4cd-466f-80c1-22a2be7f8cc2",
      "metadata": {
        "colab": {
          "base_uri": "https://localhost:8080/"
        },
        "id": "063f1725-e4cd-466f-80c1-22a2be7f8cc2",
        "outputId": "a167d619-f101-4371-a126-58a3dcf63e9c"
      },
      "outputs": [
        {
          "data": {
            "text/plain": [
              "array([[ 0,  5, 10],\n",
              "       [ 1,  6, 11],\n",
              "       [ 2,  7, 12],\n",
              "       [ 3,  8, 13],\n",
              "       [ 4,  9, 14]])"
            ]
          },
          "execution_count": 71,
          "metadata": {},
          "output_type": "execute_result"
        }
      ],
      "source": [
        "arr.T"
      ]
    },
    {
      "cell_type": "markdown",
      "id": "66484a6a-3a65-464b-80f3-0fe8662b6e82",
      "metadata": {
        "id": "66484a6a-3a65-464b-80f3-0fe8662b6e82"
      },
      "source": [
        "**Задание 2**\\\n",
        "Отобрать те строки data, где на соответствующих позициях в names имя Леша или Петя."
      ]
    },
    {
      "cell_type": "code",
      "execution_count": null,
      "id": "94834e08-7e97-43e5-b80c-acb9725a78f8",
      "metadata": {
        "colab": {
          "base_uri": "https://localhost:8080/"
        },
        "id": "94834e08-7e97-43e5-b80c-acb9725a78f8",
        "outputId": "2aa98aae-d349-4f0f-efe0-c8c34ee81e16"
      },
      "outputs": [
        {
          "data": {
            "text/plain": [
              "array([[ 4,  8],\n",
              "       [ 1,  5],\n",
              "       [-3,  9],\n",
              "       [99,  0],\n",
              "       [13, 22],\n",
              "       [12, 49],\n",
              "       [31,  4]])"
            ]
          },
          "execution_count": 75,
          "metadata": {},
          "output_type": "execute_result"
        }
      ],
      "source": [
        "names = np.array([\"Настя\", \"Петя\", \"Вася\", \"Юра\", \"Паша\", \"Леша\", \"Леша\"])\n",
        "data = np.array([[4, 8], [1, 5], [-3, 9], [99, 0], [13, 22], [12, 49], [31, 4]])\n",
        "data"
      ]
    },
    {
      "cell_type": "code",
      "execution_count": null,
      "id": "b75a98e7-840a-4eaa-b501-063be6569f6c",
      "metadata": {
        "colab": {
          "base_uri": "https://localhost:8080/"
        },
        "id": "b75a98e7-840a-4eaa-b501-063be6569f6c",
        "outputId": "9b62fb93-d1b8-463c-ca8c-34ae0a74f4cd"
      },
      "outputs": [
        {
          "data": {
            "text/plain": [
              "array([[ 1,  5],\n",
              "       [12, 49],\n",
              "       [31,  4]])"
            ]
          },
          "execution_count": 86,
          "metadata": {},
          "output_type": "execute_result"
        }
      ],
      "source": [
        "# ваш ответ здесь\n",
        "data[(names == 'Леша') | (names == 'Петя')]\n"
      ]
    },
    {
      "cell_type": "markdown",
      "id": "a40fdf77-84ff-40ca-92fb-ffa743fea620",
      "metadata": {
        "id": "a40fdf77-84ff-40ca-92fb-ffa743fea620"
      },
      "source": [
        "## Быстрые поэлементные операции над массивами"
      ]
    },
    {
      "cell_type": "code",
      "execution_count": null,
      "id": "d98259a6-cb3a-4802-b12c-c1fbb145f5e7",
      "metadata": {
        "colab": {
          "base_uri": "https://localhost:8080/"
        },
        "id": "d98259a6-cb3a-4802-b12c-c1fbb145f5e7",
        "outputId": "c38f7bf9-36d5-43da-f257-fa57a4cccb16"
      },
      "outputs": [
        {
          "data": {
            "text/plain": [
              "array([0, 1, 2, 3, 4, 5, 6, 7, 8, 9])"
            ]
          },
          "execution_count": 93,
          "metadata": {},
          "output_type": "execute_result"
        }
      ],
      "source": [
        "arr = np.arange(10)\n",
        "arr"
      ]
    },
    {
      "cell_type": "code",
      "execution_count": null,
      "id": "414f543e-349f-4774-9cbf-60540c740fc0",
      "metadata": {
        "colab": {
          "base_uri": "https://localhost:8080/"
        },
        "id": "414f543e-349f-4774-9cbf-60540c740fc0",
        "outputId": "5da529a9-c46f-4b5c-848b-4e0b468bf8d2"
      },
      "outputs": [
        {
          "data": {
            "text/plain": [
              "array([0.        , 1.        , 1.41421356, 1.73205081, 2.        ,\n",
              "       2.23606798, 2.44948974, 2.64575131, 2.82842712, 3.        ])"
            ]
          },
          "execution_count": 88,
          "metadata": {},
          "output_type": "execute_result"
        }
      ],
      "source": [
        "np.sqrt(arr)"
      ]
    },
    {
      "cell_type": "code",
      "execution_count": null,
      "id": "50858433-26cf-4339-bb86-920b3396f7c9",
      "metadata": {
        "colab": {
          "base_uri": "https://localhost:8080/"
        },
        "id": "50858433-26cf-4339-bb86-920b3396f7c9",
        "outputId": "e8842294-8a0f-4f36-a342-ccef1a808c17"
      },
      "outputs": [
        {
          "data": {
            "text/plain": [
              "array([1.00000000e+00, 2.71828183e+00, 7.38905610e+00, 2.00855369e+01,\n",
              "       5.45981500e+01, 1.48413159e+02, 4.03428793e+02, 1.09663316e+03,\n",
              "       2.98095799e+03, 8.10308393e+03])"
            ]
          },
          "execution_count": 89,
          "metadata": {},
          "output_type": "execute_result"
        }
      ],
      "source": [
        "np.exp(arr)"
      ]
    },
    {
      "cell_type": "code",
      "execution_count": null,
      "id": "3008da7c-7a5d-4e0b-b139-3e58173f72a5",
      "metadata": {
        "colab": {
          "base_uri": "https://localhost:8080/"
        },
        "id": "3008da7c-7a5d-4e0b-b139-3e58173f72a5",
        "outputId": "01fea0b7-0207-4339-b91d-8bbe6de125ad"
      },
      "outputs": [
        {
          "data": {
            "text/plain": [
              "array([3.33333333e-01, 1.00000000e+00, 2.46301870e+00, 6.69517897e+00,\n",
              "       1.81993833e+01, 4.94710530e+01, 1.34476264e+02, 3.65544386e+02,\n",
              "       9.93652662e+02, 2.70102798e+03])"
            ]
          },
          "execution_count": 94,
          "metadata": {},
          "output_type": "execute_result"
        }
      ],
      "source": [
        "np.maximum(np.sqrt(arr), np.exp(arr)/3)"
      ]
    },
    {
      "cell_type": "code",
      "execution_count": null,
      "id": "0bda8b29-c1c5-46a3-bbf1-0118e25ae34b",
      "metadata": {
        "colab": {
          "base_uri": "https://localhost:8080/"
        },
        "id": "0bda8b29-c1c5-46a3-bbf1-0118e25ae34b",
        "outputId": "31ff656a-5012-42ae-9919-07c98e895ee4"
      },
      "outputs": [
        {
          "data": {
            "text/plain": [
              "array([0., 1., 1., 1., 2., 2., 2., 2., 2., 3.])"
            ]
          },
          "execution_count": 95,
          "metadata": {},
          "output_type": "execute_result"
        }
      ],
      "source": [
        "np.floor(np.sqrt(arr))"
      ]
    },
    {
      "cell_type": "code",
      "execution_count": null,
      "id": "219be6ae-e40c-4a2c-b74b-ca02ecebf58a",
      "metadata": {
        "colab": {
          "base_uri": "https://localhost:8080/"
        },
        "id": "219be6ae-e40c-4a2c-b74b-ca02ecebf58a",
        "outputId": "8ab065ba-6ef8-4d6b-a4a1-54fee966b97e"
      },
      "outputs": [
        {
          "data": {
            "text/plain": [
              "array([0., 1., 2., 2., 2., 3., 3., 3., 3., 3.])"
            ]
          },
          "execution_count": 96,
          "metadata": {},
          "output_type": "execute_result"
        }
      ],
      "source": [
        "np.ceil(np.sqrt(arr))"
      ]
    },
    {
      "cell_type": "code",
      "execution_count": null,
      "id": "8d6bf0d4-d712-42fd-ac76-4eb6f69b2382",
      "metadata": {
        "colab": {
          "base_uri": "https://localhost:8080/"
        },
        "id": "8d6bf0d4-d712-42fd-ac76-4eb6f69b2382",
        "outputId": "85a95a82-8b0a-4b34-b383-fac898bd0d1a"
      },
      "outputs": [
        {
          "data": {
            "text/plain": [
              "array([0., 1., 1., 2., 2., 2., 2., 3., 3., 3.])"
            ]
          },
          "execution_count": 97,
          "metadata": {},
          "output_type": "execute_result"
        }
      ],
      "source": [
        "np.round(np.sqrt(arr))"
      ]
    },
    {
      "cell_type": "markdown",
      "id": "d7cc522e-b4f0-4711-b899-88a105c4fac1",
      "metadata": {
        "id": "d7cc522e-b4f0-4711-b899-88a105c4fac1"
      },
      "source": [
        "## Программирование на основе массивов"
      ]
    },
    {
      "cell_type": "code",
      "execution_count": null,
      "id": "123b06bd-1c51-4030-ac23-842c9941f15c",
      "metadata": {
        "colab": {
          "base_uri": "https://localhost:8080/"
        },
        "id": "123b06bd-1c51-4030-ac23-842c9941f15c",
        "outputId": "9ef25495-611f-4b09-b4c4-b3930659968f"
      },
      "outputs": [
        {
          "data": {
            "text/plain": [
              "array([[-5.  , -5.  , -5.  , ..., -5.  , -5.  , -5.  ],\n",
              "       [-4.99, -4.99, -4.99, ..., -4.99, -4.99, -4.99],\n",
              "       [-4.98, -4.98, -4.98, ..., -4.98, -4.98, -4.98],\n",
              "       ...,\n",
              "       [ 4.97,  4.97,  4.97, ...,  4.97,  4.97,  4.97],\n",
              "       [ 4.98,  4.98,  4.98, ...,  4.98,  4.98,  4.98],\n",
              "       [ 4.99,  4.99,  4.99, ...,  4.99,  4.99,  4.99]])"
            ]
          },
          "execution_count": 98,
          "metadata": {},
          "output_type": "execute_result"
        }
      ],
      "source": [
        "points = np.arange(-5, 5, 0.01) # 100 равноотстоящих точек\n",
        "xs, ys = np.meshgrid(points, points)\n",
        "ys"
      ]
    },
    {
      "cell_type": "code",
      "execution_count": null,
      "id": "b96c75d6-f7ae-4079-96a1-1b67cfb87f34",
      "metadata": {
        "colab": {
          "base_uri": "https://localhost:8080/"
        },
        "id": "b96c75d6-f7ae-4079-96a1-1b67cfb87f34",
        "outputId": "7b11662a-2a9f-4c22-b874-02974fc28299"
      },
      "outputs": [
        {
          "data": {
            "text/plain": [
              "array([[-5.  , -4.99, -4.98, ...,  4.97,  4.98,  4.99],\n",
              "       [-5.  , -4.99, -4.98, ...,  4.97,  4.98,  4.99],\n",
              "       [-5.  , -4.99, -4.98, ...,  4.97,  4.98,  4.99],\n",
              "       ...,\n",
              "       [-5.  , -4.99, -4.98, ...,  4.97,  4.98,  4.99],\n",
              "       [-5.  , -4.99, -4.98, ...,  4.97,  4.98,  4.99],\n",
              "       [-5.  , -4.99, -4.98, ...,  4.97,  4.98,  4.99]])"
            ]
          },
          "execution_count": 101,
          "metadata": {},
          "output_type": "execute_result"
        }
      ],
      "source": [
        "xs"
      ]
    },
    {
      "cell_type": "code",
      "execution_count": null,
      "id": "63a16c78-f877-4e7a-a626-4b8284bce9ae",
      "metadata": {
        "id": "63a16c78-f877-4e7a-a626-4b8284bce9ae"
      },
      "outputs": [],
      "source": [
        "z = np.sqrt(xs ** 2 + ys ** 2)"
      ]
    },
    {
      "cell_type": "code",
      "execution_count": null,
      "id": "ce99dfab-599e-4433-a517-818eb8d65ebd",
      "metadata": {
        "id": "ce99dfab-599e-4433-a517-818eb8d65ebd"
      },
      "outputs": [],
      "source": [
        "xarr = np.array([1.1, 1.2, 1.3, 1.4, 1.5])\n",
        "yarr = np.array([2.1, 2.2, 2.3, 2.4, 2.5])\n",
        "cond = np.array([True, False, True, True, False])"
      ]
    },
    {
      "cell_type": "code",
      "execution_count": null,
      "id": "843eb6e6-12f9-4f8d-bb87-d23b716e136b",
      "metadata": {
        "colab": {
          "base_uri": "https://localhost:8080/"
        },
        "id": "843eb6e6-12f9-4f8d-bb87-d23b716e136b",
        "outputId": "f98d6e28-b588-4bfd-c315-8313961cf71a"
      },
      "outputs": [
        {
          "data": {
            "text/plain": [
              "[1.1, 2.2, 1.3, 1.4, 2.5]"
            ]
          },
          "execution_count": 108,
          "metadata": {},
          "output_type": "execute_result"
        }
      ],
      "source": [
        "result = [(x if c else y) for x, y, c in zip(xarr, yarr, cond)]\n",
        "result"
      ]
    },
    {
      "cell_type": "code",
      "execution_count": null,
      "id": "32025a8f-3366-4f9c-888c-62c8a2115c8e",
      "metadata": {
        "id": "32025a8f-3366-4f9c-888c-62c8a2115c8e"
      },
      "outputs": [],
      "source": [
        "result = np.where(cond, xarr, yarr)"
      ]
    },
    {
      "cell_type": "code",
      "execution_count": null,
      "id": "499d1391-6093-4601-ac54-f8f3ef6af3a9",
      "metadata": {
        "colab": {
          "base_uri": "https://localhost:8080/"
        },
        "id": "499d1391-6093-4601-ac54-f8f3ef6af3a9",
        "outputId": "e1cdf479-b731-48df-e252-7d6cb1d9a434"
      },
      "outputs": [
        {
          "data": {
            "text/plain": [
              "array([1.1, 1.2, 1.3, 2. , 2. ])"
            ]
          },
          "execution_count": 110,
          "metadata": {},
          "output_type": "execute_result"
        }
      ],
      "source": [
        "np.where(xarr > 1.3, 2, xarr)"
      ]
    },
    {
      "cell_type": "markdown",
      "id": "b8bab28b-6939-4269-84d0-f8661bf2f526",
      "metadata": {
        "id": "b8bab28b-6939-4269-84d0-f8661bf2f526"
      },
      "source": [
        "**Задача 3**\\\n",
        "Сгенерировать массив из случайных положительных чисел произвольной длины. Вывести элементы, которые больше среднего арифметического."
      ]
    },
    {
      "cell_type": "code",
      "execution_count": null,
      "id": "X3o27F5MkT-C",
      "metadata": {
        "colab": {
          "base_uri": "https://localhost:8080/"
        },
        "id": "X3o27F5MkT-C",
        "outputId": "b79476f9-6ae9-409a-f667-6298cb070683"
      },
      "outputs": [
        {
          "data": {
            "text/plain": [
              "array([ 90, 408, 156, 643, 970])"
            ]
          },
          "execution_count": 138,
          "metadata": {},
          "output_type": "execute_result"
        }
      ],
      "source": [
        "arr = np.random.randint(1, 1000, 5)\n",
        "arr"
      ]
    },
    {
      "cell_type": "code",
      "execution_count": null,
      "id": "vFXZLJE4kqot",
      "metadata": {
        "colab": {
          "base_uri": "https://localhost:8080/"
        },
        "id": "vFXZLJE4kqot",
        "outputId": "c7dfafd9-7355-45a5-837c-b82fa41aa899"
      },
      "outputs": [
        {
          "data": {
            "text/plain": [
              "453.4"
            ]
          },
          "execution_count": 139,
          "metadata": {},
          "output_type": "execute_result"
        }
      ],
      "source": [
        "arr.mean()"
      ]
    },
    {
      "cell_type": "code",
      "execution_count": null,
      "id": "bfIZvV7mkrv3",
      "metadata": {
        "colab": {
          "base_uri": "https://localhost:8080/"
        },
        "id": "bfIZvV7mkrv3",
        "outputId": "8125c14a-6dd9-45a3-d233-aafdab4d4f83"
      },
      "outputs": [
        {
          "data": {
            "text/plain": [
              "array([643, 970])"
            ]
          },
          "execution_count": 140,
          "metadata": {},
          "output_type": "execute_result"
        }
      ],
      "source": [
        "arr[arr > arr.mean()]"
      ]
    },
    {
      "cell_type": "markdown",
      "id": "952e4a55-5562-4f42-8713-b2c6ac7526f8",
      "metadata": {
        "id": "952e4a55-5562-4f42-8713-b2c6ac7526f8"
      },
      "source": [
        "**Задача 4**\\\n",
        "Сгенерировать массив из 20 случайных элементов, элементы которого лежат в интервале [0, 10].\n",
        "+ Определить количество элементов, отличающихся от минимального на 5.\n",
        "+ Найти среднее арифметическое всех четных элементов массива, стоящих на нечетных местах."
      ]
    },
    {
      "cell_type": "code",
      "execution_count": null,
      "id": "6EvHl-LOlLvh",
      "metadata": {
        "colab": {
          "base_uri": "https://localhost:8080/"
        },
        "id": "6EvHl-LOlLvh",
        "outputId": "bc7ad64a-d11d-4f3b-ea69-85220d85477f"
      },
      "outputs": [
        {
          "data": {
            "text/plain": [
              "array([ 2, 10,  7,  5,  1,  7,  3,  6,  7,  4,  9,  3,  5, 10, 10,  9,  9,\n",
              "        2,  6,  2])"
            ]
          },
          "execution_count": 152,
          "metadata": {},
          "output_type": "execute_result"
        }
      ],
      "source": [
        "arr = np.random.randint(0, 11, 20)\n",
        "arr"
      ]
    },
    {
      "cell_type": "code",
      "execution_count": null,
      "id": "k4vOQZ1BmH8s",
      "metadata": {
        "colab": {
          "base_uri": "https://localhost:8080/"
        },
        "id": "k4vOQZ1BmH8s",
        "outputId": "9294514d-40d7-4d5a-8b3b-f7d4d24b667b"
      },
      "outputs": [
        {
          "data": {
            "text/plain": [
              "1"
            ]
          },
          "execution_count": 153,
          "metadata": {},
          "output_type": "execute_result"
        }
      ],
      "source": [
        "arr.min()"
      ]
    },
    {
      "cell_type": "code",
      "execution_count": null,
      "id": "IbmPx52rl6xW",
      "metadata": {
        "colab": {
          "base_uri": "https://localhost:8080/"
        },
        "id": "IbmPx52rl6xW",
        "outputId": "0ce2db77-f9d8-440c-bc7d-d47d59b97435"
      },
      "outputs": [
        {
          "data": {
            "text/plain": [
              "2"
            ]
          },
          "execution_count": 154,
          "metadata": {},
          "output_type": "execute_result"
        }
      ],
      "source": [
        "k = 0\n",
        "for i in arr:\n",
        "  if i - arr.min() == 5:\n",
        "    k += 1\n",
        "k"
      ]
    },
    {
      "cell_type": "code",
      "execution_count": null,
      "id": "BH3JRU2Bmgne",
      "metadata": {
        "colab": {
          "base_uri": "https://localhost:8080/"
        },
        "id": "BH3JRU2Bmgne",
        "outputId": "d6819dda-c35c-4cd8-b966-e9374817d89a"
      },
      "outputs": [
        {
          "data": {
            "text/plain": [
              "5.666666666666667"
            ]
          },
          "execution_count": 168,
          "metadata": {},
          "output_type": "execute_result"
        }
      ],
      "source": [
        "avg = 0\n",
        "sum = 0\n",
        "k = 0\n",
        "for i in range(0,11):\n",
        "  if (arr[i]%2 == 0) and (i%2 == 1):\n",
        "    sum += i\n",
        "    k += 1\n",
        "avg = sum / k\n",
        "avg"
      ]
    },
    {
      "cell_type": "markdown",
      "id": "06b8cde0-991c-4230-abe7-8b969c38a504",
      "metadata": {
        "id": "06b8cde0-991c-4230-abe7-8b969c38a504"
      },
      "source": [
        "**Задача 5**\\\n",
        "Сгенерировать матрицу A размером 5 на 5, элементы которой лежат в интервале [1, 10].\n",
        "+ Возвести в квадрат максимальный элемент матрицы.\n",
        "+ Все четные числа заменить на 0."
      ]
    },
    {
      "cell_type": "code",
      "execution_count": null,
      "id": "uplJbOihoH5G",
      "metadata": {
        "colab": {
          "base_uri": "https://localhost:8080/"
        },
        "id": "uplJbOihoH5G",
        "outputId": "8ed0056b-6f37-47ef-8887-03c2679a20dd"
      },
      "outputs": [
        {
          "data": {
            "text/plain": [
              "array([[ 5,  1,  3,  2, 10],\n",
              "       [ 1,  3,  8,  9,  6],\n",
              "       [ 4,  2,  8,  4,  4],\n",
              "       [ 9,  6,  2,  5,  5],\n",
              "       [ 4,  6,  5,  7,  4]])"
            ]
          },
          "execution_count": 212,
          "metadata": {},
          "output_type": "execute_result"
        }
      ],
      "source": [
        "A = np.random.randint(1, 11, (5, 5))\n",
        "A"
      ]
    },
    {
      "cell_type": "code",
      "execution_count": null,
      "id": "xhCfmWlprA6o",
      "metadata": {
        "colab": {
          "base_uri": "https://localhost:8080/"
        },
        "id": "xhCfmWlprA6o",
        "outputId": "26c53116-bcfe-4cdf-f857-d0e71095697e"
      },
      "outputs": [
        {
          "data": {
            "text/plain": [
              "(0, 4)"
            ]
          },
          "execution_count": 213,
          "metadata": {},
          "output_type": "execute_result"
        }
      ],
      "source": [
        "max_index = np.unravel_index(np.argmax(A), A.shape)\n",
        "max_index"
      ]
    },
    {
      "cell_type": "code",
      "execution_count": null,
      "id": "zEYLQLPMqdRn",
      "metadata": {
        "colab": {
          "base_uri": "https://localhost:8080/"
        },
        "id": "zEYLQLPMqdRn",
        "outputId": "8bfb5aae-4806-418c-8ae9-187e91f596e8"
      },
      "outputs": [
        {
          "data": {
            "text/plain": [
              "array([[  5,   1,   3,   2, 100],\n",
              "       [  1,   3,   8,   9,   6],\n",
              "       [  4,   2,   8,   4,   4],\n",
              "       [  9,   6,   2,   5,   5],\n",
              "       [  4,   6,   5,   7,   4]])"
            ]
          },
          "execution_count": 214,
          "metadata": {},
          "output_type": "execute_result"
        }
      ],
      "source": [
        " A[max_index] = A.max() ** 2\n",
        " A"
      ]
    },
    {
      "cell_type": "code",
      "execution_count": null,
      "id": "qhortvChr_Gp",
      "metadata": {
        "colab": {
          "base_uri": "https://localhost:8080/"
        },
        "id": "qhortvChr_Gp",
        "outputId": "94b47972-8086-4daf-9cbc-8edd71c32cdb"
      },
      "outputs": [
        {
          "data": {
            "text/plain": [
              "array([[5, 1, 3, 0, 0],\n",
              "       [1, 3, 0, 9, 0],\n",
              "       [0, 0, 0, 0, 0],\n",
              "       [9, 0, 0, 5, 5],\n",
              "       [0, 0, 5, 7, 0]])"
            ]
          },
          "execution_count": 221,
          "metadata": {},
          "output_type": "execute_result"
        }
      ],
      "source": [
        "A[A % 2 == 0] = 0\n",
        "A"
      ]
    },
    {
      "cell_type": "markdown",
      "id": "e2dcb4bb-9ed1-4f74-be4f-de65556bbf38",
      "metadata": {
        "id": "e2dcb4bb-9ed1-4f74-be4f-de65556bbf38"
      },
      "source": [
        "**Задача 6**\\\n",
        "Сгенерировать матрицу B размером 5 на 5, элементы которой лежат в интервале [-5, 5]. Отрицательные элементы матрицы заменить на число отрицательных элементов в строке, в которой они находятся."
      ]
    },
    {
      "cell_type": "code",
      "execution_count": null,
      "id": "TpUCmSOPslQt",
      "metadata": {
        "colab": {
          "base_uri": "https://localhost:8080/"
        },
        "id": "TpUCmSOPslQt",
        "outputId": "84d38522-f755-4558-fff4-048478b91c16"
      },
      "outputs": [
        {
          "data": {
            "text/plain": [
              "array([[ 5,  3, -2,  3, -4],\n",
              "       [ 1,  3,  4, -2, -4],\n",
              "       [-3,  2,  1, -4,  2],\n",
              "       [ 4, -4, -4,  5,  0],\n",
              "       [-5,  1, -4, -4,  2]])"
            ]
          },
          "execution_count": 236,
          "metadata": {},
          "output_type": "execute_result"
        }
      ],
      "source": [
        "B = np.random.randint(-5, 6, (5, 5))\n",
        "B"
      ]
    },
    {
      "cell_type": "code",
      "execution_count": null,
      "id": "95NuvkxnswEf",
      "metadata": {
        "colab": {
          "base_uri": "https://localhost:8080/"
        },
        "id": "95NuvkxnswEf",
        "outputId": "ec497e02-c9db-47e5-ed25-ca2ba35a5868"
      },
      "outputs": [
        {
          "data": {
            "text/plain": [
              "array([[0, 0, 1, 0, 1],\n",
              "       [0, 0, 0, 1, 1],\n",
              "       [1, 0, 0, 1, 0],\n",
              "       [0, 1, 1, 0, 0],\n",
              "       [1, 0, 1, 1, 0]])"
            ]
          },
          "execution_count": 237,
          "metadata": {},
          "output_type": "execute_result"
        }
      ],
      "source": [
        "B_1 = np.where(B < 0, 1, 0)\n",
        "B_1"
      ]
    },
    {
      "cell_type": "code",
      "execution_count": null,
      "id": "pR21WyL9vTH_",
      "metadata": {
        "colab": {
          "base_uri": "https://localhost:8080/"
        },
        "id": "pR21WyL9vTH_",
        "outputId": "75e047d8-093b-4f1c-c80a-42538e67b0f2"
      },
      "outputs": [
        {
          "data": {
            "text/plain": [
              "array([2, 2, 2, 2, 3])"
            ]
          },
          "execution_count": 238,
          "metadata": {},
          "output_type": "execute_result"
        }
      ],
      "source": [
        "sum_otr = np.sum(B_1, axis=1)\n",
        "sum_otr"
      ]
    },
    {
      "cell_type": "code",
      "execution_count": null,
      "id": "eAgss7zHvg7a",
      "metadata": {
        "colab": {
          "base_uri": "https://localhost:8080/"
        },
        "id": "eAgss7zHvg7a",
        "outputId": "cc2138a7-65d9-4e28-a565-fb53eaf15953"
      },
      "outputs": [
        {
          "data": {
            "text/plain": [
              "array([[5, 3, 2, 3, 2],\n",
              "       [1, 3, 4, 2, 2],\n",
              "       [2, 2, 1, 2, 2],\n",
              "       [4, 2, 2, 5, 0],\n",
              "       [3, 1, 3, 3, 2]])"
            ]
          },
          "execution_count": 239,
          "metadata": {},
          "output_type": "execute_result"
        }
      ],
      "source": [
        "for i in range(B.shape[0]):\n",
        "    B[i] = np.where(B[i] < 0, sum_otr[i], B[i])\n",
        "B"
      ]
    },
    {
      "cell_type": "markdown",
      "id": "fab10d3e-9e74-44aa-bb0f-d203bc75789e",
      "metadata": {
        "id": "fab10d3e-9e74-44aa-bb0f-d203bc75789e"
      },
      "source": [
        "# Вспоминаем pandas несильно"
      ]
    },
    {
      "cell_type": "markdown",
      "id": "bb8bc5c9-d95c-45a6-8d59-354f948f78e4",
      "metadata": {
        "id": "bb8bc5c9-d95c-45a6-8d59-354f948f78e4"
      },
      "source": [
        "Какие отличия между исследовательскими университетами и школами искусств?\n",
        "Используя данные из файла colleges, выдвините предположения о возможных различиях между двумя типами институтов.\n",
        "Для это проведите описательный анализ исходных данных.  Выдвините несколько гипотез.\n",
        "Например, \"В университеты поступить сложнее (процент принятых меньше)\"\n",
        "\n",
        "Формат файла\n",
        "+ School -  название школы\n",
        "+ School_Type - тип школы (школа искусств  'LibArts', исследовательский университет 'Univ')\n",
        "+ SAT - медиана объединенных значений Math и Verbal SAT  студентов\n",
        "+ Acceptance: - % принятых абитуриентов\n",
        "+ $/Student  -  Деньги, расходуемые на одного студента в среднем\n",
        "+ Top 10% -  % студентов в топ 10% выпускных классов\n",
        "+ %PhD -  %  факультетов, имеющих PhD\n",
        "+ Grad%: % студентов, которые успешно завершили обучение"
      ]
    },
    {
      "cell_type": "code",
      "execution_count": null,
      "id": "tTgLNB1Myzdu",
      "metadata": {
        "id": "tTgLNB1Myzdu"
      },
      "outputs": [],
      "source": [
        "df = pd.read_csv('colleges.txt', delimiter='\\t')"
      ]
    },
    {
      "cell_type": "code",
      "execution_count": null,
      "id": "08d5d60f-6d5b-4767-b858-6eb3dfd1ad70",
      "metadata": {
        "colab": {
          "base_uri": "https://localhost:8080/",
          "height": 1000
        },
        "id": "08d5d60f-6d5b-4767-b858-6eb3dfd1ad70",
        "outputId": "d290acbd-f3ae-4f04-e0c9-4a9c1421b519"
      },
      "outputs": [
        {
          "data": {
            "text/html": [
              "<div>\n",
              "<style scoped>\n",
              "    .dataframe tbody tr th:only-of-type {\n",
              "        vertical-align: middle;\n",
              "    }\n",
              "\n",
              "    .dataframe tbody tr th {\n",
              "        vertical-align: top;\n",
              "    }\n",
              "\n",
              "    .dataframe thead th {\n",
              "        text-align: right;\n",
              "    }\n",
              "</style>\n",
              "<table border=\"1\" class=\"dataframe\">\n",
              "  <thead>\n",
              "    <tr style=\"text-align: right;\">\n",
              "      <th></th>\n",
              "      <th>School</th>\n",
              "      <th>School_Type</th>\n",
              "      <th>SAT</th>\n",
              "      <th>Acceptance</th>\n",
              "      <th>$/Student</th>\n",
              "      <th>Top 10%</th>\n",
              "      <th>%PhD</th>\n",
              "      <th>Grad%</th>\n",
              "    </tr>\n",
              "  </thead>\n",
              "  <tbody>\n",
              "    <tr>\n",
              "      <th>0</th>\n",
              "      <td>Amherst</td>\n",
              "      <td>Lib Arts</td>\n",
              "      <td>1315</td>\n",
              "      <td>22</td>\n",
              "      <td>26636</td>\n",
              "      <td>85</td>\n",
              "      <td>81</td>\n",
              "      <td>93</td>\n",
              "    </tr>\n",
              "    <tr>\n",
              "      <th>1</th>\n",
              "      <td>Swarthmore</td>\n",
              "      <td>Lib Arts</td>\n",
              "      <td>1310</td>\n",
              "      <td>24</td>\n",
              "      <td>27487</td>\n",
              "      <td>78</td>\n",
              "      <td>93</td>\n",
              "      <td>88</td>\n",
              "    </tr>\n",
              "    <tr>\n",
              "      <th>2</th>\n",
              "      <td>Williams</td>\n",
              "      <td>Lib Arts</td>\n",
              "      <td>1336</td>\n",
              "      <td>28</td>\n",
              "      <td>23772</td>\n",
              "      <td>86</td>\n",
              "      <td>90</td>\n",
              "      <td>93</td>\n",
              "    </tr>\n",
              "    <tr>\n",
              "      <th>3</th>\n",
              "      <td>Bowdoin</td>\n",
              "      <td>Lib Arts</td>\n",
              "      <td>1300</td>\n",
              "      <td>24</td>\n",
              "      <td>25703</td>\n",
              "      <td>78</td>\n",
              "      <td>95</td>\n",
              "      <td>90</td>\n",
              "    </tr>\n",
              "    <tr>\n",
              "      <th>4</th>\n",
              "      <td>Wellesley</td>\n",
              "      <td>Lib Arts</td>\n",
              "      <td>1250</td>\n",
              "      <td>49</td>\n",
              "      <td>27879</td>\n",
              "      <td>76</td>\n",
              "      <td>91</td>\n",
              "      <td>86</td>\n",
              "    </tr>\n",
              "  </tbody>\n",
              "</table>\n",
              "</div>"
            ],
            "text/plain": [
              "       School School_Type   SAT  Acceptance  $/Student  Top 10%  %PhD  Grad%\n",
              "0     Amherst    Lib Arts  1315          22      26636       85    81     93\n",
              "1  Swarthmore    Lib Arts  1310          24      27487       78    93     88\n",
              "2    Williams    Lib Arts  1336          28      23772       86    90     93\n",
              "3     Bowdoin    Lib Arts  1300          24      25703       78    95     90\n",
              "4   Wellesley    Lib Arts  1250          49      27879       76    91     86"
            ]
          },
          "execution_count": 5,
          "metadata": {},
          "output_type": "execute_result"
        }
      ],
      "source": [
        "df.head()"
      ]
    },
    {
      "cell_type": "markdown",
      "id": "7642825c-5811-4136-ad20-11234d61fd37",
      "metadata": {
        "id": "7642825c-5811-4136-ad20-11234d61fd37"
      },
      "source": [
        "В сведения о датафрейме входит общая информация о нём вроде заголовка, количества значений, типов данных столбцов."
      ]
    },
    {
      "cell_type": "code",
      "execution_count": null,
      "id": "346d0b4b-348f-48d3-8d7d-c605378357ea",
      "metadata": {
        "colab": {
          "base_uri": "https://localhost:8080/"
        },
        "id": "346d0b4b-348f-48d3-8d7d-c605378357ea",
        "outputId": "aee1a4f3-20af-44f5-eb7f-4bf78d75912f"
      },
      "outputs": [
        {
          "name": "stdout",
          "output_type": "stream",
          "text": [
            "<class 'pandas.core.frame.DataFrame'>\n",
            "RangeIndex: 50 entries, 0 to 49\n",
            "Data columns (total 8 columns):\n",
            " #   Column       Non-Null Count  Dtype \n",
            "---  ------       --------------  ----- \n",
            " 0   School       50 non-null     object\n",
            " 1   School_Type  50 non-null     object\n",
            " 2   SAT          50 non-null     int64 \n",
            " 3   Acceptance   50 non-null     int64 \n",
            " 4   $/Student    50 non-null     int64 \n",
            " 5   Top 10%      50 non-null     int64 \n",
            " 6   %PhD         50 non-null     int64 \n",
            " 7   Grad%        50 non-null     int64 \n",
            "dtypes: int64(6), object(2)\n",
            "memory usage: 3.3+ KB\n"
          ]
        }
      ],
      "source": [
        "df.info()"
      ]
    },
    {
      "cell_type": "markdown",
      "id": "dc5d50cd-47ee-4461-9435-a87b12476e13",
      "metadata": {
        "id": "dc5d50cd-47ee-4461-9435-a87b12476e13"
      },
      "source": [
        "Вывод статистических сведений о датафрейме:"
      ]
    },
    {
      "cell_type": "code",
      "execution_count": null,
      "id": "b2e7acef-b4e0-4589-ba61-e65e7740cba1",
      "metadata": {
        "id": "b2e7acef-b4e0-4589-ba61-e65e7740cba1",
        "outputId": "79b0debe-07db-4457-b908-df06be25ccdd"
      },
      "outputs": [
        {
          "data": {
            "text/html": [
              "<div>\n",
              "<style scoped>\n",
              "    .dataframe tbody tr th:only-of-type {\n",
              "        vertical-align: middle;\n",
              "    }\n",
              "\n",
              "    .dataframe tbody tr th {\n",
              "        vertical-align: top;\n",
              "    }\n",
              "\n",
              "    .dataframe thead th {\n",
              "        text-align: right;\n",
              "    }\n",
              "</style>\n",
              "<table border=\"1\" class=\"dataframe\">\n",
              "  <thead>\n",
              "    <tr style=\"text-align: right;\">\n",
              "      <th></th>\n",
              "      <th>SAT</th>\n",
              "      <th>Acceptance</th>\n",
              "      <th>$/Student</th>\n",
              "      <th>Top 10%</th>\n",
              "      <th>%PhD</th>\n",
              "      <th>Grad%</th>\n",
              "    </tr>\n",
              "  </thead>\n",
              "  <tbody>\n",
              "    <tr>\n",
              "      <th>count</th>\n",
              "      <td>50.000000</td>\n",
              "      <td>50.000000</td>\n",
              "      <td>50.000000</td>\n",
              "      <td>50.000000</td>\n",
              "      <td>50.000000</td>\n",
              "      <td>50.000000</td>\n",
              "    </tr>\n",
              "    <tr>\n",
              "      <th>mean</th>\n",
              "      <td>1263.960000</td>\n",
              "      <td>37.840000</td>\n",
              "      <td>30247.200000</td>\n",
              "      <td>74.440000</td>\n",
              "      <td>90.560000</td>\n",
              "      <td>83.480000</td>\n",
              "    </tr>\n",
              "    <tr>\n",
              "      <th>std</th>\n",
              "      <td>62.329591</td>\n",
              "      <td>13.363612</td>\n",
              "      <td>15266.172682</td>\n",
              "      <td>13.515162</td>\n",
              "      <td>8.258972</td>\n",
              "      <td>7.557237</td>\n",
              "    </tr>\n",
              "    <tr>\n",
              "      <th>min</th>\n",
              "      <td>1109.000000</td>\n",
              "      <td>17.000000</td>\n",
              "      <td>17520.000000</td>\n",
              "      <td>47.000000</td>\n",
              "      <td>58.000000</td>\n",
              "      <td>61.000000</td>\n",
              "    </tr>\n",
              "    <tr>\n",
              "      <th>25%</th>\n",
              "      <td>1225.000000</td>\n",
              "      <td>25.750000</td>\n",
              "      <td>20182.250000</td>\n",
              "      <td>65.000000</td>\n",
              "      <td>86.250000</td>\n",
              "      <td>77.250000</td>\n",
              "    </tr>\n",
              "    <tr>\n",
              "      <th>50%</th>\n",
              "      <td>1264.000000</td>\n",
              "      <td>36.000000</td>\n",
              "      <td>24994.500000</td>\n",
              "      <td>76.500000</td>\n",
              "      <td>93.000000</td>\n",
              "      <td>85.500000</td>\n",
              "    </tr>\n",
              "    <tr>\n",
              "      <th>75%</th>\n",
              "      <td>1304.500000</td>\n",
              "      <td>47.750000</td>\n",
              "      <td>36803.750000</td>\n",
              "      <td>85.000000</td>\n",
              "      <td>97.750000</td>\n",
              "      <td>89.000000</td>\n",
              "    </tr>\n",
              "    <tr>\n",
              "      <th>max</th>\n",
              "      <td>1400.000000</td>\n",
              "      <td>67.000000</td>\n",
              "      <td>102262.000000</td>\n",
              "      <td>98.000000</td>\n",
              "      <td>100.000000</td>\n",
              "      <td>95.000000</td>\n",
              "    </tr>\n",
              "  </tbody>\n",
              "</table>\n",
              "</div>"
            ],
            "text/plain": [
              "               SAT  Acceptance      $/Student    Top 10%        %PhD  \\\n",
              "count    50.000000   50.000000      50.000000  50.000000   50.000000   \n",
              "mean   1263.960000   37.840000   30247.200000  74.440000   90.560000   \n",
              "std      62.329591   13.363612   15266.172682  13.515162    8.258972   \n",
              "min    1109.000000   17.000000   17520.000000  47.000000   58.000000   \n",
              "25%    1225.000000   25.750000   20182.250000  65.000000   86.250000   \n",
              "50%    1264.000000   36.000000   24994.500000  76.500000   93.000000   \n",
              "75%    1304.500000   47.750000   36803.750000  85.000000   97.750000   \n",
              "max    1400.000000   67.000000  102262.000000  98.000000  100.000000   \n",
              "\n",
              "           Grad%  \n",
              "count  50.000000  \n",
              "mean   83.480000  \n",
              "std     7.557237  \n",
              "min    61.000000  \n",
              "25%    77.250000  \n",
              "50%    85.500000  \n",
              "75%    89.000000  \n",
              "max    95.000000  "
            ]
          },
          "execution_count": 7,
          "metadata": {},
          "output_type": "execute_result"
        }
      ],
      "source": [
        "df.describe()"
      ]
    },
    {
      "cell_type": "markdown",
      "id": "f230c49a-85ab-4bf2-8b6a-e3cc15544bbe",
      "metadata": {
        "id": "f230c49a-85ab-4bf2-8b6a-e3cc15544bbe"
      },
      "source": [
        "**Задание 1**\\\n",
        "Проверить являются ли выборки связными."
      ]
    },
    {
      "cell_type": "code",
      "execution_count": null,
      "id": "3efcaea1",
      "metadata": {
        "id": "3efcaea1"
      },
      "outputs": [],
      "source": [
        "#нет, не являются"
      ]
    },
    {
      "cell_type": "markdown",
      "id": "3342d448-2170-49cc-8560-51fc1391db3a",
      "metadata": {
        "id": "3342d448-2170-49cc-8560-51fc1391db3a"
      },
      "source": [
        "**Задание 2**\\\n",
        "Постройте ящики с усами по каждой из характеристик (SAT ... Grad%) для каждого типа институтов. Какие из следующих утверждений верны (речь идет о наблюдаемых данных)?"
      ]
    },
    {
      "cell_type": "code",
      "execution_count": 2,
      "id": "3c2519fb-8814-49ed-8638-4b658cd18bb1",
      "metadata": {
        "id": "3c2519fb-8814-49ed-8638-4b658cd18bb1",
        "outputId": "36aff641-0466-466b-ae70-b7de3587cb0d",
        "tags": [],
        "colab": {
          "base_uri": "https://localhost:8080/",
          "height": 202
        }
      },
      "outputs": [
        {
          "output_type": "display_data",
          "data": {
            "text/plain": [
              "<IPython.core.display.HTML object>"
            ],
            "text/html": [
              "<input type=\"checkbox\" id=\"0\">\n",
              "<label for=\"0\">% процент принятых студентов в школах искусств заметно ниже, чем в университетах</label><br>\n",
              "\n",
              "<input type=\"checkbox\" id=\"1\">\n",
              "<label for=\"1\">Разброс средств, расходуемых в среднем на одного студента, в школах искусств больше, чем в университетах</label><br>\n",
              "\n",
              "<input type=\"checkbox\" id=\"2\" checked>\n",
              "<label for=\"2\">% процент принятых студентов в школах искусств и в университетах примерно равны</label><br>\n",
              "\n",
              "<input type=\"checkbox\" id=\"3\">\n",
              "<label for=\"3\">Разброс баллов SAT в университетах ниже, чем в школах искусств</label><br>\n",
              "\n",
              "<input type=\"checkbox\" id=\"0\" checked>\n",
              "<label for=\"0\">Разброс баллов SAT в университетах выше, чем в школах искусств</label><br>\n",
              "\n",
              "<input type=\"checkbox\" id=\"0\" checked>\n",
              "<label for=\"0\">Разброс средств, расходуемых в среднем на одного студента, в школах искусств меньше, чем в университетах</label><br>\n",
              "\n",
              "<input type=\"checkbox\" id=\"0\" checked>\n",
              "<label for=\"0\">В одном из университетов тратят сильно больше денег в среднем на одного студента, чем в других университетах</label><br>\n",
              "\n",
              "<input type=\"checkbox\" id=\"0\">\n",
              "<label for=\"0\">Разброс баллов SAT в университетах и школах искусств практически не различается</label><br>\n",
              "\n",
              "<input type=\"checkbox\" id=\"0\">\n",
              "<label for=\"0\">% процент принятых студентов в школах искусств заметно выше, чем в университетах</label><br>\n"
            ]
          },
          "metadata": {}
        }
      ],
      "source": [
        "%%HTML\n",
        "<input type=\"checkbox\" id=\"0\">\n",
        "<label for=\"0\">% процент принятых студентов в школах искусств заметно ниже, чем в университетах</label><br>\n",
        "\n",
        "<input type=\"checkbox\" id=\"1\">\n",
        "<label for=\"1\">Разброс средств, расходуемых в среднем на одного студента, в школах искусств больше, чем в университетах</label><br>\n",
        "\n",
        "<input type=\"checkbox\" id=\"2\" checked>\n",
        "<label for=\"2\">% процент принятых студентов в школах искусств и в университетах примерно равны</label><br>\n",
        "\n",
        "<input type=\"checkbox\" id=\"3\">\n",
        "<label for=\"3\">Разброс баллов SAT в университетах ниже, чем в школах искусств</label><br>\n",
        "\n",
        "<input type=\"checkbox\" id=\"0\" checked>\n",
        "<label for=\"0\">Разброс баллов SAT в университетах выше, чем в школах искусств</label><br>\n",
        "\n",
        "<input type=\"checkbox\" id=\"0\" checked>\n",
        "<label for=\"0\">Разброс средств, расходуемых в среднем на одного студента, в школах искусств меньше, чем в университетах</label><br>\n",
        "\n",
        "<input type=\"checkbox\" id=\"0\" checked>\n",
        "<label for=\"0\">В одном из университетов тратят сильно больше денег в среднем на одного студента, чем в других университетах</label><br>\n",
        "\n",
        "<input type=\"checkbox\" id=\"0\">\n",
        "<label for=\"0\">Разброс баллов SAT в университетах и школах искусств практически не различается</label><br>\n",
        "\n",
        "<input type=\"checkbox\" id=\"0\">\n",
        "<label for=\"0\">% процент принятых студентов в школах искусств заметно выше, чем в университетах</label><br>"
      ]
    },
    {
      "cell_type": "code",
      "execution_count": null,
      "id": "2ab56d4e",
      "metadata": {
        "id": "2ab56d4e",
        "outputId": "ce8b60c2-18ca-4bdf-ba6e-2e4c6f09f245"
      },
      "outputs": [
        {
          "data": {
            "text/plain": [
              "array(['Lib Arts', 'Univ'], dtype=object)"
            ]
          },
          "execution_count": 56,
          "metadata": {},
          "output_type": "execute_result"
        }
      ],
      "source": [
        "df['School_Type'].unique()"
      ]
    },
    {
      "cell_type": "code",
      "execution_count": null,
      "id": "d569fbf8",
      "metadata": {
        "id": "d569fbf8"
      },
      "outputs": [],
      "source": [
        "df_art = df[df['School_Type'] == 'Lib Arts']\n",
        "df_univ = df[df['School_Type'] == 'Univ']"
      ]
    },
    {
      "cell_type": "code",
      "execution_count": null,
      "id": "f06a8b74",
      "metadata": {
        "id": "f06a8b74",
        "outputId": "abf71607-dddf-49d1-abfa-ebe8b5ba20c3"
      },
      "outputs": [
        {
          "data": {
            "image/png": "[encoded data removed]",
            "text/plain": [
              "<Figure size 640x480 with 1 Axes>"
            ]
          },
          "metadata": {},
          "output_type": "display_data"
        }
      ],
      "source": [
        "plt.boxplot([df_art['SAT'], df_univ['SAT']], labels=['Lib Arts', 'Univ'])\n",
        "plt.show()"
      ]
    },
    {
      "cell_type": "code",
      "execution_count": null,
      "id": "e023442c",
      "metadata": {
        "id": "e023442c",
        "outputId": "65cc954b-70af-4fa5-e858-6d9f7a03d465"
      },
      "outputs": [
        {
          "data": {
            "image/png": "[encoded data removed]",
            "text/plain": [
              "<Figure size 640x480 with 1 Axes>"
            ]
          },
          "metadata": {},
          "output_type": "display_data"
        }
      ],
      "source": [
        "plt.boxplot([df_art['Acceptance'], df_univ['Acceptance']], labels=['Lib Arts', 'Univ'])\n",
        "plt.show()"
      ]
    },
    {
      "cell_type": "code",
      "execution_count": null,
      "id": "d17703ff",
      "metadata": {
        "id": "d17703ff",
        "outputId": "bceee16a-c575-49cc-8ed4-b5c0a6b7033d"
      },
      "outputs": [
        {
          "data": {
            "image/png": "[encoded data removed]",
            "text/plain": [
              "<Figure size 640x480 with 1 Axes>"
            ]
          },
          "metadata": {},
          "output_type": "display_data"
        }
      ],
      "source": [
        "plt.boxplot([df_art['$/Student'], df_univ['$/Student']], labels=['Lib Arts', 'Univ'])\n",
        "plt.show()"
      ]
    },
    {
      "cell_type": "code",
      "execution_count": null,
      "id": "c6907bc3",
      "metadata": {
        "id": "c6907bc3",
        "outputId": "273bd4be-329d-4850-f56e-5582f0d3f3ee"
      },
      "outputs": [
        {
          "data": {
            "image/png": "[encoded data removed]",
            "text/plain": [
              "<Figure size 640x480 with 1 Axes>"
            ]
          },
          "metadata": {},
          "output_type": "display_data"
        }
      ],
      "source": [
        "plt.boxplot([df_art['Top 10%'], df_univ['Top 10%']], labels=['Lib Arts', 'Univ'])\n",
        "plt.show()"
      ]
    },
    {
      "cell_type": "code",
      "execution_count": null,
      "id": "859c7d2c",
      "metadata": {
        "id": "859c7d2c",
        "outputId": "b55a498f-db39-4cfd-8f39-da6fdf3398af"
      },
      "outputs": [
        {
          "data": {
            "image/png": "[encoded data removed]",
            "text/plain": [
              "<Figure size 640x480 with 1 Axes>"
            ]
          },
          "metadata": {},
          "output_type": "display_data"
        }
      ],
      "source": [
        "plt.boxplot([df_art['%PhD'], df_univ['%PhD']], labels=['Lib Arts', 'Univ'])\n",
        "plt.show()"
      ]
    },
    {
      "cell_type": "code",
      "execution_count": null,
      "id": "f30c3c38",
      "metadata": {
        "id": "f30c3c38",
        "outputId": "23c9c481-ca08-4201-a217-0717e32ba7a6"
      },
      "outputs": [
        {
          "data": {
            "image/png": "[encoded data removed]",
            "text/plain": [
              "<Figure size 640x480 with 1 Axes>"
            ]
          },
          "metadata": {},
          "output_type": "display_data"
        }
      ],
      "source": [
        "plt.boxplot([df_art['Grad%'], df_univ['Grad%']], labels=['Lib Arts', 'Univ'])\n",
        "plt.show()"
      ]
    },
    {
      "cell_type": "markdown",
      "id": "fb292e51-1a1d-44b6-ab6c-8fd3ff0acdc4",
      "metadata": {
        "id": "fb292e51-1a1d-44b6-ab6c-8fd3ff0acdc4"
      },
      "source": [
        "**Задание 3**\\\n",
        "Постройте гистограммы по каждой из характеристик (SAT ... Grad%) для каждого типа институтов. Какие из следующих утверждений верны (речь идет о наблюдаемых данных)?\n",
        "\n",
        "Hint: для каждой пары связанных утверждений, надо выбрать одно из них."
      ]
    },
    {
      "cell_type": "code",
      "execution_count": 3,
      "id": "9cbdd212-41f7-43bd-b580-6a0572783b7a",
      "metadata": {
        "id": "9cbdd212-41f7-43bd-b580-6a0572783b7a",
        "outputId": "2d55fc31-4952-43eb-825f-97eb21e8d77d",
        "colab": {
          "base_uri": "https://localhost:8080/",
          "height": 140
        }
      },
      "outputs": [
        {
          "output_type": "display_data",
          "data": {
            "text/plain": [
              "<IPython.core.display.HTML object>"
            ],
            "text/html": [
              "<input type=\"checkbox\" id=\"0\" checked>\n",
              "<label for=\"0\"></label>Распределение процента факультетов с Phd в школах искусств напоминает \"нормальное\"<br>\n",
              "\n",
              "<input type=\"checkbox\" id=\"1\">\n",
              "<label for=\"1\">Распределение процента факультетов с Phd в университетах напоминает \"нормальное\"</label><br>\n",
              "\n",
              "<input type=\"checkbox\" id=\"2\">\n",
              "<label for=\"2\"></label>Гистограмма процента студентов, которые успешно завершили университеты, имеет несколько пиков<br>\n",
              "\n",
              "<input type=\"checkbox\" id=\"3\" checked>\n",
              "<label for=\"3\">Гистограмма процента студентов, которые успешно завершили школы искусств, имеет несколько пиков</label><br>\n",
              "\n",
              "<input type=\"checkbox\" id=\"5\" checked>\n",
              "<label for=\"5\">В университетах процент факультетов с Phd выше</label><br>\n",
              "\n",
              "<input type=\"checkbox\" id=\"4\">\n",
              "<label for=\"4\">В школах искусств процент факультетов с Phd выше</label><br>\n"
            ]
          },
          "metadata": {}
        }
      ],
      "source": [
        "%%HTML\n",
        "<input type=\"checkbox\" id=\"0\" checked>\n",
        "<label for=\"0\"></label>Распределение процента факультетов с Phd в школах искусств напоминает \"нормальное\"<br>\n",
        "\n",
        "<input type=\"checkbox\" id=\"1\">\n",
        "<label for=\"1\">Распределение процента факультетов с Phd в университетах напоминает \"нормальное\"</label><br>\n",
        "\n",
        "<input type=\"checkbox\" id=\"2\">\n",
        "<label for=\"2\"></label>Гистограмма процента студентов, которые успешно завершили университеты, имеет несколько пиков<br>\n",
        "\n",
        "<input type=\"checkbox\" id=\"3\" checked>\n",
        "<label for=\"3\">Гистограмма процента студентов, которые успешно завершили школы искусств, имеет несколько пиков</label><br>\n",
        "\n",
        "<input type=\"checkbox\" id=\"5\" checked>\n",
        "<label for=\"5\">В университетах процент факультетов с Phd выше</label><br>\n",
        "\n",
        "<input type=\"checkbox\" id=\"4\">\n",
        "<label for=\"4\">В школах искусств процент факультетов с Phd выше</label><br>"
      ]
    },
    {
      "cell_type": "code",
      "execution_count": null,
      "id": "404c4af2",
      "metadata": {
        "id": "404c4af2",
        "outputId": "9ac889e9-3e03-4fcb-824b-223eeb2fcc01"
      },
      "outputs": [
        {
          "data": {
            "image/png": "[encoded data removed]",
            "text/plain": [
              "<Figure size 640x480 with 1 Axes>"
            ]
          },
          "metadata": {},
          "output_type": "display_data"
        }
      ],
      "source": [
        "plt.hist([df_art['SAT'], df_univ['SAT']])\n",
        "plt.legend(('Lib Arts', 'Univ'))\n",
        "plt.show()"
      ]
    },
    {
      "cell_type": "code",
      "execution_count": null,
      "id": "e7d8016f",
      "metadata": {
        "id": "e7d8016f",
        "outputId": "6aa45600-53f4-447f-b25f-eb0385993442"
      },
      "outputs": [
        {
          "data": {
            "image/png": "[encoded data removed]",
            "text/plain": [
              "<Figure size 640x480 with 1 Axes>"
            ]
          },
          "metadata": {},
          "output_type": "display_data"
        }
      ],
      "source": [
        "plt.hist([df_art['Acceptance'], df_univ['Acceptance']])\n",
        "plt.legend(('Lib Arts', 'Univ'))\n",
        "plt.show()"
      ]
    },
    {
      "cell_type": "code",
      "execution_count": null,
      "id": "b91665e3",
      "metadata": {
        "id": "b91665e3",
        "outputId": "3cd0e11b-fcaf-4da4-c035-d2ca4156b889"
      },
      "outputs": [
        {
          "data": {
            "image/png": "[encoded data removed]",
            "text/plain": [
              "<Figure size 640x480 with 1 Axes>"
            ]
          },
          "metadata": {},
          "output_type": "display_data"
        }
      ],
      "source": [
        "plt.hist([df_art['$/Student'], df_univ['$/Student']])\n",
        "plt.legend(('Lib Arts', 'Univ'))\n",
        "plt.show()"
      ]
    },
    {
      "cell_type": "code",
      "execution_count": null,
      "id": "8c1ebadd",
      "metadata": {
        "id": "8c1ebadd",
        "outputId": "8c415165-9ec6-421a-8b99-5b090491d583"
      },
      "outputs": [
        {
          "data": {
            "image/png": "[encoded data removed]",
            "text/plain": [
              "<Figure size 640x480 with 1 Axes>"
            ]
          },
          "metadata": {},
          "output_type": "display_data"
        }
      ],
      "source": [
        "plt.hist([df_art['Top 10%'], df_univ['Top 10%']])\n",
        "plt.legend(('Lib Arts', 'Univ'))\n",
        "plt.show()"
      ]
    },
    {
      "cell_type": "code",
      "execution_count": null,
      "id": "c22d29ac",
      "metadata": {
        "id": "c22d29ac",
        "outputId": "f4da7b64-fd08-4532-9a66-8af19af298d1"
      },
      "outputs": [
        {
          "data": {
            "image/png": "[encoded data removed]",
            "text/plain": [
              "<Figure size 640x480 with 1 Axes>"
            ]
          },
          "metadata": {},
          "output_type": "display_data"
        }
      ],
      "source": [
        "plt.hist([df_art['%PhD'], df_univ['%PhD']])\n",
        "plt.legend(('Lib Arts', 'Univ'))\n",
        "plt.show()"
      ]
    },
    {
      "cell_type": "code",
      "execution_count": null,
      "id": "247b5187",
      "metadata": {
        "id": "247b5187",
        "outputId": "0c73d75f-57a5-4d14-c402-af8c902b96a2"
      },
      "outputs": [
        {
          "data": {
            "image/png": "[encoded data removed]",
            "text/plain": [
              "<Figure size 640x480 with 1 Axes>"
            ]
          },
          "metadata": {},
          "output_type": "display_data"
        }
      ],
      "source": [
        "plt.hist([df_art['Grad%'], df_univ['Grad%']])\n",
        "plt.legend(('Lib Arts', 'Univ'))\n",
        "plt.show()"
      ]
    },
    {
      "cell_type": "markdown",
      "id": "a89a8af4-11cb-42c1-8da7-beaf90ee1163",
      "metadata": {
        "id": "a89a8af4-11cb-42c1-8da7-beaf90ee1163"
      },
      "source": [
        "**Задание 4**\\\n",
        "Найдите:\n",
        "+ выборочное среднее SAT школ искусств;\n",
        "+ 3й выборочный квартиль Acceptance университетов;\n",
        "+ название института(колледжа), в котором тратят денег в среднем на одного студента больше, чем в других институтах(колледжах)."
      ]
    },
    {
      "cell_type": "code",
      "execution_count": null,
      "id": "b63f0a91-148c-48af-92dd-1e376b5b3648",
      "metadata": {
        "id": "b63f0a91-148c-48af-92dd-1e376b5b3648",
        "outputId": "d86c4592-af0d-4700-da04-3dc19f787eff"
      },
      "outputs": [
        {
          "data": {
            "text/plain": [
              "1256.64"
            ]
          },
          "execution_count": 88,
          "metadata": {},
          "output_type": "execute_result"
        }
      ],
      "source": [
        "df_art['SAT'].mean()"
      ]
    },
    {
      "cell_type": "code",
      "execution_count": null,
      "id": "9c0aadd2",
      "metadata": {
        "id": "9c0aadd2",
        "outputId": "50eb5f51-57be-40de-e5bd-d1c1e49c2297"
      },
      "outputs": [
        {
          "data": {
            "text/plain": [
              "count    25.000000\n",
              "mean     35.120000\n",
              "std      13.875398\n",
              "min      17.000000\n",
              "25%      24.000000\n",
              "50%      31.000000\n",
              "75%      45.000000\n",
              "max      64.000000\n",
              "Name: Acceptance, dtype: float64"
            ]
          },
          "execution_count": 102,
          "metadata": {},
          "output_type": "execute_result"
        }
      ],
      "source": [
        "d = df_univ['Acceptance'].describe()\n",
        "d"
      ]
    },
    {
      "cell_type": "code",
      "execution_count": null,
      "id": "29229c27-67c1-4a74-8314-0c811c0a37f1",
      "metadata": {
        "id": "29229c27-67c1-4a74-8314-0c811c0a37f1",
        "outputId": "c54faf40-3f19-404d-c9e4-2acdd2847b6e"
      },
      "outputs": [
        {
          "data": {
            "text/plain": [
              "45.0"
            ]
          },
          "execution_count": 103,
          "metadata": {},
          "output_type": "execute_result"
        }
      ],
      "source": [
        "d[\"75%\"]"
      ]
    },
    {
      "cell_type": "code",
      "execution_count": null,
      "id": "f80af395",
      "metadata": {
        "id": "f80af395",
        "outputId": "0569a943-722e-44a8-adec-1b78a167d60a"
      },
      "outputs": [
        {
          "data": {
            "text/plain": [
              "count        25.000000\n",
              "mean      38738.840000\n",
              "std       17710.329859\n",
              "min       19365.000000\n",
              "25%       26730.000000\n",
              "50%       37137.000000\n",
              "75%       45879.000000\n",
              "max      102262.000000\n",
              "Name: $/Student, dtype: float64"
            ]
          },
          "execution_count": 104,
          "metadata": {},
          "output_type": "execute_result"
        }
      ],
      "source": [
        "df_univ['$/Student'].describe()"
      ]
    },
    {
      "cell_type": "code",
      "execution_count": null,
      "id": "160582ed",
      "metadata": {
        "id": "160582ed",
        "outputId": "01b017d2-87b1-4f88-e7d6-f2327e42fb99"
      },
      "outputs": [
        {
          "data": {
            "text/plain": [
              "29    Cal Tech\n",
              "Name: School, dtype: object"
            ]
          },
          "execution_count": 105,
          "metadata": {},
          "output_type": "execute_result"
        }
      ],
      "source": [
        "df_univ[df_univ['$/Student'] > (45879 + 1.5 * (45879 - 26730))]['School']"
      ]
    },
    {
      "cell_type": "code",
      "execution_count": null,
      "id": "95aa8edc",
      "metadata": {
        "id": "95aa8edc"
      },
      "outputs": [],
      "source": []
    }
  ],
  "metadata": {
    "colab": {
      "provenance": []
    },
    "kernelspec": {
      "display_name": "Python 3 (ipykernel)",
      "language": "python",
      "name": "python3"
    },
    "language_info": {
      "codemirror_mode": {
        "name": "ipython",
        "version": 3
      },
      "file_extension": ".py",
      "mimetype": "text/x-python",
      "name": "python",
      "nbconvert_exporter": "python",
      "pygments_lexer": "ipython3",
      "version": "3.11.4"
    }
  },
  "nbformat": 4,
  "nbformat_minor": 5
}